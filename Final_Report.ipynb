{
 "cells": [
  {
   "cell_type": "markdown",
   "metadata": {},
   "source": [
    "# DSCI 100 GROUP 15 Report\n",
    "\n",
    "### Hyunseok Jung, Jordan Sanders, Ivie Huang, Eden Vasica"
   ]
  },
  {
   "cell_type": "markdown",
   "metadata": {},
   "source": [
    "## Introduction\n",
    "\n",
    "The government of Canada provides historical data on weather and climate. Its' hourly weather data report consists of various climate observations such as temperature, humidity, and wind speed, as well as a column classifying the weather type (e.g. \"Mostly Cloudy\"). We are excited to test our ability to build a classification model for weather types based on climate observations from this dataset. To make our project more enjoyable and personal, we decided to work with historical weather and climate data provided by the 'Vancouver Intl A' weather station, which is not far from UBC. This facility, located in the Vancouver International Airport, is one of the most significant weather stations in Vancouver that collects measurements for weather forecasts and climate studies hourly. Unlike hourly data reports, daily and monthly data reports do not include a weather column making it impossible to build a classification model.\n",
    "\n",
    "Considering seasonal climate differences and fluctuations, we decided to focus on weather reports from June, to reduce the number of external factors affecting the observations. As we will be handling an hourly data report, we have sufficient observations to build a classification model. In addition, to minimize the influence of global warming on temperature for our classification model, we will use recent data to train our model: June 2020 and June 2021. For the testing set, we will be using reports from June 2022, which will allow us to use the most recent weather data available to check the accuracy of our classification model."
   ]
  },
  {
   "cell_type": "markdown",
   "metadata": {},
   "source": [
    "## Methods & Results\n",
    "\n",
    "(describe in written English the methods you used to perform your analysis from beginning to end that narrates the code the does the analysis.)"
   ]
  },
  {
   "cell_type": "code",
   "execution_count": 9,
   "metadata": {},
   "outputs": [
    {
     "ename": "ERROR",
     "evalue": "Error in library(themis): there is no package called ‘themis’\n",
     "output_type": "error",
     "traceback": [
      "Error in library(themis): there is no package called ‘themis’\nTraceback:\n",
      "1. library(themis)"
     ]
    }
   ],
   "source": [
    "library(tidyverse)\n",
    "library(repr)\n",
    "library(tidymodels)\n",
    "library(GGally)\n",
    "library(themis)"
   ]
  },
  {
   "cell_type": "code",
   "execution_count": 11,
   "metadata": {},
   "outputs": [
    {
     "name": "stderr",
     "output_type": "stream",
     "text": [
      "Parsed with column specification:\n",
      "cols(\n",
      "  Temp = \u001b[32mcol_double()\u001b[39m,\n",
      "  Humid = \u001b[32mcol_double()\u001b[39m,\n",
      "  Wind_Spd = \u001b[32mcol_double()\u001b[39m,\n",
      "  Vis = \u001b[32mcol_double()\u001b[39m,\n",
      "  Press = \u001b[32mcol_double()\u001b[39m,\n",
      "  Weather = \u001b[31mcol_character()\u001b[39m\n",
      ")\n",
      "\n"
     ]
    },
    {
     "data": {
      "text/html": [
       "<table>\n",
       "<caption>A spec_tbl_df: 3914 × 6</caption>\n",
       "<thead>\n",
       "\t<tr><th scope=col>Temp</th><th scope=col>Humid</th><th scope=col>Wind_Spd</th><th scope=col>Vis</th><th scope=col>Press</th><th scope=col>Weather</th></tr>\n",
       "\t<tr><th scope=col>&lt;dbl&gt;</th><th scope=col>&lt;dbl&gt;</th><th scope=col>&lt;dbl&gt;</th><th scope=col>&lt;dbl&gt;</th><th scope=col>&lt;dbl&gt;</th><th scope=col>&lt;chr&gt;</th></tr>\n",
       "</thead>\n",
       "<tbody>\n",
       "\t<tr><td>12.8</td><td>100</td><td> 4</td><td>32.2</td><td>101.78</td><td>Mostly Cloudy</td></tr>\n",
       "\t<tr><td>10.4</td><td>100</td><td> 4</td><td>32.2</td><td>101.72</td><td>Mostly Cloudy</td></tr>\n",
       "\t<tr><td>15.3</td><td> 80</td><td> 3</td><td>48.3</td><td>101.72</td><td>Mostly Cloudy</td></tr>\n",
       "\t<tr><td>16.8</td><td> 85</td><td>19</td><td>48.3</td><td>101.65</td><td>Mostly Cloudy</td></tr>\n",
       "\t<tr><td>17.2</td><td> 84</td><td>18</td><td>48.3</td><td>101.54</td><td>Cloudy       </td></tr>\n",
       "\t<tr><td>⋮</td><td>⋮</td><td>⋮</td><td>⋮</td><td>⋮</td><td>⋮</td></tr>\n",
       "\t<tr><td>15.7</td><td>81</td><td>12</td><td>32.2</td><td>102.19</td><td>Cloudy       </td></tr>\n",
       "\t<tr><td>17.3</td><td>72</td><td> 9</td><td>48.3</td><td>102.19</td><td>Mostly Cloudy</td></tr>\n",
       "\t<tr><td>16.4</td><td>69</td><td>15</td><td>32.2</td><td>102.14</td><td>Mainly Clear </td></tr>\n",
       "\t<tr><td>14.6</td><td>83</td><td>13</td><td>32.2</td><td>102.24</td><td>Mostly Cloudy</td></tr>\n",
       "</tbody>\n",
       "</table>\n"
      ],
      "text/latex": [
       "A spec\\_tbl\\_df: 3914 × 6\n",
       "\\begin{tabular}{llllll}\n",
       " Temp & Humid & Wind\\_Spd & Vis & Press & Weather\\\\\n",
       " <dbl> & <dbl> & <dbl> & <dbl> & <dbl> & <chr>\\\\\n",
       "\\hline\n",
       "\t 12.8 & 100 &  4 & 32.2 & 101.78 & Mostly Cloudy\\\\\n",
       "\t 10.4 & 100 &  4 & 32.2 & 101.72 & Mostly Cloudy\\\\\n",
       "\t 15.3 &  80 &  3 & 48.3 & 101.72 & Mostly Cloudy\\\\\n",
       "\t 16.8 &  85 & 19 & 48.3 & 101.65 & Mostly Cloudy\\\\\n",
       "\t 17.2 &  84 & 18 & 48.3 & 101.54 & Cloudy       \\\\\n",
       "\t ⋮ & ⋮ & ⋮ & ⋮ & ⋮ & ⋮\\\\\n",
       "\t 15.7 & 81 & 12 & 32.2 & 102.19 & Cloudy       \\\\\n",
       "\t 17.3 & 72 &  9 & 48.3 & 102.19 & Mostly Cloudy\\\\\n",
       "\t 16.4 & 69 & 15 & 32.2 & 102.14 & Mainly Clear \\\\\n",
       "\t 14.6 & 83 & 13 & 32.2 & 102.24 & Mostly Cloudy\\\\\n",
       "\\end{tabular}\n"
      ],
      "text/markdown": [
       "\n",
       "A spec_tbl_df: 3914 × 6\n",
       "\n",
       "| Temp &lt;dbl&gt; | Humid &lt;dbl&gt; | Wind_Spd &lt;dbl&gt; | Vis &lt;dbl&gt; | Press &lt;dbl&gt; | Weather &lt;chr&gt; |\n",
       "|---|---|---|---|---|---|\n",
       "| 12.8 | 100 |  4 | 32.2 | 101.78 | Mostly Cloudy |\n",
       "| 10.4 | 100 |  4 | 32.2 | 101.72 | Mostly Cloudy |\n",
       "| 15.3 |  80 |  3 | 48.3 | 101.72 | Mostly Cloudy |\n",
       "| 16.8 |  85 | 19 | 48.3 | 101.65 | Mostly Cloudy |\n",
       "| 17.2 |  84 | 18 | 48.3 | 101.54 | Cloudy        |\n",
       "| ⋮ | ⋮ | ⋮ | ⋮ | ⋮ | ⋮ |\n",
       "| 15.7 | 81 | 12 | 32.2 | 102.19 | Cloudy        |\n",
       "| 17.3 | 72 |  9 | 48.3 | 102.19 | Mostly Cloudy |\n",
       "| 16.4 | 69 | 15 | 32.2 | 102.14 | Mainly Clear  |\n",
       "| 14.6 | 83 | 13 | 32.2 | 102.24 | Mostly Cloudy |\n",
       "\n"
      ],
      "text/plain": [
       "     Temp Humid Wind_Spd Vis  Press  Weather      \n",
       "1    12.8 100    4       32.2 101.78 Mostly Cloudy\n",
       "2    10.4 100    4       32.2 101.72 Mostly Cloudy\n",
       "3    15.3  80    3       48.3 101.72 Mostly Cloudy\n",
       "4    16.8  85   19       48.3 101.65 Mostly Cloudy\n",
       "5    17.2  84   18       48.3 101.54 Cloudy       \n",
       "⋮    ⋮    ⋮     ⋮        ⋮    ⋮      ⋮            \n",
       "3911 15.7 81    12       32.2 102.19 Cloudy       \n",
       "3912 17.3 72     9       48.3 102.19 Mostly Cloudy\n",
       "3913 16.4 69    15       32.2 102.14 Mainly Clear \n",
       "3914 14.6 83    13       32.2 102.24 Mostly Cloudy"
      ]
     },
     "metadata": {},
     "output_type": "display_data"
    },
    {
     "data": {
      "text/html": [
       "<table>\n",
       "<caption>A spec_tbl_df: 500 × 6</caption>\n",
       "<thead>\n",
       "\t<tr><th scope=col>Temp</th><th scope=col>Humid</th><th scope=col>Wind_Spd</th><th scope=col>Vis</th><th scope=col>Press</th><th scope=col>Weather</th></tr>\n",
       "\t<tr><th scope=col>&lt;dbl&gt;</th><th scope=col>&lt;dbl&gt;</th><th scope=col>&lt;dbl&gt;</th><th scope=col>&lt;dbl&gt;</th><th scope=col>&lt;dbl&gt;</th><th scope=col>&lt;fct&gt;</th></tr>\n",
       "</thead>\n",
       "<tbody>\n",
       "\t<tr><td>15.9</td><td>81</td><td>18</td><td>48.3</td><td>100.73</td><td>Rain Showers </td></tr>\n",
       "\t<tr><td>12.0</td><td>84</td><td>28</td><td>32.2</td><td>101.89</td><td>Mostly Cloudy</td></tr>\n",
       "\t<tr><td>15.3</td><td>96</td><td>21</td><td>24.1</td><td>100.54</td><td>Rain         </td></tr>\n",
       "\t<tr><td>15.6</td><td>77</td><td>16</td><td>48.3</td><td>101.49</td><td>Mostly Cloudy</td></tr>\n",
       "\t<tr><td>19.0</td><td>74</td><td>11</td><td>48.3</td><td>101.18</td><td>Cloudy       </td></tr>\n",
       "\t<tr><td>⋮</td><td>⋮</td><td>⋮</td><td>⋮</td><td>⋮</td><td>⋮</td></tr>\n",
       "\t<tr><td>13.1</td><td>83</td><td> 8</td><td>32.2</td><td>102.08</td><td>Mainly Clear </td></tr>\n",
       "\t<tr><td>18.6</td><td>79</td><td>18</td><td>48.3</td><td>100.48</td><td>Mostly Cloudy</td></tr>\n",
       "\t<tr><td>18.6</td><td>79</td><td>18</td><td>48.3</td><td>100.48</td><td>Mostly Cloudy</td></tr>\n",
       "\t<tr><td>19.7</td><td>59</td><td>16</td><td>48.3</td><td>100.51</td><td>Mostly Cloudy</td></tr>\n",
       "</tbody>\n",
       "</table>\n"
      ],
      "text/latex": [
       "A spec\\_tbl\\_df: 500 × 6\n",
       "\\begin{tabular}{llllll}\n",
       " Temp & Humid & Wind\\_Spd & Vis & Press & Weather\\\\\n",
       " <dbl> & <dbl> & <dbl> & <dbl> & <dbl> & <fct>\\\\\n",
       "\\hline\n",
       "\t 15.9 & 81 & 18 & 48.3 & 100.73 & Rain Showers \\\\\n",
       "\t 12.0 & 84 & 28 & 32.2 & 101.89 & Mostly Cloudy\\\\\n",
       "\t 15.3 & 96 & 21 & 24.1 & 100.54 & Rain         \\\\\n",
       "\t 15.6 & 77 & 16 & 48.3 & 101.49 & Mostly Cloudy\\\\\n",
       "\t 19.0 & 74 & 11 & 48.3 & 101.18 & Cloudy       \\\\\n",
       "\t ⋮ & ⋮ & ⋮ & ⋮ & ⋮ & ⋮\\\\\n",
       "\t 13.1 & 83 &  8 & 32.2 & 102.08 & Mainly Clear \\\\\n",
       "\t 18.6 & 79 & 18 & 48.3 & 100.48 & Mostly Cloudy\\\\\n",
       "\t 18.6 & 79 & 18 & 48.3 & 100.48 & Mostly Cloudy\\\\\n",
       "\t 19.7 & 59 & 16 & 48.3 & 100.51 & Mostly Cloudy\\\\\n",
       "\\end{tabular}\n"
      ],
      "text/markdown": [
       "\n",
       "A spec_tbl_df: 500 × 6\n",
       "\n",
       "| Temp &lt;dbl&gt; | Humid &lt;dbl&gt; | Wind_Spd &lt;dbl&gt; | Vis &lt;dbl&gt; | Press &lt;dbl&gt; | Weather &lt;fct&gt; |\n",
       "|---|---|---|---|---|---|\n",
       "| 15.9 | 81 | 18 | 48.3 | 100.73 | Rain Showers  |\n",
       "| 12.0 | 84 | 28 | 32.2 | 101.89 | Mostly Cloudy |\n",
       "| 15.3 | 96 | 21 | 24.1 | 100.54 | Rain          |\n",
       "| 15.6 | 77 | 16 | 48.3 | 101.49 | Mostly Cloudy |\n",
       "| 19.0 | 74 | 11 | 48.3 | 101.18 | Cloudy        |\n",
       "| ⋮ | ⋮ | ⋮ | ⋮ | ⋮ | ⋮ |\n",
       "| 13.1 | 83 |  8 | 32.2 | 102.08 | Mainly Clear  |\n",
       "| 18.6 | 79 | 18 | 48.3 | 100.48 | Mostly Cloudy |\n",
       "| 18.6 | 79 | 18 | 48.3 | 100.48 | Mostly Cloudy |\n",
       "| 19.7 | 59 | 16 | 48.3 | 100.51 | Mostly Cloudy |\n",
       "\n"
      ],
      "text/plain": [
       "    Temp Humid Wind_Spd Vis  Press  Weather      \n",
       "1   15.9 81    18       48.3 100.73 Rain Showers \n",
       "2   12.0 84    28       32.2 101.89 Mostly Cloudy\n",
       "3   15.3 96    21       24.1 100.54 Rain         \n",
       "4   15.6 77    16       48.3 101.49 Mostly Cloudy\n",
       "5   19.0 74    11       48.3 101.18 Cloudy       \n",
       "⋮   ⋮    ⋮     ⋮        ⋮    ⋮      ⋮            \n",
       "497 13.1 83     8       32.2 102.08 Mainly Clear \n",
       "498 18.6 79    18       48.3 100.48 Mostly Cloudy\n",
       "499 18.6 79    18       48.3 100.48 Mostly Cloudy\n",
       "500 19.7 59    16       48.3 100.51 Mostly Cloudy"
      ]
     },
     "metadata": {},
     "output_type": "display_data"
    }
   ],
   "source": [
    "options(repr.matrix.max.rows = 9)\n",
    "set.seed(2022) #we need this to make our code reproducible, since sample is a random function\n",
    "\n",
    "weather_data <- read_csv(\"https://raw.githubusercontent.com/hyunseokjg/DSCI100-Group15-Project/main/data/testing_set.csv\")\n",
    "weather_data\n",
    "\n",
    "#Let's remove the very rare weather classes for simplicity and so we do not overreppresent them when we balance our data\n",
    "\n",
    "filtered_weather_data <- weather_data %>%\n",
    "    filter(Weather != \"Heavy Rain\", \n",
    "           Weather != \"Moderate Rain\",\n",
    "           Weather != \"Clear\",\n",
    "           Weather != \"Moderate Rain,Fog\") %>%\n",
    "    mutate(Weather = as_factor(Weather)) %>%\n",
    "    sample_n(500)\n",
    "filtered_weather_data\n",
    "\n",
    "#Now we can split our dataset into training and testing sets using the initial_split function so we don't create our model with the same\n",
    "#data that we will use to test it later on.\n",
    "\n",
    "weather_split <- initial_split(filtered_weather_data, prop = 0.75, strata = Weather)\n",
    "weather_train = training(weather_split)\n",
    "weather_test = testing(weather_split)"
   ]
  },
  {
   "cell_type": "code",
   "execution_count": 12,
   "metadata": {},
   "outputs": [
    {
     "name": "stderr",
     "output_type": "stream",
     "text": [
      "`summarise()` ungrouping output (override with `.groups` argument)\n",
      "\n"
     ]
    },
    {
     "data": {
      "text/html": [
       "<table>\n",
       "<caption>A tibble: 5 × 3</caption>\n",
       "<thead>\n",
       "\t<tr><th scope=col>Weather</th><th scope=col>n</th><th scope=col>percent</th></tr>\n",
       "\t<tr><th scope=col>&lt;fct&gt;</th><th scope=col>&lt;int&gt;</th><th scope=col>&lt;dbl&gt;</th></tr>\n",
       "</thead>\n",
       "<tbody>\n",
       "\t<tr><td>Mostly Cloudy</td><td>113</td><td>29.97347</td></tr>\n",
       "\t<tr><td>Cloudy       </td><td> 84</td><td>22.28117</td></tr>\n",
       "\t<tr><td>Rain Showers </td><td> 30</td><td> 7.95756</td></tr>\n",
       "\t<tr><td>Rain         </td><td>103</td><td>27.32095</td></tr>\n",
       "\t<tr><td>Mainly Clear </td><td> 47</td><td>12.46684</td></tr>\n",
       "</tbody>\n",
       "</table>\n"
      ],
      "text/latex": [
       "A tibble: 5 × 3\n",
       "\\begin{tabular}{lll}\n",
       " Weather & n & percent\\\\\n",
       " <fct> & <int> & <dbl>\\\\\n",
       "\\hline\n",
       "\t Mostly Cloudy & 113 & 29.97347\\\\\n",
       "\t Cloudy        &  84 & 22.28117\\\\\n",
       "\t Rain Showers  &  30 &  7.95756\\\\\n",
       "\t Rain          & 103 & 27.32095\\\\\n",
       "\t Mainly Clear  &  47 & 12.46684\\\\\n",
       "\\end{tabular}\n"
      ],
      "text/markdown": [
       "\n",
       "A tibble: 5 × 3\n",
       "\n",
       "| Weather &lt;fct&gt; | n &lt;int&gt; | percent &lt;dbl&gt; |\n",
       "|---|---|---|\n",
       "| Mostly Cloudy | 113 | 29.97347 |\n",
       "| Cloudy        |  84 | 22.28117 |\n",
       "| Rain Showers  |  30 |  7.95756 |\n",
       "| Rain          | 103 | 27.32095 |\n",
       "| Mainly Clear  |  47 | 12.46684 |\n",
       "\n"
      ],
      "text/plain": [
       "  Weather       n   percent \n",
       "1 Mostly Cloudy 113 29.97347\n",
       "2 Cloudy         84 22.28117\n",
       "3 Rain Showers   30  7.95756\n",
       "4 Rain          103 27.32095\n",
       "5 Mainly Clear   47 12.46684"
      ]
     },
     "metadata": {},
     "output_type": "display_data"
    }
   ],
   "source": [
    "#check to see if proportions of data are close enough to use or if we should scale up some\n",
    "#of the other weather classifications\n",
    "\n",
    "number_rows <- nrow(weather_train)\n",
    "\n",
    "proportions <- weather_train %>%\n",
    "    group_by(Weather) %>%\n",
    "    summarize(n = n()) %>%\n",
    "    mutate(percent = 100*n/number_rows)\n",
    "proportions"
   ]
  },
  {
   "cell_type": "code",
   "execution_count": 13,
   "metadata": {},
   "outputs": [
    {
     "name": "stderr",
     "output_type": "stream",
     "text": [
      "Warning message:\n",
      "“`step_upsample()` is deprecated as of recipes 0.1.13.\n",
      "Please use `themis::step_upsample()` instead.\n",
      "\u001b[90mThis warning is displayed once every 8 hours.\u001b[39m\n",
      "\u001b[90mCall `lifecycle::last_warnings()` to see where this warning was generated.\u001b[39m”\n",
      "`summarise()` ungrouping output (override with `.groups` argument)\n",
      "\n"
     ]
    },
    {
     "data": {
      "text/html": [
       "<table>\n",
       "<caption>A tibble: 5 × 3</caption>\n",
       "<thead>\n",
       "\t<tr><th scope=col>Weather</th><th scope=col>n</th><th scope=col>percent</th></tr>\n",
       "\t<tr><th scope=col>&lt;fct&gt;</th><th scope=col>&lt;int&gt;</th><th scope=col>&lt;dbl&gt;</th></tr>\n",
       "</thead>\n",
       "<tbody>\n",
       "\t<tr><td>Mostly Cloudy</td><td>113</td><td>29.97347</td></tr>\n",
       "\t<tr><td>Cloudy       </td><td>113</td><td>29.97347</td></tr>\n",
       "\t<tr><td>Rain Showers </td><td>113</td><td>29.97347</td></tr>\n",
       "\t<tr><td>Rain         </td><td>113</td><td>29.97347</td></tr>\n",
       "\t<tr><td>Mainly Clear </td><td>113</td><td>29.97347</td></tr>\n",
       "</tbody>\n",
       "</table>\n"
      ],
      "text/latex": [
       "A tibble: 5 × 3\n",
       "\\begin{tabular}{lll}\n",
       " Weather & n & percent\\\\\n",
       " <fct> & <int> & <dbl>\\\\\n",
       "\\hline\n",
       "\t Mostly Cloudy & 113 & 29.97347\\\\\n",
       "\t Cloudy        & 113 & 29.97347\\\\\n",
       "\t Rain Showers  & 113 & 29.97347\\\\\n",
       "\t Rain          & 113 & 29.97347\\\\\n",
       "\t Mainly Clear  & 113 & 29.97347\\\\\n",
       "\\end{tabular}\n"
      ],
      "text/markdown": [
       "\n",
       "A tibble: 5 × 3\n",
       "\n",
       "| Weather &lt;fct&gt; | n &lt;int&gt; | percent &lt;dbl&gt; |\n",
       "|---|---|---|\n",
       "| Mostly Cloudy | 113 | 29.97347 |\n",
       "| Cloudy        | 113 | 29.97347 |\n",
       "| Rain Showers  | 113 | 29.97347 |\n",
       "| Rain          | 113 | 29.97347 |\n",
       "| Mainly Clear  | 113 | 29.97347 |\n",
       "\n"
      ],
      "text/plain": [
       "  Weather       n   percent \n",
       "1 Mostly Cloudy 113 29.97347\n",
       "2 Cloudy        113 29.97347\n",
       "3 Rain Showers  113 29.97347\n",
       "4 Rain          113 29.97347\n",
       "5 Mainly Clear  113 29.97347"
      ]
     },
     "metadata": {},
     "output_type": "display_data"
    }
   ],
   "source": [
    "#now because we can see our classes are unbalanced, we want to balance our classes using scale_upsample\n",
    "ups_recipe <- recipe(Weather ~ ., data = weather_train) %>%\n",
    "    step_upsample(Weather, over_ratio = 1, skip = FALSE) %>%\n",
    "    prep()\n",
    "\n",
    "#now we create our new data set with balanced classes\n",
    "upsampled_weather <- bake(ups_recipe, weather_train)\n",
    "\n",
    "#now we check weather our classes have been properly balanced\n",
    "upsampled_weather %>% group_by(Weather) %>%\n",
    "    summarize(n = n()) %>%\n",
    "    mutate(percent = 100*n/number_rows)"
   ]
  },
  {
   "cell_type": "code",
   "execution_count": 15,
   "metadata": {},
   "outputs": [],
   "source": [
    "#now we will create the functions we will use many times later in forward selection and our final model. \n",
    "weather_knn <- nearest_neighbor(weight_func = \"rectangular\", neighbors = tune()) %>%\n",
    "    set_engine(\"kknn\") %>%\n",
    "    set_mode(\"classification\")\n",
    "\n",
    "weather_vfold <- vfold_cv(weather_train, v = 5, strata = Weather)\n",
    "\n",
    "k_grid <- tibble(neighbors = 1:30)"
   ]
  },
  {
   "cell_type": "markdown",
   "metadata": {},
   "source": [
    "### Forward Selection - Predictor Variable Selection Process"
   ]
  },
  {
   "cell_type": "markdown",
   "metadata": {},
   "source": [
    "#### Phase 1: One Variable"
   ]
  },
  {
   "cell_type": "code",
   "execution_count": 16,
   "metadata": {},
   "outputs": [
    {
     "data": {
      "text/html": [
       "<table>\n",
       "<caption>A tibble: 30 × 7</caption>\n",
       "<thead>\n",
       "\t<tr><th scope=col>neighbors</th><th scope=col>.metric</th><th scope=col>.estimator</th><th scope=col>mean</th><th scope=col>n</th><th scope=col>std_err</th><th scope=col>.config</th></tr>\n",
       "\t<tr><th scope=col>&lt;int&gt;</th><th scope=col>&lt;chr&gt;</th><th scope=col>&lt;chr&gt;</th><th scope=col>&lt;dbl&gt;</th><th scope=col>&lt;int&gt;</th><th scope=col>&lt;dbl&gt;</th><th scope=col>&lt;chr&gt;</th></tr>\n",
       "</thead>\n",
       "<tbody>\n",
       "\t<tr><td>1</td><td>accuracy</td><td>multiclass</td><td>0.4695775</td><td>5</td><td>0.02861804</td><td>Model01</td></tr>\n",
       "\t<tr><td>2</td><td>accuracy</td><td>multiclass</td><td>0.4614380</td><td>5</td><td>0.02977479</td><td>Model02</td></tr>\n",
       "\t<tr><td>6</td><td>accuracy</td><td>multiclass</td><td>0.4454379</td><td>5</td><td>0.03868929</td><td>Model06</td></tr>\n",
       "\t<tr><td>4</td><td>accuracy</td><td>multiclass</td><td>0.4272533</td><td>5</td><td>0.02184482</td><td>Model04</td></tr>\n",
       "\t<tr><td>5</td><td>accuracy</td><td>multiclass</td><td>0.4271480</td><td>5</td><td>0.01707320</td><td>Model05</td></tr>\n",
       "\t<tr><td>⋮</td><td>⋮</td><td>⋮</td><td>⋮</td><td>⋮</td><td>⋮</td><td>⋮</td></tr>\n",
       "\t<tr><td>19</td><td>accuracy</td><td>multiclass</td><td>0.3636576</td><td>5</td><td>0.00926839</td><td>Model19</td></tr>\n",
       "\t<tr><td>13</td><td>accuracy</td><td>multiclass</td><td>0.3636234</td><td>5</td><td>0.01069845</td><td>Model13</td></tr>\n",
       "\t<tr><td>21</td><td>accuracy</td><td>multiclass</td><td>0.3633731</td><td>5</td><td>0.01195190</td><td>Model21</td></tr>\n",
       "\t<tr><td>22</td><td>accuracy</td><td>multiclass</td><td>0.3580416</td><td>5</td><td>0.01338317</td><td>Model22</td></tr>\n",
       "</tbody>\n",
       "</table>\n"
      ],
      "text/latex": [
       "A tibble: 30 × 7\n",
       "\\begin{tabular}{lllllll}\n",
       " neighbors & .metric & .estimator & mean & n & std\\_err & .config\\\\\n",
       " <int> & <chr> & <chr> & <dbl> & <int> & <dbl> & <chr>\\\\\n",
       "\\hline\n",
       "\t 1 & accuracy & multiclass & 0.4695775 & 5 & 0.02861804 & Model01\\\\\n",
       "\t 2 & accuracy & multiclass & 0.4614380 & 5 & 0.02977479 & Model02\\\\\n",
       "\t 6 & accuracy & multiclass & 0.4454379 & 5 & 0.03868929 & Model06\\\\\n",
       "\t 4 & accuracy & multiclass & 0.4272533 & 5 & 0.02184482 & Model04\\\\\n",
       "\t 5 & accuracy & multiclass & 0.4271480 & 5 & 0.01707320 & Model05\\\\\n",
       "\t ⋮ & ⋮ & ⋮ & ⋮ & ⋮ & ⋮ & ⋮\\\\\n",
       "\t 19 & accuracy & multiclass & 0.3636576 & 5 & 0.00926839 & Model19\\\\\n",
       "\t 13 & accuracy & multiclass & 0.3636234 & 5 & 0.01069845 & Model13\\\\\n",
       "\t 21 & accuracy & multiclass & 0.3633731 & 5 & 0.01195190 & Model21\\\\\n",
       "\t 22 & accuracy & multiclass & 0.3580416 & 5 & 0.01338317 & Model22\\\\\n",
       "\\end{tabular}\n"
      ],
      "text/markdown": [
       "\n",
       "A tibble: 30 × 7\n",
       "\n",
       "| neighbors &lt;int&gt; | .metric &lt;chr&gt; | .estimator &lt;chr&gt; | mean &lt;dbl&gt; | n &lt;int&gt; | std_err &lt;dbl&gt; | .config &lt;chr&gt; |\n",
       "|---|---|---|---|---|---|---|\n",
       "| 1 | accuracy | multiclass | 0.4695775 | 5 | 0.02861804 | Model01 |\n",
       "| 2 | accuracy | multiclass | 0.4614380 | 5 | 0.02977479 | Model02 |\n",
       "| 6 | accuracy | multiclass | 0.4454379 | 5 | 0.03868929 | Model06 |\n",
       "| 4 | accuracy | multiclass | 0.4272533 | 5 | 0.02184482 | Model04 |\n",
       "| 5 | accuracy | multiclass | 0.4271480 | 5 | 0.01707320 | Model05 |\n",
       "| ⋮ | ⋮ | ⋮ | ⋮ | ⋮ | ⋮ | ⋮ |\n",
       "| 19 | accuracy | multiclass | 0.3636576 | 5 | 0.00926839 | Model19 |\n",
       "| 13 | accuracy | multiclass | 0.3636234 | 5 | 0.01069845 | Model13 |\n",
       "| 21 | accuracy | multiclass | 0.3633731 | 5 | 0.01195190 | Model21 |\n",
       "| 22 | accuracy | multiclass | 0.3580416 | 5 | 0.01338317 | Model22 |\n",
       "\n"
      ],
      "text/plain": [
       "   neighbors .metric  .estimator mean      n std_err    .config\n",
       "1  1         accuracy multiclass 0.4695775 5 0.02861804 Model01\n",
       "2  2         accuracy multiclass 0.4614380 5 0.02977479 Model02\n",
       "3  6         accuracy multiclass 0.4454379 5 0.03868929 Model06\n",
       "4  4         accuracy multiclass 0.4272533 5 0.02184482 Model04\n",
       "5  5         accuracy multiclass 0.4271480 5 0.01707320 Model05\n",
       "⋮  ⋮         ⋮        ⋮          ⋮         ⋮ ⋮          ⋮      \n",
       "27 19        accuracy multiclass 0.3636576 5 0.00926839 Model19\n",
       "28 13        accuracy multiclass 0.3636234 5 0.01069845 Model13\n",
       "29 21        accuracy multiclass 0.3633731 5 0.01195190 Model21\n",
       "30 22        accuracy multiclass 0.3580416 5 0.01338317 Model22"
      ]
     },
     "metadata": {},
     "output_type": "display_data"
    },
    {
     "data": {
      "image/png": "[encoded data removed]",
      "text/plain": [
       "plot without title"
      ]
     },
     "metadata": {
      "image/png": {
       "height": 420,
       "width": 420
      }
     },
     "output_type": "display_data"
    }
   ],
   "source": [
    "# Model 1.1 - Temperature\n",
    "temp_recipe <- recipe(Weather ~ Temp, data = upsampled_weather) %>%\n",
    "    step_center(all_predictors()) %>%\n",
    "    step_scale(all_predictors())\n",
    "\n",
    "temp_fit <- workflow() %>%\n",
    "    add_recipe(temp_recipe) %>%\n",
    "    add_model(weather_knn) %>%\n",
    "    tune_grid(resamples = weather_vfold, grid = k_grid) %>%\n",
    "    collect_metrics()\n",
    "\n",
    "temp_accuracy <- temp_fit %>%\n",
    "    filter(.metric == \"accuracy\") %>%\n",
    "    arrange(-mean)\n",
    "temp_accuracy\n",
    "\n",
    "temp_accuracy_plot <- temp_accuracy %>%\n",
    "    ggplot(aes(x = neighbors, y = mean)) + \n",
    "    geom_point() + \n",
    "    geom_line()\n",
    "temp_accuracy_plot"
   ]
  },
  {
   "cell_type": "code",
   "execution_count": null,
   "metadata": {},
   "outputs": [],
   "source": [
    "# Model 2.1 - Humidity\n",
    "humid_recipe <- recipe(Weather ~ Humid, data = upsampled_weather) %>%\n",
    "    step_center(all_predictors()) %>%\n",
    "    step_scale(all_predictors())\n",
    "\n",
    "humid_fit <- workflow() %>%\n",
    "    add_recipe(humid_recipe) %>%\n",
    "    add_model(weather_knn) %>%\n",
    "    tune_grid(resamples = weather_vfold, grid = k_grid) %>%\n",
    "    collect_metrics()\n",
    "\n",
    "humid_accuracy <- humid_fit %>%\n",
    "    filter(.metric == \"accuracy\") %>%\n",
    "    arrange(-mean)\n",
    "humid_accuracy\n",
    "\n",
    "humid_accuracy_plot <- humid_accuracy %>%\n",
    "    ggplot(aes(x = neighbors, y = mean)) + \n",
    "    geom_point() + \n",
    "    geom_line()\n",
    "humid_accuracy_plot"
   ]
  },
  {
   "cell_type": "code",
   "execution_count": null,
   "metadata": {},
   "outputs": [],
   "source": [
    "# Model 3.1 - Wind Speed\n",
    "wind_recipe <- recipe(Weather ~ Wind_Spd, data = upsampled_weather) %>%\n",
    "    step_center(all_predictors()) %>%\n",
    "    step_scale(all_predictors())\n",
    "\n",
    "wind_fit <- workflow() %>%\n",
    "    add_recipe(wind_recipe) %>%\n",
    "    add_model(weather_knn) %>%\n",
    "    tune_grid(resamples = weather_vfold, grid = k_grid) %>%\n",
    "    collect_metrics()\n",
    "\n",
    "wind_accuracy <- wind_fit %>%\n",
    "    filter(.metric == \"accuracy\") %>%\n",
    "    arrange(-mean)\n",
    "wind_accuracy\n",
    "\n",
    "wind_accuracy_plot <- wind_accuracy %>%\n",
    "    ggplot(aes(x = neighbors, y = mean)) + \n",
    "    geom_point() + \n",
    "    geom_line()\n",
    "wind_accuracy_plot"
   ]
  },
  {
   "cell_type": "code",
   "execution_count": null,
   "metadata": {},
   "outputs": [],
   "source": [
    "# Model 4.1 - Visability\n",
    "vis_recipe <- recipe(Weather ~ Vis, data = upsampled_weather) %>%\n",
    "    step_center(all_predictors()) %>%\n",
    "    step_scale(all_predictors())\n",
    "\n",
    "vis_fit <- workflow() %>%\n",
    "    add_recipe(vis_recipe) %>%\n",
    "    add_model(weather_knn) %>%\n",
    "    tune_grid(resamples = weather_vfold, grid = k_grid) %>%\n",
    "    collect_metrics()\n",
    "\n",
    "vis_accuracy <- vis_fit %>%\n",
    "    filter(.metric == \"accuracy\") %>%\n",
    "    arrange(-mean)\n",
    "vis_accuracy\n",
    "\n",
    "vis_accuracy_plot <- vis_accuracy %>%\n",
    "    ggplot(aes(x = neighbors, y = mean)) + \n",
    "    geom_point() + \n",
    "    geom_line()\n",
    "vis_accuracy_plot"
   ]
  },
  {
   "cell_type": "code",
   "execution_count": null,
   "metadata": {},
   "outputs": [],
   "source": [
    "# Model 5.1 - Air Pressure\n",
    "press_recipe <- recipe(Weather ~ Press, data = upsampled_weather) %>%\n",
    "    step_center(all_predictors()) %>%\n",
    "    step_scale(all_predictors())\n",
    "\n",
    "press_fit <- workflow() %>%\n",
    "    add_recipe(press_recipe) %>%\n",
    "    add_model(weather_knn) %>%\n",
    "    tune_grid(resamples = weather_vfold, grid = k_grid) %>%\n",
    "    collect_metrics()\n",
    "\n",
    "press_accuracy <- press_fit %>%\n",
    "    filter(.metric == \"accuracy\") %>%\n",
    "    arrange(-mean)\n",
    "press_accuracy\n",
    "\n",
    "press_accuracy_plot <- press_accuracy %>%\n",
    "    ggplot(aes(x = neighbors, y = mean)) + \n",
    "    geom_point() + \n",
    "    geom_line()\n",
    "press_accuracy_plot"
   ]
  },
  {
   "cell_type": "markdown",
   "metadata": {},
   "source": [
    "**Findings:** Using air pressure has the highest prediction accuracy so far."
   ]
  },
  {
   "cell_type": "code",
   "execution_count": null,
   "metadata": {},
   "outputs": [],
   "source": [
    "#### Phase 2: Two Predictor Variables"
   ]
  },
  {
   "cell_type": "code",
   "execution_count": null,
   "metadata": {},
   "outputs": [],
   "source": [
    "# Model 1.2 - Air Pressure + Temperature\n",
    "temp2_recipe <- recipe(Weather ~ Press + Temp, data = upsampled_weather) %>%\n",
    "    step_center(all_predictors()) %>%\n",
    "    step_scale(all_predictors())\n",
    "\n",
    "temp2_fit <- workflow() %>%\n",
    "    add_recipe(temp2_recipe) %>%\n",
    "    add_model(weather_knn) %>%\n",
    "    tune_grid(resamples = weather_vfold, grid = k_grid) %>%\n",
    "    collect_metrics()\n",
    "\n",
    "temp2_accuracy <- temp2_fit %>%\n",
    "    filter(.metric == \"accuracy\") %>%\n",
    "    arrange(-mean)\n",
    "temp2_accuracy\n",
    "\n",
    "temp2_accuracy_plot <- temp2_accuracy %>%\n",
    "    ggplot(aes(x = neighbors, y = mean)) + \n",
    "    geom_point() + \n",
    "    geom_line()\n",
    "temp2_accuracy_plot"
   ]
  },
  {
   "cell_type": "code",
   "execution_count": null,
   "metadata": {},
   "outputs": [],
   "source": [
    "# Model 2.2 - Air Pressure + Humidity\n",
    "humid2_recipe <- recipe(Weather ~ Press + Humid, data = upsampled_weather) %>%\n",
    "    step_center(all_predictors()) %>%\n",
    "    step_scale(all_predictors())\n",
    "\n",
    "humid2_fit <- workflow() %>%\n",
    "    add_recipe(humid2_recipe) %>%\n",
    "    add_model(weather_knn) %>%\n",
    "    tune_grid(resamples = weather_vfold, grid = k_grid) %>%\n",
    "    collect_metrics()\n",
    "\n",
    "humid2_accuracy <- humid2_fit %>%\n",
    "    filter(.metric == \"accuracy\") %>%\n",
    "    arrange(-mean)\n",
    "humid2_accuracy\n",
    "\n",
    "humid2_accuracy_plot <- humid2_accuracy %>%\n",
    "    ggplot(aes(x = neighbors, y = mean)) + \n",
    "    geom_point() + \n",
    "    geom_line()\n",
    "humid2_accuracy_plot"
   ]
  },
  {
   "cell_type": "code",
   "execution_count": null,
   "metadata": {},
   "outputs": [],
   "source": [
    "# Model 3.2 - Air Pressure + Wind Speed\n",
    "wind2_recipe <- recipe(Weather ~ Press + Wind_Spd, data = upsampled_weather) %>%\n",
    "    step_center(all_predictors()) %>%\n",
    "    step_scale(all_predictors())\n",
    "\n",
    "wind2_fit <- workflow() %>%\n",
    "    add_recipe(wind2_recipe) %>%\n",
    "    add_model(weather_knn) %>%\n",
    "    tune_grid(resamples = weather_vfold, grid = k_grid) %>%\n",
    "    collect_metrics()\n",
    "\n",
    "wind2_accuracy <- wind2_fit %>%\n",
    "    filter(.metric == \"accuracy\") %>%\n",
    "    arrange(-mean)\n",
    "wind2_accuracy\n",
    "\n",
    "wind2_accuracy_plot <- wind2_accuracy %>%\n",
    "    ggplot(aes(x = neighbors, y = mean)) + \n",
    "    geom_point() + \n",
    "    geom_line()\n",
    "wind2_accuracy_plot"
   ]
  },
  {
   "cell_type": "code",
   "execution_count": null,
   "metadata": {},
   "outputs": [],
   "source": [
    "# Model 4.2 - Air Pressure + Visibility\n",
    "vis2_recipe <- recipe(Weather ~ Press + Vis, data = upsampled_weather) %>%\n",
    "    step_center(all_predictors()) %>%\n",
    "    step_scale(all_predictors())\n",
    "\n",
    "vis2_fit <- workflow() %>%\n",
    "    add_recipe(vis2_recipe) %>%\n",
    "    add_model(weather_knn) %>%\n",
    "    tune_grid(resamples = weather_vfold, grid = k_grid) %>%\n",
    "    collect_metrics()\n",
    "\n",
    "vis2_accuracy <- vis2_fit %>%\n",
    "    filter(.metric == \"accuracy\") %>%\n",
    "    arrange(-mean)\n",
    "vis2_accuracy\n",
    "\n",
    "vis2_accuracy_plot <- vis2_accuracy %>%\n",
    "    ggplot(aes(x = neighbors, y = mean)) + \n",
    "    geom_point() + \n",
    "    geom_line()\n",
    "vis2_accuracy_plot"
   ]
  },
  {
   "cell_type": "markdown",
   "metadata": {},
   "source": [
    "**Findings:** Using air pressure and humidity has the highest accuracy so far."
   ]
  },
  {
   "cell_type": "markdown",
   "metadata": {},
   "source": [
    "#### Phase 3: Three Variables"
   ]
  },
  {
   "cell_type": "code",
   "execution_count": null,
   "metadata": {},
   "outputs": [],
   "source": [
    "# Model 1.3 - Air Pressure + Humidity + Temperature\n",
    "temp3_recipe <- recipe(Weather ~ Press + Humid + Temp, data = upsampled_weather) %>%\n",
    "    step_center(all_predictors()) %>%\n",
    "    step_scale(all_predictors())\n",
    "\n",
    "temp3_fit <- workflow() %>%\n",
    "    add_recipe(temp3_recipe) %>%\n",
    "    add_model(weather_knn) %>%\n",
    "    tune_grid(resamples = weather_vfold, grid = k_grid) %>%\n",
    "    collect_metrics()\n",
    "\n",
    "temp3_accuracy <- temp3_fit %>%\n",
    "    filter(.metric == \"accuracy\") %>%\n",
    "    arrange(-mean)\n",
    "temp3_accuracy\n",
    "\n",
    "temp3_accuracy_plot <- temp3_accuracy %>%\n",
    "    ggplot(aes(x = neighbors, y = mean)) + \n",
    "    geom_point() + \n",
    "    geom_line()\n",
    "temp3_accuracy_plot"
   ]
  },
  {
   "cell_type": "code",
   "execution_count": null,
   "metadata": {},
   "outputs": [],
   "source": [
    "# Model 2.3 - Air Pressure + Humidity + Wind Speed\n",
    "wind3_recipe <- recipe(Weather ~ Press + Humid + Wind_Spd, data = upsampled_weather) %>%\n",
    "    step_center(all_predictors()) %>%\n",
    "    step_scale(all_predictors())\n",
    "\n",
    "wind3_fit <- workflow() %>%\n",
    "    add_recipe(wind3_recipe) %>%\n",
    "    add_model(weather_knn) %>%\n",
    "    tune_grid(resamples = weather_vfold, grid = k_grid) %>%\n",
    "    collect_metrics()\n",
    "\n",
    "wind3_accuracy <- wind3_fit %>%\n",
    "    filter(.metric == \"accuracy\") %>%\n",
    "    arrange(-mean)\n",
    "wind3_accuracy\n",
    "\n",
    "wind3_accuracy_plot <- wind3_accuracy %>%\n",
    "    ggplot(aes(x = neighbors, y = mean)) + \n",
    "    geom_point() + \n",
    "    geom_line()\n",
    "wind3_accuracy_plot"
   ]
  },
  {
   "cell_type": "code",
   "execution_count": null,
   "metadata": {},
   "outputs": [],
   "source": [
    "# Model 3.3 - Air Pressure + Humidity + Visibility\n",
    "vis3_recipe <- recipe(Weather ~ Press + Humid + Vis, data = upsampled_weather) %>%\n",
    "    step_center(all_predictors()) %>%\n",
    "    step_scale(all_predictors())\n",
    "\n",
    "vis3_fit <- workflow() %>%\n",
    "    add_recipe(vis3_recipe) %>%\n",
    "    add_model(weather_knn) %>%\n",
    "    tune_grid(resamples = weather_vfold, grid = k_grid) %>%\n",
    "    collect_metrics()\n",
    "\n",
    "vis3_accuracy <- vis3_fit %>%\n",
    "    filter(.metric == \"accuracy\") %>%\n",
    "    arrange(-mean)\n",
    "vis3_accuracy\n",
    "\n",
    "vis3_accuracy_plot <- vis3_accuracy %>%\n",
    "    ggplot(aes(x = neighbors, y = mean)) + \n",
    "    geom_point() + \n",
    "    geom_line()\n",
    "vis3_accuracy_plot"
   ]
  },
  {
   "cell_type": "markdown",
   "metadata": {},
   "source": [
    "**Findings:** Using air Pressure, humidity and visibility has the highest accuracy so far."
   ]
  },
  {
   "cell_type": "markdown",
   "metadata": {},
   "source": [
    "#### Phase 4: Four Variables"
   ]
  },
  {
   "cell_type": "code",
   "execution_count": null,
   "metadata": {},
   "outputs": [],
   "source": [
    "# Model 1.4 - Air Pressure + Humidity + Visibility + Temp\n",
    "temp4_recipe <- recipe(Weather ~ Press + Humid + Vis + Temp, data = upsampled_weather) %>%\n",
    "    step_center(all_predictors()) %>%\n",
    "    step_scale(all_predictors())\n",
    "\n",
    "temp4_fit <- workflow() %>%\n",
    "    add_recipe(temp4_recipe) %>%\n",
    "    add_model(weather_knn) %>%\n",
    "    tune_grid(resamples = weather_vfold, grid = k_grid) %>%\n",
    "    collect_metrics()\n",
    "\n",
    "temp4_accuracy <- temp4_fit %>%\n",
    "    filter(.metric == \"accuracy\") %>%\n",
    "    arrange(-mean)\n",
    "temp4_accuracy\n",
    "\n",
    "temp4_accuracy_plot <- temp4_accuracy %>%\n",
    "    ggplot(aes(x = neighbors, y = mean)) + \n",
    "    geom_point() + \n",
    "    geom_line()\n",
    "temp4_accuracy_plot"
   ]
  },
  {
   "cell_type": "code",
   "execution_count": null,
   "metadata": {},
   "outputs": [],
   "source": [
    "# Model 2.4 - Air Pressure + Humidity + Visibility + Wind Speed\n",
    "wind4_recipe <- recipe(Weather ~ Press + Humid + Vis + Wind_Spd, data = upsampled_weather) %>%\n",
    "    step_center(all_predictors()) %>%\n",
    "    step_scale(all_predictors())\n",
    "\n",
    "wind4_fit <- workflow() %>%\n",
    "    add_recipe(wind4_recipe) %>%\n",
    "    add_model(weather_knn) %>%\n",
    "    tune_grid(resamples = weather_vfold, grid = k_grid) %>%\n",
    "    collect_metrics()\n",
    "\n",
    "wind4_accuracy <- wind4_fit %>%\n",
    "    filter(.metric == \"accuracy\") %>%\n",
    "    arrange(-mean)\n",
    "wind4_accuracy\n",
    "\n",
    "wind4_accuracy_plot <- wind4_accuracy %>%\n",
    "    ggplot(aes(x = neighbors, y = mean)) + \n",
    "    geom_point() + \n",
    "    geom_line()\n",
    "wind4_accuracy_plot"
   ]
  },
  {
   "cell_type": "markdown",
   "metadata": {},
   "source": [
    "**Findings:** Using air Pressure, humidity, visibility and temperature has the highest in phase 4, but is not more accurate than the previous."
   ]
  },
  {
   "cell_type": "markdown",
   "metadata": {},
   "source": [
    "#### Phase 5: All variables"
   ]
  },
  {
   "cell_type": "code",
   "execution_count": null,
   "metadata": {},
   "outputs": [],
   "source": [
    "# Model 1.5 - Air Pressure + Humidity + Visibility + Wind Speed + Temperature\n",
    "all_recipe <- recipe(Weather ~ ., data = upsampled_weather) %>%\n",
    "    step_center(all_predictors()) %>%\n",
    "    step_scale(all_predictors())\n",
    "\n",
    "all_fit <- workflow() %>%\n",
    "    add_recipe(all_recipe) %>%\n",
    "    add_model(weather_knn) %>%\n",
    "    tune_grid(resamples = weather_vfold, grid = k_grid) %>%\n",
    "    collect_metrics()\n",
    "\n",
    "all_accuracy <- all_fit %>%\n",
    "    filter(.metric == \"accuracy\") %>%\n",
    "    arrange(-mean)\n",
    "all_accuracy\n",
    "\n",
    "all_accuracy_plot <- all_accuracy %>%\n",
    "    ggplot(aes(x = neighbors, y = mean)) + \n",
    "    geom_point() + \n",
    "    geom_line()\n",
    "all_accuracy_plot"
   ]
  },
  {
   "cell_type": "markdown",
   "metadata": {},
   "source": [
    "**Findings:** Using all predictor variables is still slightly less accurate than using the 3 variables identified in phase 3. Thus we will be using *air pressure*, *humidity*, and *visibility* as predictors in our final model. "
   ]
  },
  {
   "cell_type": "code",
   "execution_count": null,
   "metadata": {},
   "outputs": [],
   "source": [
    "set.seed(2022) #we need this to make our code reproducible because cross validation is a random process\n",
    "\n",
    "#make final recipe with cross validation to find k\n",
    "\n",
    "weather_recipe <- recipe(Weather ~ Press + Humid + Vis, data = weather_train) %>% \n",
    "    step_center(all_predictors()) %>%\n",
    "    step_scale(all_predictors())\n",
    "\n",
    "weather_fit <- workflow() %>%\n",
    "    add_recipe(weather_recipe) %>%\n",
    "    add_model(weather_knn) %>%\n",
    "    tune_grid(resamples = weather_vfold, grid = k_grid) %>%\n",
    "    collect_metrics()\n",
    "\n",
    "#find accuracy for different values of k on our model\n",
    "\n",
    "weather_accuracy <- weather_fit %>%\n",
    "    filter(.metric == \"accuracy\") %>%\n",
    "    arrange(-mean)\n",
    "weather_accuracy"
   ]
  },
  {
   "cell_type": "code",
   "execution_count": null,
   "metadata": {},
   "outputs": [],
   "source": [
    "#create line plot with data points for accuracy estimate vs neighbors to find optimal k value\n",
    "#(looking for high accuracy estimate with high values of accuracy for nearby values of k as well)\n",
    "\n",
    "options(repr.plot.height = 8, repr.plot.width = 12)\n",
    "finding_k_plot <- ggplot(weather_accuracy, aes(x = neighbors, y = mean)) +\n",
    "    geom_point() +\n",
    "    geom_line() +\n",
    "    labs(x = \"Number of Neighbors\", y = \"Accuracy Estimate\",\n",
    "        title = \"Accuracy Estimates for Different Numbers of Neighbors\") +\n",
    "    theme(text = element_text(size = 20)) +\n",
    "    scale_x_continuous(breaks = 1:30)\n",
    "finding_k_plot"
   ]
  },
  {
   "cell_type": "code",
   "execution_count": null,
   "metadata": {},
   "outputs": [],
   "source": [
    "#retrain our model with the newfound value of k and fit it to our training data\n",
    "\n",
    "#since k = 2 has the highest accuracy, we will use that in our new model\n",
    "\n",
    "weather_model <- nearest_neighbor(weight_func = \"rectangular\", neighbors = 1) %>% \n",
    "    set_engine(\"kknn\") %>%\n",
    "    set_mode(\"classification\")\n",
    "\n",
    "weather_fit_final <- workflow() %>%\n",
    "    add_recipe(weather_recipe) %>%\n",
    "    add_model(weather_model) %>%\n",
    "    fit(data = weather_train)"
   ]
  },
  {
   "cell_type": "code",
   "execution_count": null,
   "metadata": {},
   "outputs": [],
   "source": [
    "#we can now use our fitted model to predict the weather for our testing data set\n",
    "\n",
    "weather_predictions <- predict(weather_fit_final, weather_test) %>%\n",
    "    bind_cols(weather_test) %>%\n",
    "    select(.pred_class, Weather)\n",
    "weather_predictions"
   ]
  },
  {
   "cell_type": "code",
   "execution_count": null,
   "metadata": {},
   "outputs": [],
   "source": [
    "#we can use the metrics function to see how accurate our model was at predicting weather values \n",
    "#on the testing dataset\n",
    "\n",
    "weather_metrics <- weather_predictions %>%\n",
    "    metrics(truth = Weather, estimate = .pred_class) %>%\n",
    "    filter(.metric == \"accuracy\")\n",
    "weather_metrics"
   ]
  },
  {
   "cell_type": "markdown",
   "metadata": {},
   "source": [
    "## Discussion"
   ]
  },
  {
   "cell_type": "markdown",
   "metadata": {},
   "source": [
    "## References"
   ]
  },
  {
   "cell_type": "code",
   "execution_count": null,
   "metadata": {},
   "outputs": [],
   "source": []
  }
 ],
 "metadata": {
  "kernelspec": {
   "display_name": "R",
   "language": "R",
   "name": "ir"
  },
  "language_info": {
   "codemirror_mode": "r",
   "file_extension": ".r",
   "mimetype": "text/x-r-source",
   "name": "R",
   "pygments_lexer": "r",
   "version": "4.0.0"
  }
 },
 "nbformat": 4,
 "nbformat_minor": 4
}
