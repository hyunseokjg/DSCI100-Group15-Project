{
 "cells": [
  {
   "cell_type": "markdown",
   "metadata": {},
   "source": [
    "# DSCI 100 GROUP 15 Report\n",
    "\n",
    "### Hyunseok Jung, Jordan Sanders, Ivie Huang, Eden Vasica"
   ]
  },
  {
   "cell_type": "markdown",
   "metadata": {},
   "source": [
    "<span style=\"color: red;\">***NOTE: Please run this code on ubc.syzygy.ca so that the themis package can be installed***</span>"
   ]
  },
  {
   "cell_type": "markdown",
   "metadata": {},
   "source": [
    "## Introduction\n",
    "\n",
    "The government of Canada provides historical data on weather and climate. Its' hourly weather data report consists of various climate observations such as temperature, humidity, and wind speed, as well as a column classifying the weather type (e.g. \"Mostly Cloudy\"). We are excited to test our ability to build a classification model for weather types based on climate observations from this dataset. To make our project more enjoyable and personal, we decided to work with historical weather and climate data provided by the 'Vancouver Intl A' weather station, which is not far from UBC. This facility, located in the Vancouver International Airport, is one of the most significant weather stations in Vancouver that collects measurements for weather forecasts and climate studies hourly. Unlike hourly data reports, daily and monthly data reports do not include a weather column making it impossible to build a classification model.\n",
    "\n",
    "Considering seasonal climate differences and fluctuations, we decided to focus on weather reports from June, to reduce the number of external factors affecting the observations. As we will be handling an hourly data report, we have sufficient observations to build a classification model. In addition, to minimize the influence of global warming on temperature for our classification model, we will use recent data to train our model: June 2022."
   ]
  },
  {
   "cell_type": "markdown",
   "metadata": {},
   "source": [
    "## Methods & Results\n",
    "1. Download all June 2022 hourly data from the government of Canada website, tidy it, and combine it into one dataframe.\n",
    "2. Split the data into `training_set` and `testing_set`.\n",
    "3. Randomly sample 500 observations and balance the data using `sample_n` and `step_upsample`\n",
    "3. Select the predictor variables that results in the highest accuracy in a forward selection process\n",
    "4. Create a recipe that uses the predictors selected and a model specification with tuning on the number of neighbours using `tune()`. Also Use the `step_scale(all_predictors())` function and the `step_center(all_predictors())` function to scale and center our data.\n",
    "5. Perform a 5-fold cross-validation on the training set using `vfold_cv` function\n",
    "6. Create a workflow analysis with our recipe and model specification using `workflow()` function\n",
    "7. Collect the metrics from the workflow analysis using the `collect_metrics` function.\n",
    "8. Plot the $k$ vs the accuracy and identify which $k$ the most optimal for our data set for k-nn classification. \n",
    "9. Create a new model specification for with the identified best value $k$ using the `nearest_neighbor()` function.\n",
    "10. Train the classifier with the training data set using the `workflow` function. Instead of using `fit` or `fit_resamples`, we will use the `tune_grid` function to fit the model for each value in a range of parameter values. For the `resamples` argument, we will input the cross-validation model we created earlier.\n",
    "11. Use our final model to predict on the test dataset `testing_set`\n",
    "12. Record the accuracy of this prediction, and store this in an object\n",
    "13. Plot the accuracy of our model on a bar graph for each category of Weather column"
   ]
  },
  {
   "cell_type": "code",
   "execution_count": null,
   "metadata": {},
   "outputs": [],
   "source": [
    "install.packages(\"tidyverse\")\n",
    "install.packages(\"repr\")\n",
    "install.packages(\"tidymodels\")\n",
    "install.packages(\"GGally\")\n",
    "install.packages(\"themis\")"
   ]
  },
  {
   "cell_type": "code",
   "execution_count": 1,
   "metadata": {},
   "outputs": [
    {
     "name": "stderr",
     "output_type": "stream",
     "text": [
      "Warning message in system(\"timedatectl\", intern = TRUE):\n",
      "“running command 'timedatectl' had status 1”\n",
      "── \u001b[1mAttaching packages\u001b[22m ─────────────────────────────────────── tidyverse 1.3.1 ──\n",
      "\n",
      "\u001b[32m✔\u001b[39m \u001b[34mggplot2\u001b[39m 3.3.5     \u001b[32m✔\u001b[39m \u001b[34mpurrr  \u001b[39m 0.3.4\n",
      "\u001b[32m✔\u001b[39m \u001b[34mtibble \u001b[39m 3.1.7     \u001b[32m✔\u001b[39m \u001b[34mdplyr  \u001b[39m 1.0.9\n",
      "\u001b[32m✔\u001b[39m \u001b[34mtidyr  \u001b[39m 1.2.0     \u001b[32m✔\u001b[39m \u001b[34mstringr\u001b[39m 1.4.0\n",
      "\u001b[32m✔\u001b[39m \u001b[34mreadr  \u001b[39m 2.1.2     \u001b[32m✔\u001b[39m \u001b[34mforcats\u001b[39m 0.5.1\n",
      "\n",
      "── \u001b[1mConflicts\u001b[22m ────────────────────────────────────────── tidyverse_conflicts() ──\n",
      "\u001b[31m✖\u001b[39m \u001b[34mdplyr\u001b[39m::\u001b[32mfilter()\u001b[39m masks \u001b[34mstats\u001b[39m::filter()\n",
      "\u001b[31m✖\u001b[39m \u001b[34mdplyr\u001b[39m::\u001b[32mlag()\u001b[39m    masks \u001b[34mstats\u001b[39m::lag()\n",
      "\n",
      "── \u001b[1mAttaching packages\u001b[22m ────────────────────────────────────── tidymodels 0.2.0 ──\n",
      "\n",
      "\u001b[32m✔\u001b[39m \u001b[34mbroom       \u001b[39m 0.7.12     \u001b[32m✔\u001b[39m \u001b[34mrsample     \u001b[39m 0.1.1 \n",
      "\u001b[32m✔\u001b[39m \u001b[34mdials       \u001b[39m 1.0.0      \u001b[32m✔\u001b[39m \u001b[34mtune        \u001b[39m 0.2.0 \n",
      "\u001b[32m✔\u001b[39m \u001b[34minfer       \u001b[39m 1.0.2      \u001b[32m✔\u001b[39m \u001b[34mworkflows   \u001b[39m 0.2.6 \n",
      "\u001b[32m✔\u001b[39m \u001b[34mmodeldata   \u001b[39m 0.1.1      \u001b[32m✔\u001b[39m \u001b[34mworkflowsets\u001b[39m 0.2.1 \n",
      "\u001b[32m✔\u001b[39m \u001b[34mparsnip     \u001b[39m 1.0.0      \u001b[32m✔\u001b[39m \u001b[34myardstick   \u001b[39m 1.0.0 \n",
      "\u001b[32m✔\u001b[39m \u001b[34mrecipes     \u001b[39m 0.2.0      \n",
      "\n",
      "── \u001b[1mConflicts\u001b[22m ───────────────────────────────────────── tidymodels_conflicts() ──\n",
      "\u001b[31m✖\u001b[39m \u001b[34mscales\u001b[39m::\u001b[32mdiscard()\u001b[39m masks \u001b[34mpurrr\u001b[39m::discard()\n",
      "\u001b[31m✖\u001b[39m \u001b[34mdplyr\u001b[39m::\u001b[32mfilter()\u001b[39m   masks \u001b[34mstats\u001b[39m::filter()\n",
      "\u001b[31m✖\u001b[39m \u001b[34mrecipes\u001b[39m::\u001b[32mfixed()\u001b[39m  masks \u001b[34mstringr\u001b[39m::fixed()\n",
      "\u001b[31m✖\u001b[39m \u001b[34mdplyr\u001b[39m::\u001b[32mlag()\u001b[39m      masks \u001b[34mstats\u001b[39m::lag()\n",
      "\u001b[31m✖\u001b[39m \u001b[34myardstick\u001b[39m::\u001b[32mspec()\u001b[39m masks \u001b[34mreadr\u001b[39m::spec()\n",
      "\u001b[31m✖\u001b[39m \u001b[34mrecipes\u001b[39m::\u001b[32mstep()\u001b[39m   masks \u001b[34mstats\u001b[39m::step()\n",
      "\u001b[34m•\u001b[39m Learn how to get started at \u001b[32mhttps://www.tidymodels.org/start/\u001b[39m\n",
      "\n",
      "Registered S3 method overwritten by 'GGally':\n",
      "  method from   \n",
      "  +.gg   ggplot2\n",
      "\n",
      "\n",
      "Attaching package: ‘themis’\n",
      "\n",
      "\n",
      "The following objects are masked from ‘package:recipes’:\n",
      "\n",
      "    step_downsample, step_upsample\n",
      "\n",
      "\n"
     ]
    }
   ],
   "source": [
    "library(tidyverse)\n",
    "library(repr)\n",
    "library(tidymodels)\n",
    "library(GGally)\n",
    "library(themis)"
   ]
  },
  {
   "cell_type": "markdown",
   "metadata": {},
   "source": [
    "Initially, as presented in our proposal, we intended to use June 2020 and June 2021 to train our model and use June 2022 data for our testing set. Therefore, although we end up using June 2022 data for our model (which will be described later), our data wrangling and cleaning process includes all of June 2020, 2021, and 2022 data files.\n",
    "\n",
    "The hourly data report of \"Vancouver Intl A\" from the government of Canada website can be found at the URL below. The link below will take you to the hourly data report from 2022 June 1st.\n",
    "https://climate.weather.gc.ca/climate_data/hourly_data_e.html?hlyRange=2013-06-11%7C2022-06-22&dlyRange=2013-06-13%7C2022-06-22&mlyRange=%7C&StationID=51442&Prov=BC&urlExtension=_e.html&searchType=stnName&optLimit=yearRange&StartYear=1840&EndYear=2022&selRowPerPage=25&Line=2&searchMethod=contains&txtStationName=vancouver+intl&timeframe=1&time=LST&time=LST&Year=2022&Month=6&Day=1#\n",
    "\n",
    "Since the data report with the Weather column is only available on a 24-hour basis, we had to download 30 individual .csv files for June 2020 and June 2021, respectively, and 19 individual .csv files for June 2022 (June 19th data was the most recent file that was available when we started working on our project) from the government of Canada website. \n",
    "\n",
    "We first worked locally to clean and wrangle individual .csv files. Then we combined the tidied data into one data frame. Finally, we then uploaded all of them into our Github repository: https://github.com/hyunseokjg/DSCI100-Group15-Project so that the final data set that will be used in our project is readily available and reproducible.\n",
    "\n",
    "In our Github repository, you can access raw and tidied data for each day, as well as the Jupiter notebook file that was used to clean, wrangle and combine the data files. For convenience, the codes used for 2022 June data are attached below as example."
   ]
  },
  {
   "cell_type": "code",
   "execution_count": 2,
   "metadata": {},
   "outputs": [
    {
     "ename": "ERROR",
     "evalue": "Error: 'data/2022_June_1.csv' does not exist in current working directory ('/home/jupyter/R/x86_64-pc-linux-gnu-library/DSCI100-Group15-Project').\n",
     "output_type": "error",
     "traceback": [
      "Error: 'data/2022_June_1.csv' does not exist in current working directory ('/home/jupyter/R/x86_64-pc-linux-gnu-library/DSCI100-Group15-Project').\nTraceback:\n",
      "1. read_csv(\"data/2022_June_1.csv\")",
      "2. vroom::vroom(file, delim = \",\", col_names = col_names, col_types = col_types, \n .     col_select = {\n .         {\n .             col_select\n .         }\n .     }, id = id, .name_repair = name_repair, skip = skip, n_max = n_max, \n .     na = na, quote = quote, comment = comment, skip_empty_rows = skip_empty_rows, \n .     trim_ws = trim_ws, escape_double = TRUE, escape_backslash = FALSE, \n .     locale = locale, guess_max = guess_max, show_col_types = show_col_types, \n .     progress = progress, altrep = lazy, num_threads = num_threads)",
      "3. vroom_(file, delim = delim %||% col_types$delim, col_names = col_names, \n .     col_types = col_types, id = id, skip = skip, col_select = col_select, \n .     name_repair = .name_repair, na = na, quote = quote, trim_ws = trim_ws, \n .     escape_double = escape_double, escape_backslash = escape_backslash, \n .     comment = comment, skip_empty_rows = skip_empty_rows, locale = locale, \n .     guess_max = guess_max, n_max = n_max, altrep = vroom_altrep(altrep), \n .     num_threads = num_threads, progress = progress)",
      "4. (function (path, write = FALSE) \n . {\n .     if (is.raw(path)) {\n .         return(rawConnection(path, \"rb\"))\n .     }\n .     if (!is.character(path)) {\n .         return(path)\n .     }\n .     if (is_url(path)) {\n .         if (requireNamespace(\"curl\", quietly = TRUE)) {\n .             con <- curl::curl(path)\n .         }\n .         else {\n .             rlang::inform(\"`curl` package not installed, falling back to using `url()`\")\n .             con <- url(path)\n .         }\n .         ext <- tolower(tools::file_ext(path))\n .         return(switch(ext, zip = , bz2 = , xz = {\n .             close(con)\n .             stop(\"Reading from remote `\", ext, \"` compressed files is not supported,\\n\", \n .                 \"  download the files locally first.\", call. = FALSE)\n .         }, gz = gzcon(con), con))\n .     }\n .     p <- split_path_ext(basename(path))\n .     if (write) {\n .         path <- normalizePath(path, mustWork = FALSE)\n .     }\n .     else {\n .         path <- check_path(path)\n .     }\n .     if (rlang::is_installed(\"archive\")) {\n .         formats <- archive_formats(p$extension)\n .         extension <- p$extension\n .         while (is.null(formats) && nzchar(extension)) {\n .             extension <- split_path_ext(extension)$extension\n .             formats <- archive_formats(extension)\n .         }\n .         if (!is.null(formats)) {\n .             p$extension <- extension\n .             if (write) {\n .                 if (is.null(formats[[1]])) {\n .                   return(archive::file_write(path, filter = formats[[2]]))\n .                 }\n .                 return(archive::archive_write(path, p$path, format = formats[[1]], \n .                   filter = formats[[2]]))\n .             }\n .             if (is.null(formats[[1]])) {\n .                 return(archive::file_read(path, filter = formats[[2]]))\n .             }\n .             return(archive::archive_read(path, format = formats[[1]], \n .                 filter = formats[[2]]))\n .         }\n .     }\n .     if (!write) {\n .         compression <- detect_compression(path)\n .     }\n .     else {\n .         compression <- NA\n .     }\n .     if (is.na(compression)) {\n .         compression <- tools::file_ext(path)\n .     }\n .     if (write && compression == \"zip\") {\n .         stop(\"Can only read from, not write to, .zip\", call. = FALSE)\n .     }\n .     switch(compression, gz = gzfile(path, \"\"), bz2 = bzfile(path, \n .         \"\"), xz = xzfile(path, \"\"), zip = zipfile(path, \"\"), \n .         if (!has_trailing_newline(path)) {\n .             file(path)\n .         } else {\n .             path\n .         })\n . })(\"data/2022_June_1.csv\")",
      "5. check_path(path)",
      "6. stop(\"'\", path, \"' does not exist\", if (!is_absolute_path(path)) {\n .     paste0(\" in current working directory ('\", getwd(), \"')\")\n . }, \".\", call. = FALSE)"
     ]
    }
   ],
   "source": [
    "# Reading in 2022 June 1st data\n",
    "df1 <- read_csv(\"data/2022_June_1.csv\")\n",
    "\n",
    "# Renaming Column Names\n",
    "colnames(df1) <- make.names(colnames(df1))\n",
    "tidy_df1 <- df1 %>%\n",
    "    select(Temp...C., Rel.Hum...., Wind.Spd..km.h., Visibility..km., Stn.Press..kPa., Weather) %>%\n",
    "    filter(Weather != \"NA\") \n",
    "tidy_df1 <- rename(tidy_df1,\n",
    "       Temp = Temp...C., \n",
    "       Humid = Rel.Hum...., \n",
    "       Wind_Spd = Wind.Spd..km.h.,\n",
    "       Vis = Visibility..km., \n",
    "       Press = Stn.Press..kPa.)\n",
    "\n",
    "# Mutating weather column as factor\n",
    "tidy_df1 <- tidy_df1 %>%\n",
    "    mutate(Weather = as_factor(Weather))\n",
    "\n",
    "# Saving tidy data\n",
    "write_csv(tidy_df1, \"data/tidy_2022_June_1.csv\")\n",
    "\n",
    "# Reading in all tidy data of June 2022\n",
    "df1 <- read_csv(\"tidy_data/tidy_2022_June_1.csv\")\n",
    "df2 <- read_csv(\"tidy_data/tidy_2022_June_2.csv\")\n",
    "df3 <- read_csv(\"tidy_data/tidy_2022_June_3.csv\")\n",
    "df4 <- read_csv(\"tidy_data/tidy_2022_June_4.csv\")\n",
    "df5 <- read_csv(\"tidy_data/tidy_2022_June_5.csv\")\n",
    "df6 <- read_csv(\"tidy_data/tidy_2022_June_6.csv\")\n",
    "df7 <- read_csv(\"tidy_data/tidy_2022_June_7.csv\")\n",
    "df8 <- read_csv(\"tidy_data/tidy_2022_June_8.csv\")\n",
    "df9 <- read_csv(\"tidy_data/tidy_2022_June_9.csv\")\n",
    "df10 <- read_csv(\"tidy_data/tidy_2022_June_10.csv\")\n",
    "df11 <- read_csv(\"tidy_data/tidy_2022_June_11.csv\")\n",
    "df12 <- read_csv(\"tidy_data/tidy_2022_June_12.csv\")\n",
    "df13 <- read_csv(\"tidy_data/tidy_2022_June_13.csv\")\n",
    "df14 <- read_csv(\"tidy_data/tidy_2022_June_14.csv\")\n",
    "df15 <- read_csv(\"tidy_data/tidy_2022_June_15.csv\")\n",
    "df16 <- read_csv(\"tidy_data/tidy_2022_June_16.csv\")\n",
    "df17 <- read_csv(\"tidy_data/tidy_2022_June_17.csv\")\n",
    "df18 <- read_csv(\"tidy_data/tidy_2022_June_18.csv\")\n",
    "df19 <- read_csv(\"tidy_data/tidy_2022_June_19.csv\")\n",
    "\n",
    "# Merging multiple data file into single table\n",
    "df_final <- bind_rows(df1, df2, df3, df4, df5, df6, df7, df8, df9, df10, df11, df12, df13, df14, df15, df16, df17, df18, df19)\n",
    "\n",
    "# Saving the merged table into .csv file\n",
    "write_csv(df_final, \"tidy_data/testing_set.csv\")"
   ]
  },
  {
   "cell_type": "markdown",
   "metadata": {},
   "source": [
    "As mentioned above, since we initially intended to use June 2022 data for our testing set, the name of the combined tidy data of June 2022 is called the testing_set.csv. \n",
    "\n",
    "While we were working on our model with our training set (combined file with June 2020 and 2021 data), we encountered a problem where the accuracy estimates for different numbers of neighbors returned 100% accuracy for all values of k. Our initial instinct was to test if this pattern persists even if we reduce the number of observations by randomly sampling 1000 observations from our training set. This time, our accuracy was also very high at around 97% for k = 1 and 2, then gradually decreased as the number of neighbors increased. Such problems were unforeseen errors caused by our data set's characteristics. Our weather data is a time-series data where each observation is indexed in time order. So, the recorded variable in the weather column was bound to the observation made at that particular time.\n",
    "Consequently, the time-related component of our data had a negative impact on the predictions as we increased the number of neighbors. Furthermore, the KNN classification model we covered in DSCI 100 uses a Euclidian distance metric that cannot measure the distance between multiple time series. This suggests a possible reason that accuracy decreases as we increase the number of neighbors. Thus, we suspected that a large number of observations in our training set, 16890 rows (shown below), were disturbing the accuracy measures. As a result, we decided to sample 500 observations from the most recent 2022 data (testing set) to minimize the effect of both time aspects of our data and the influence of global warming on temperature for our classification model."
   ]
  },
  {
   "cell_type": "code",
   "execution_count": 3,
   "metadata": {},
   "outputs": [
    {
     "name": "stderr",
     "output_type": "stream",
     "text": [
      "\u001b[1mRows: \u001b[22m\u001b[34m16890\u001b[39m \u001b[1mColumns: \u001b[22m\u001b[34m6\u001b[39m\n",
      "\u001b[36m──\u001b[39m \u001b[1mColumn specification\u001b[22m \u001b[36m────────────────────────────────────────────────────────\u001b[39m\n",
      "\u001b[1mDelimiter:\u001b[22m \",\"\n",
      "\u001b[31mchr\u001b[39m (1): Weather\n",
      "\u001b[32mdbl\u001b[39m (5): Temp, Humid, Wind_Spd, Vis, Press\n",
      "\n",
      "\u001b[36mℹ\u001b[39m Use `spec()` to retrieve the full column specification for this data.\n",
      "\u001b[36mℹ\u001b[39m Specify the column types or set `show_col_types = FALSE` to quiet this message.\n"
     ]
    },
    {
     "data": {
      "text/html": [
       "16890"
      ],
      "text/latex": [
       "16890"
      ],
      "text/markdown": [
       "16890"
      ],
      "text/plain": [
       "[1] 16890"
      ]
     },
     "metadata": {},
     "output_type": "display_data"
    }
   ],
   "source": [
    "weather_training_for_display <- read_csv(\"https://raw.githubusercontent.com/hyunseokjg/DSCI100-Group15-Project/main/data/training_set.csv\")\n",
    "nrow(weather_training_for_display)"
   ]
  },
  {
   "cell_type": "code",
   "execution_count": 4,
   "metadata": {},
   "outputs": [
    {
     "name": "stderr",
     "output_type": "stream",
     "text": [
      "\u001b[1mRows: \u001b[22m\u001b[34m3914\u001b[39m \u001b[1mColumns: \u001b[22m\u001b[34m6\u001b[39m\n",
      "\u001b[36m──\u001b[39m \u001b[1mColumn specification\u001b[22m \u001b[36m────────────────────────────────────────────────────────\u001b[39m\n",
      "\u001b[1mDelimiter:\u001b[22m \",\"\n",
      "\u001b[31mchr\u001b[39m (1): Weather\n",
      "\u001b[32mdbl\u001b[39m (5): Temp, Humid, Wind_Spd, Vis, Press\n",
      "\n",
      "\u001b[36mℹ\u001b[39m Use `spec()` to retrieve the full column specification for this data.\n",
      "\u001b[36mℹ\u001b[39m Specify the column types or set `show_col_types = FALSE` to quiet this message.\n"
     ]
    },
    {
     "data": {
      "text/html": [
       "'Table 1.1 - Entire Training Data (Unbalanced, Unfiltered)'"
      ],
      "text/latex": [
       "'Table 1.1 - Entire Training Data (Unbalanced, Unfiltered)'"
      ],
      "text/markdown": [
       "'Table 1.1 - Entire Training Data (Unbalanced, Unfiltered)'"
      ],
      "text/plain": [
       "[1] \"Table 1.1 - Entire Training Data (Unbalanced, Unfiltered)\""
      ]
     },
     "metadata": {},
     "output_type": "display_data"
    },
    {
     "data": {
      "text/html": [
       "<table class=\"dataframe\">\n",
       "<caption>A spec_tbl_df: 3914 × 6</caption>\n",
       "<thead>\n",
       "\t<tr><th scope=col>Temp</th><th scope=col>Humid</th><th scope=col>Wind_Spd</th><th scope=col>Vis</th><th scope=col>Press</th><th scope=col>Weather</th></tr>\n",
       "\t<tr><th scope=col>&lt;dbl&gt;</th><th scope=col>&lt;dbl&gt;</th><th scope=col>&lt;dbl&gt;</th><th scope=col>&lt;dbl&gt;</th><th scope=col>&lt;dbl&gt;</th><th scope=col>&lt;chr&gt;</th></tr>\n",
       "</thead>\n",
       "<tbody>\n",
       "\t<tr><td>12.8</td><td>100</td><td> 4</td><td>32.2</td><td>101.78</td><td>Mostly Cloudy</td></tr>\n",
       "\t<tr><td>10.4</td><td>100</td><td> 4</td><td>32.2</td><td>101.72</td><td>Mostly Cloudy</td></tr>\n",
       "\t<tr><td>15.3</td><td> 80</td><td> 3</td><td>48.3</td><td>101.72</td><td>Mostly Cloudy</td></tr>\n",
       "\t<tr><td>16.8</td><td> 85</td><td>19</td><td>48.3</td><td>101.65</td><td>Mostly Cloudy</td></tr>\n",
       "\t<tr><td>17.2</td><td> 84</td><td>18</td><td>48.3</td><td>101.54</td><td>Cloudy       </td></tr>\n",
       "\t<tr><td>⋮</td><td>⋮</td><td>⋮</td><td>⋮</td><td>⋮</td><td>⋮</td></tr>\n",
       "\t<tr><td>15.7</td><td>81</td><td>12</td><td>32.2</td><td>102.19</td><td>Cloudy       </td></tr>\n",
       "\t<tr><td>17.3</td><td>72</td><td> 9</td><td>48.3</td><td>102.19</td><td>Mostly Cloudy</td></tr>\n",
       "\t<tr><td>16.4</td><td>69</td><td>15</td><td>32.2</td><td>102.14</td><td>Mainly Clear </td></tr>\n",
       "\t<tr><td>14.6</td><td>83</td><td>13</td><td>32.2</td><td>102.24</td><td>Mostly Cloudy</td></tr>\n",
       "</tbody>\n",
       "</table>\n"
      ],
      "text/latex": [
       "A spec\\_tbl\\_df: 3914 × 6\n",
       "\\begin{tabular}{llllll}\n",
       " Temp & Humid & Wind\\_Spd & Vis & Press & Weather\\\\\n",
       " <dbl> & <dbl> & <dbl> & <dbl> & <dbl> & <chr>\\\\\n",
       "\\hline\n",
       "\t 12.8 & 100 &  4 & 32.2 & 101.78 & Mostly Cloudy\\\\\n",
       "\t 10.4 & 100 &  4 & 32.2 & 101.72 & Mostly Cloudy\\\\\n",
       "\t 15.3 &  80 &  3 & 48.3 & 101.72 & Mostly Cloudy\\\\\n",
       "\t 16.8 &  85 & 19 & 48.3 & 101.65 & Mostly Cloudy\\\\\n",
       "\t 17.2 &  84 & 18 & 48.3 & 101.54 & Cloudy       \\\\\n",
       "\t ⋮ & ⋮ & ⋮ & ⋮ & ⋮ & ⋮\\\\\n",
       "\t 15.7 & 81 & 12 & 32.2 & 102.19 & Cloudy       \\\\\n",
       "\t 17.3 & 72 &  9 & 48.3 & 102.19 & Mostly Cloudy\\\\\n",
       "\t 16.4 & 69 & 15 & 32.2 & 102.14 & Mainly Clear \\\\\n",
       "\t 14.6 & 83 & 13 & 32.2 & 102.24 & Mostly Cloudy\\\\\n",
       "\\end{tabular}\n"
      ],
      "text/markdown": [
       "\n",
       "A spec_tbl_df: 3914 × 6\n",
       "\n",
       "| Temp &lt;dbl&gt; | Humid &lt;dbl&gt; | Wind_Spd &lt;dbl&gt; | Vis &lt;dbl&gt; | Press &lt;dbl&gt; | Weather &lt;chr&gt; |\n",
       "|---|---|---|---|---|---|\n",
       "| 12.8 | 100 |  4 | 32.2 | 101.78 | Mostly Cloudy |\n",
       "| 10.4 | 100 |  4 | 32.2 | 101.72 | Mostly Cloudy |\n",
       "| 15.3 |  80 |  3 | 48.3 | 101.72 | Mostly Cloudy |\n",
       "| 16.8 |  85 | 19 | 48.3 | 101.65 | Mostly Cloudy |\n",
       "| 17.2 |  84 | 18 | 48.3 | 101.54 | Cloudy        |\n",
       "| ⋮ | ⋮ | ⋮ | ⋮ | ⋮ | ⋮ |\n",
       "| 15.7 | 81 | 12 | 32.2 | 102.19 | Cloudy        |\n",
       "| 17.3 | 72 |  9 | 48.3 | 102.19 | Mostly Cloudy |\n",
       "| 16.4 | 69 | 15 | 32.2 | 102.14 | Mainly Clear  |\n",
       "| 14.6 | 83 | 13 | 32.2 | 102.24 | Mostly Cloudy |\n",
       "\n"
      ],
      "text/plain": [
       "     Temp Humid Wind_Spd Vis  Press  Weather      \n",
       "1    12.8 100    4       32.2 101.78 Mostly Cloudy\n",
       "2    10.4 100    4       32.2 101.72 Mostly Cloudy\n",
       "3    15.3  80    3       48.3 101.72 Mostly Cloudy\n",
       "4    16.8  85   19       48.3 101.65 Mostly Cloudy\n",
       "5    17.2  84   18       48.3 101.54 Cloudy       \n",
       "⋮    ⋮    ⋮     ⋮        ⋮    ⋮      ⋮            \n",
       "3911 15.7 81    12       32.2 102.19 Cloudy       \n",
       "3912 17.3 72     9       48.3 102.19 Mostly Cloudy\n",
       "3913 16.4 69    15       32.2 102.14 Mainly Clear \n",
       "3914 14.6 83    13       32.2 102.24 Mostly Cloudy"
      ]
     },
     "metadata": {},
     "output_type": "display_data"
    },
    {
     "data": {
      "text/html": [
       "'Caption - A sample of what our raw training data looks like, before rare weather classifications are filtered out.'"
      ],
      "text/latex": [
       "'Caption - A sample of what our raw training data looks like, before rare weather classifications are filtered out.'"
      ],
      "text/markdown": [
       "'Caption - A sample of what our raw training data looks like, before rare weather classifications are filtered out.'"
      ],
      "text/plain": [
       "[1] \"Caption - A sample of what our raw training data looks like, before rare weather classifications are filtered out.\""
      ]
     },
     "metadata": {},
     "output_type": "display_data"
    },
    {
     "data": {
      "text/html": [
       "'Table 1.2 - Filtered Training Data (Unbalanced)'"
      ],
      "text/latex": [
       "'Table 1.2 - Filtered Training Data (Unbalanced)'"
      ],
      "text/markdown": [
       "'Table 1.2 - Filtered Training Data (Unbalanced)'"
      ],
      "text/plain": [
       "[1] \"Table 1.2 - Filtered Training Data (Unbalanced)\""
      ]
     },
     "metadata": {},
     "output_type": "display_data"
    },
    {
     "data": {
      "text/html": [
       "<table class=\"dataframe\">\n",
       "<caption>A tibble: 500 × 6</caption>\n",
       "<thead>\n",
       "\t<tr><th scope=col>Temp</th><th scope=col>Humid</th><th scope=col>Wind_Spd</th><th scope=col>Vis</th><th scope=col>Press</th><th scope=col>Weather</th></tr>\n",
       "\t<tr><th scope=col>&lt;dbl&gt;</th><th scope=col>&lt;dbl&gt;</th><th scope=col>&lt;dbl&gt;</th><th scope=col>&lt;dbl&gt;</th><th scope=col>&lt;dbl&gt;</th><th scope=col>&lt;fct&gt;</th></tr>\n",
       "</thead>\n",
       "<tbody>\n",
       "\t<tr><td>15.9</td><td>81</td><td>18</td><td>48.3</td><td>100.73</td><td>Rain Showers </td></tr>\n",
       "\t<tr><td>12.0</td><td>84</td><td>28</td><td>32.2</td><td>101.89</td><td>Mostly Cloudy</td></tr>\n",
       "\t<tr><td>15.3</td><td>96</td><td>21</td><td>24.1</td><td>100.54</td><td>Rain         </td></tr>\n",
       "\t<tr><td>15.6</td><td>77</td><td>16</td><td>48.3</td><td>101.49</td><td>Mostly Cloudy</td></tr>\n",
       "\t<tr><td>19.0</td><td>74</td><td>11</td><td>48.3</td><td>101.18</td><td>Cloudy       </td></tr>\n",
       "\t<tr><td>⋮</td><td>⋮</td><td>⋮</td><td>⋮</td><td>⋮</td><td>⋮</td></tr>\n",
       "\t<tr><td>13.1</td><td>83</td><td> 8</td><td>32.2</td><td>102.08</td><td>Mainly Clear </td></tr>\n",
       "\t<tr><td>18.6</td><td>79</td><td>18</td><td>48.3</td><td>100.48</td><td>Mostly Cloudy</td></tr>\n",
       "\t<tr><td>18.6</td><td>79</td><td>18</td><td>48.3</td><td>100.48</td><td>Mostly Cloudy</td></tr>\n",
       "\t<tr><td>19.7</td><td>59</td><td>16</td><td>48.3</td><td>100.51</td><td>Mostly Cloudy</td></tr>\n",
       "</tbody>\n",
       "</table>\n"
      ],
      "text/latex": [
       "A tibble: 500 × 6\n",
       "\\begin{tabular}{llllll}\n",
       " Temp & Humid & Wind\\_Spd & Vis & Press & Weather\\\\\n",
       " <dbl> & <dbl> & <dbl> & <dbl> & <dbl> & <fct>\\\\\n",
       "\\hline\n",
       "\t 15.9 & 81 & 18 & 48.3 & 100.73 & Rain Showers \\\\\n",
       "\t 12.0 & 84 & 28 & 32.2 & 101.89 & Mostly Cloudy\\\\\n",
       "\t 15.3 & 96 & 21 & 24.1 & 100.54 & Rain         \\\\\n",
       "\t 15.6 & 77 & 16 & 48.3 & 101.49 & Mostly Cloudy\\\\\n",
       "\t 19.0 & 74 & 11 & 48.3 & 101.18 & Cloudy       \\\\\n",
       "\t ⋮ & ⋮ & ⋮ & ⋮ & ⋮ & ⋮\\\\\n",
       "\t 13.1 & 83 &  8 & 32.2 & 102.08 & Mainly Clear \\\\\n",
       "\t 18.6 & 79 & 18 & 48.3 & 100.48 & Mostly Cloudy\\\\\n",
       "\t 18.6 & 79 & 18 & 48.3 & 100.48 & Mostly Cloudy\\\\\n",
       "\t 19.7 & 59 & 16 & 48.3 & 100.51 & Mostly Cloudy\\\\\n",
       "\\end{tabular}\n"
      ],
      "text/markdown": [
       "\n",
       "A tibble: 500 × 6\n",
       "\n",
       "| Temp &lt;dbl&gt; | Humid &lt;dbl&gt; | Wind_Spd &lt;dbl&gt; | Vis &lt;dbl&gt; | Press &lt;dbl&gt; | Weather &lt;fct&gt; |\n",
       "|---|---|---|---|---|---|\n",
       "| 15.9 | 81 | 18 | 48.3 | 100.73 | Rain Showers  |\n",
       "| 12.0 | 84 | 28 | 32.2 | 101.89 | Mostly Cloudy |\n",
       "| 15.3 | 96 | 21 | 24.1 | 100.54 | Rain          |\n",
       "| 15.6 | 77 | 16 | 48.3 | 101.49 | Mostly Cloudy |\n",
       "| 19.0 | 74 | 11 | 48.3 | 101.18 | Cloudy        |\n",
       "| ⋮ | ⋮ | ⋮ | ⋮ | ⋮ | ⋮ |\n",
       "| 13.1 | 83 |  8 | 32.2 | 102.08 | Mainly Clear  |\n",
       "| 18.6 | 79 | 18 | 48.3 | 100.48 | Mostly Cloudy |\n",
       "| 18.6 | 79 | 18 | 48.3 | 100.48 | Mostly Cloudy |\n",
       "| 19.7 | 59 | 16 | 48.3 | 100.51 | Mostly Cloudy |\n",
       "\n"
      ],
      "text/plain": [
       "    Temp Humid Wind_Spd Vis  Press  Weather      \n",
       "1   15.9 81    18       48.3 100.73 Rain Showers \n",
       "2   12.0 84    28       32.2 101.89 Mostly Cloudy\n",
       "3   15.3 96    21       24.1 100.54 Rain         \n",
       "4   15.6 77    16       48.3 101.49 Mostly Cloudy\n",
       "5   19.0 74    11       48.3 101.18 Cloudy       \n",
       "⋮   ⋮    ⋮     ⋮        ⋮    ⋮      ⋮            \n",
       "497 13.1 83     8       32.2 102.08 Mainly Clear \n",
       "498 18.6 79    18       48.3 100.48 Mostly Cloudy\n",
       "499 18.6 79    18       48.3 100.48 Mostly Cloudy\n",
       "500 19.7 59    16       48.3 100.51 Mostly Cloudy"
      ]
     },
     "metadata": {},
     "output_type": "display_data"
    },
    {
     "data": {
      "text/html": [
       "'Caption - A sample of the training data after rare weather classifications were removed and 500 observations were randomly sampled.'"
      ],
      "text/latex": [
       "'Caption - A sample of the training data after rare weather classifications were removed and 500 observations were randomly sampled.'"
      ],
      "text/markdown": [
       "'Caption - A sample of the training data after rare weather classifications were removed and 500 observations were randomly sampled.'"
      ],
      "text/plain": [
       "[1] \"Caption - A sample of the training data after rare weather classifications were removed and 500 observations were randomly sampled.\""
      ]
     },
     "metadata": {},
     "output_type": "display_data"
    }
   ],
   "source": [
    "options(repr.matrix.max.rows = 9)\n",
    "set.seed(2022) #we need this to make our code reproducible, since sample is a random function\n",
    "\n",
    "weather_data <- read_csv(\"https://raw.githubusercontent.com/hyunseokjg/DSCI100-Group15-Project/main/data/testing_set.csv\")\n",
    "paste(\"Table 1.1 - Entire Training Data (Unbalanced, Unfiltered)\")\n",
    "weather_data\n",
    "paste(\"Caption - A sample of what our raw training data looks like, before rare weather classifications are filtered out.\")\n",
    "\n",
    "#Let's remove the very rare weather classes for simplicity and so we do not overreppresent them when we balance our data\n",
    "\n",
    "filtered_weather_data <- weather_data %>%\n",
    "    filter(Weather != \"Heavy Rain\", \n",
    "           Weather != \"Moderate Rain\",\n",
    "           Weather != \"Clear\",\n",
    "           Weather != \"Moderate Rain,Fog\") %>%\n",
    "    mutate(Weather = as_factor(Weather)) %>%\n",
    "    sample_n(500)\n",
    "paste(\"Table 1.2 - Filtered Training Data (Unbalanced)\")\n",
    "filtered_weather_data\n",
    "paste(\"Caption - A sample of the training data after rare weather classifications were removed and 500 observations were randomly sampled.\")\n",
    "\n",
    "#Now we can split our dataset into training and testing sets using the initial_split function so we don't create our model with the same\n",
    "#data that we will use to test it later on.\n",
    "\n",
    "weather_split <- initial_split(filtered_weather_data, prop = 0.75, strata = Weather)\n",
    "weather_train = training(weather_split)\n",
    "weather_test = testing(weather_split)"
   ]
  },
  {
   "cell_type": "code",
   "execution_count": 5,
   "metadata": {},
   "outputs": [
    {
     "data": {
      "text/html": [
       "'Table 1.3 - Proportions of Training Data (Unbalanced)'"
      ],
      "text/latex": [
       "'Table 1.3 - Proportions of Training Data (Unbalanced)'"
      ],
      "text/markdown": [
       "'Table 1.3 - Proportions of Training Data (Unbalanced)'"
      ],
      "text/plain": [
       "[1] \"Table 1.3 - Proportions of Training Data (Unbalanced)\""
      ]
     },
     "metadata": {},
     "output_type": "display_data"
    },
    {
     "data": {
      "text/html": [
       "<table class=\"dataframe\">\n",
       "<caption>A tibble: 5 × 3</caption>\n",
       "<thead>\n",
       "\t<tr><th scope=col>Weather</th><th scope=col>n</th><th scope=col>percent</th></tr>\n",
       "\t<tr><th scope=col>&lt;fct&gt;</th><th scope=col>&lt;int&gt;</th><th scope=col>&lt;dbl&gt;</th></tr>\n",
       "</thead>\n",
       "<tbody>\n",
       "\t<tr><td>Mostly Cloudy</td><td>112</td><td>29.946524</td></tr>\n",
       "\t<tr><td>Cloudy       </td><td> 85</td><td>22.727273</td></tr>\n",
       "\t<tr><td>Rain Showers </td><td> 34</td><td> 9.090909</td></tr>\n",
       "\t<tr><td>Rain         </td><td> 99</td><td>26.470588</td></tr>\n",
       "\t<tr><td>Mainly Clear </td><td> 44</td><td>11.764706</td></tr>\n",
       "</tbody>\n",
       "</table>\n"
      ],
      "text/latex": [
       "A tibble: 5 × 3\n",
       "\\begin{tabular}{lll}\n",
       " Weather & n & percent\\\\\n",
       " <fct> & <int> & <dbl>\\\\\n",
       "\\hline\n",
       "\t Mostly Cloudy & 112 & 29.946524\\\\\n",
       "\t Cloudy        &  85 & 22.727273\\\\\n",
       "\t Rain Showers  &  34 &  9.090909\\\\\n",
       "\t Rain          &  99 & 26.470588\\\\\n",
       "\t Mainly Clear  &  44 & 11.764706\\\\\n",
       "\\end{tabular}\n"
      ],
      "text/markdown": [
       "\n",
       "A tibble: 5 × 3\n",
       "\n",
       "| Weather &lt;fct&gt; | n &lt;int&gt; | percent &lt;dbl&gt; |\n",
       "|---|---|---|\n",
       "| Mostly Cloudy | 112 | 29.946524 |\n",
       "| Cloudy        |  85 | 22.727273 |\n",
       "| Rain Showers  |  34 |  9.090909 |\n",
       "| Rain          |  99 | 26.470588 |\n",
       "| Mainly Clear  |  44 | 11.764706 |\n",
       "\n"
      ],
      "text/plain": [
       "  Weather       n   percent  \n",
       "1 Mostly Cloudy 112 29.946524\n",
       "2 Cloudy         85 22.727273\n",
       "3 Rain Showers   34  9.090909\n",
       "4 Rain           99 26.470588\n",
       "5 Mainly Clear   44 11.764706"
      ]
     },
     "metadata": {},
     "output_type": "display_data"
    },
    {
     "data": {
      "text/html": [
       "'Caption - The number of observations for each of the remaining weather classes in our dataset, \\nand the percentage of the dataset that it makes up.'"
      ],
      "text/latex": [
       "'Caption - The number of observations for each of the remaining weather classes in our dataset, \\textbackslash{}nand the percentage of the dataset that it makes up.'"
      ],
      "text/markdown": [
       "'Caption - The number of observations for each of the remaining weather classes in our dataset, \\nand the percentage of the dataset that it makes up.'"
      ],
      "text/plain": [
       "[1] \"Caption - The number of observations for each of the remaining weather classes in our dataset, \\nand the percentage of the dataset that it makes up.\""
      ]
     },
     "metadata": {},
     "output_type": "display_data"
    }
   ],
   "source": [
    "#check to see if proportions of data are close enough to use or if we should scale up some\n",
    "#of the other weather classifications\n",
    "\n",
    "number_rows <- nrow(weather_train)\n",
    "\n",
    "proportions <- weather_train %>%\n",
    "    group_by(Weather) %>%\n",
    "    summarize(n = n()) %>%\n",
    "    mutate(percent = 100*n/number_rows)\n",
    "paste(\"Table 1.3 - Proportions of Training Data (Unbalanced)\")\n",
    "proportions\n",
    "paste(\"Caption - The number of observations for each of the remaining weather classes in our dataset, \n",
    "and the percentage of the dataset that it makes up.\")"
   ]
  },
  {
   "cell_type": "code",
   "execution_count": 6,
   "metadata": {},
   "outputs": [
    {
     "data": {
      "text/html": [
       "'Table 1.4 - Proportions of Upscaled Data (Balanced Training Data)'"
      ],
      "text/latex": [
       "'Table 1.4 - Proportions of Upscaled Data (Balanced Training Data)'"
      ],
      "text/markdown": [
       "'Table 1.4 - Proportions of Upscaled Data (Balanced Training Data)'"
      ],
      "text/plain": [
       "[1] \"Table 1.4 - Proportions of Upscaled Data (Balanced Training Data)\""
      ]
     },
     "metadata": {},
     "output_type": "display_data"
    },
    {
     "data": {
      "text/html": [
       "<table class=\"dataframe\">\n",
       "<caption>A tibble: 5 × 3</caption>\n",
       "<thead>\n",
       "\t<tr><th scope=col>Weather</th><th scope=col>n</th><th scope=col>percent</th></tr>\n",
       "\t<tr><th scope=col>&lt;fct&gt;</th><th scope=col>&lt;int&gt;</th><th scope=col>&lt;dbl&gt;</th></tr>\n",
       "</thead>\n",
       "<tbody>\n",
       "\t<tr><td>Mostly Cloudy</td><td>112</td><td>29.94652</td></tr>\n",
       "\t<tr><td>Cloudy       </td><td>112</td><td>29.94652</td></tr>\n",
       "\t<tr><td>Rain Showers </td><td>112</td><td>29.94652</td></tr>\n",
       "\t<tr><td>Rain         </td><td>112</td><td>29.94652</td></tr>\n",
       "\t<tr><td>Mainly Clear </td><td>112</td><td>29.94652</td></tr>\n",
       "</tbody>\n",
       "</table>\n"
      ],
      "text/latex": [
       "A tibble: 5 × 3\n",
       "\\begin{tabular}{lll}\n",
       " Weather & n & percent\\\\\n",
       " <fct> & <int> & <dbl>\\\\\n",
       "\\hline\n",
       "\t Mostly Cloudy & 112 & 29.94652\\\\\n",
       "\t Cloudy        & 112 & 29.94652\\\\\n",
       "\t Rain Showers  & 112 & 29.94652\\\\\n",
       "\t Rain          & 112 & 29.94652\\\\\n",
       "\t Mainly Clear  & 112 & 29.94652\\\\\n",
       "\\end{tabular}\n"
      ],
      "text/markdown": [
       "\n",
       "A tibble: 5 × 3\n",
       "\n",
       "| Weather &lt;fct&gt; | n &lt;int&gt; | percent &lt;dbl&gt; |\n",
       "|---|---|---|\n",
       "| Mostly Cloudy | 112 | 29.94652 |\n",
       "| Cloudy        | 112 | 29.94652 |\n",
       "| Rain Showers  | 112 | 29.94652 |\n",
       "| Rain          | 112 | 29.94652 |\n",
       "| Mainly Clear  | 112 | 29.94652 |\n",
       "\n"
      ],
      "text/plain": [
       "  Weather       n   percent \n",
       "1 Mostly Cloudy 112 29.94652\n",
       "2 Cloudy        112 29.94652\n",
       "3 Rain Showers  112 29.94652\n",
       "4 Rain          112 29.94652\n",
       "5 Mainly Clear  112 29.94652"
      ]
     },
     "metadata": {},
     "output_type": "display_data"
    },
    {
     "data": {
      "text/html": [
       "'Caption - This table shows us that our use of step_upsample to balance each weather classification was successful.'"
      ],
      "text/latex": [
       "'Caption - This table shows us that our use of step\\_upsample to balance each weather classification was successful.'"
      ],
      "text/markdown": [
       "'Caption - This table shows us that our use of step_upsample to balance each weather classification was successful.'"
      ],
      "text/plain": [
       "[1] \"Caption - This table shows us that our use of step_upsample to balance each weather classification was successful.\""
      ]
     },
     "metadata": {},
     "output_type": "display_data"
    }
   ],
   "source": [
    "#now because we can see our classes are unbalanced, we want to balance our classes using step_upsample\n",
    "ups_recipe <- recipe(Weather ~ ., data = weather_train) %>%\n",
    "    step_upsample(Weather, over_ratio = 1, skip = FALSE) %>%\n",
    "    prep()\n",
    "\n",
    "#now we create our new training data set with balanced classes\n",
    "upsampled_weather <- bake(ups_recipe, weather_train)\n",
    "\n",
    "#now we check weather our classes have been properly balanced\n",
    "paste(\"Table 1.4 - Proportions of Upscaled Data (Balanced Training Data)\")\n",
    "upsampled_weather %>% group_by(Weather) %>%\n",
    "    summarize(n = n()) %>%\n",
    "    mutate(percent = 100*n/number_rows)\n",
    "paste(\"Caption - This table shows us that our use of step_upsample to balance each weather classification was successful.\")"
   ]
  },
  {
   "cell_type": "code",
   "execution_count": 8,
   "metadata": {},
   "outputs": [],
   "source": [
    "set.seed(2022)\n",
    "\n",
    "#now we will create the functions we will use many times later in forward selection and our final model. \n",
    "weather_knn <- nearest_neighbor(weight_func = \"rectangular\", neighbors = tune()) %>%\n",
    "    set_engine(\"kknn\") %>%\n",
    "    set_mode(\"classification\")\n",
    "\n",
    "weather_vfold <- vfold_cv(weather_train, v = 5, strata = Weather)\n",
    "\n",
    "k_grid <- tibble(neighbors = 1:30)"
   ]
  },
  {
   "cell_type": "markdown",
   "metadata": {},
   "source": [
    "### Forward Selection - Predictor Variable Selection Process"
   ]
  },
  {
   "cell_type": "markdown",
   "metadata": {},
   "source": [
    "#### Phase 1: One Variable"
   ]
  },
  {
   "cell_type": "code",
   "execution_count": 9,
   "metadata": {
    "tags": []
   },
   "outputs": [
    {
     "data": {
      "text/html": [
       "'Table 2.1 - Accuracy of Temp'"
      ],
      "text/latex": [
       "'Table 2.1 - Accuracy of Temp'"
      ],
      "text/markdown": [
       "'Table 2.1 - Accuracy of Temp'"
      ],
      "text/plain": [
       "[1] \"Table 2.1 - Accuracy of Temp\""
      ]
     },
     "metadata": {},
     "output_type": "display_data"
    },
    {
     "data": {
      "text/html": [
       "<table class=\"dataframe\">\n",
       "<caption>A tibble: 1 × 7</caption>\n",
       "<thead>\n",
       "\t<tr><th scope=col>neighbors</th><th scope=col>.metric</th><th scope=col>.estimator</th><th scope=col>mean</th><th scope=col>n</th><th scope=col>std_err</th><th scope=col>.config</th></tr>\n",
       "\t<tr><th scope=col>&lt;int&gt;</th><th scope=col>&lt;chr&gt;</th><th scope=col>&lt;chr&gt;</th><th scope=col>&lt;dbl&gt;</th><th scope=col>&lt;int&gt;</th><th scope=col>&lt;dbl&gt;</th><th scope=col>&lt;chr&gt;</th></tr>\n",
       "</thead>\n",
       "<tbody>\n",
       "\t<tr><td>1</td><td>accuracy</td><td>multiclass</td><td>0.4652455</td><td>5</td><td>0.02247882</td><td>Preprocessor1_Model01</td></tr>\n",
       "</tbody>\n",
       "</table>\n"
      ],
      "text/latex": [
       "A tibble: 1 × 7\n",
       "\\begin{tabular}{lllllll}\n",
       " neighbors & .metric & .estimator & mean & n & std\\_err & .config\\\\\n",
       " <int> & <chr> & <chr> & <dbl> & <int> & <dbl> & <chr>\\\\\n",
       "\\hline\n",
       "\t 1 & accuracy & multiclass & 0.4652455 & 5 & 0.02247882 & Preprocessor1\\_Model01\\\\\n",
       "\\end{tabular}\n"
      ],
      "text/markdown": [
       "\n",
       "A tibble: 1 × 7\n",
       "\n",
       "| neighbors &lt;int&gt; | .metric &lt;chr&gt; | .estimator &lt;chr&gt; | mean &lt;dbl&gt; | n &lt;int&gt; | std_err &lt;dbl&gt; | .config &lt;chr&gt; |\n",
       "|---|---|---|---|---|---|---|\n",
       "| 1 | accuracy | multiclass | 0.4652455 | 5 | 0.02247882 | Preprocessor1_Model01 |\n",
       "\n"
      ],
      "text/plain": [
       "  neighbors .metric  .estimator mean      n std_err    .config              \n",
       "1 1         accuracy multiclass 0.4652455 5 0.02247882 Preprocessor1_Model01"
      ]
     },
     "metadata": {},
     "output_type": "display_data"
    },
    {
     "data": {
      "text/html": [
       "'Caption - Highest accuracy and the accompanying number of neighbors\\nwhen forward selection is done with the predictor variable Temperature only.'"
      ],
      "text/latex": [
       "'Caption - Highest accuracy and the accompanying number of neighbors\\textbackslash{}nwhen forward selection is done with the predictor variable Temperature only.'"
      ],
      "text/markdown": [
       "'Caption - Highest accuracy and the accompanying number of neighbors\\nwhen forward selection is done with the predictor variable Temperature only.'"
      ],
      "text/plain": [
       "[1] \"Caption - Highest accuracy and the accompanying number of neighbors\\nwhen forward selection is done with the predictor variable Temperature only.\""
      ]
     },
     "metadata": {},
     "output_type": "display_data"
    }
   ],
   "source": [
    "set.seed(2022)\n",
    "\n",
    "# Model 1.1 - Temperature\n",
    "temp_recipe <- recipe(Weather ~ Temp, data = upsampled_weather) %>%\n",
    "    step_center(all_predictors()) %>%\n",
    "    step_scale(all_predictors())\n",
    "\n",
    "temp_fit <- workflow() %>%\n",
    "    add_recipe(temp_recipe) %>%\n",
    "    add_model(weather_knn) %>%\n",
    "    tune_grid(resamples = weather_vfold, grid = k_grid) %>%\n",
    "    collect_metrics()\n",
    "\n",
    "temp_accuracy <- temp_fit %>%\n",
    "    filter(.metric == \"accuracy\") %>%\n",
    "    arrange(-mean) %>%\n",
    "    slice(1)\n",
    "\n",
    "paste(\"Table 2.1 - Accuracy of Temp\")\n",
    "temp_accuracy\n",
    "paste(\"Caption - Highest accuracy and the accompanying number of neighbors\n",
    "when forward selection is done with the predictor variable Temperature only.\")"
   ]
  },
  {
   "cell_type": "code",
   "execution_count": 10,
   "metadata": {},
   "outputs": [
    {
     "data": {
      "text/html": [
       "'Table 2.2 - Accuracy of Humid'"
      ],
      "text/latex": [
       "'Table 2.2 - Accuracy of Humid'"
      ],
      "text/markdown": [
       "'Table 2.2 - Accuracy of Humid'"
      ],
      "text/plain": [
       "[1] \"Table 2.2 - Accuracy of Humid\""
      ]
     },
     "metadata": {},
     "output_type": "display_data"
    },
    {
     "data": {
      "text/html": [
       "<table class=\"dataframe\">\n",
       "<caption>A tibble: 1 × 7</caption>\n",
       "<thead>\n",
       "\t<tr><th scope=col>neighbors</th><th scope=col>.metric</th><th scope=col>.estimator</th><th scope=col>mean</th><th scope=col>n</th><th scope=col>std_err</th><th scope=col>.config</th></tr>\n",
       "\t<tr><th scope=col>&lt;int&gt;</th><th scope=col>&lt;chr&gt;</th><th scope=col>&lt;chr&gt;</th><th scope=col>&lt;dbl&gt;</th><th scope=col>&lt;int&gt;</th><th scope=col>&lt;dbl&gt;</th><th scope=col>&lt;chr&gt;</th></tr>\n",
       "</thead>\n",
       "<tbody>\n",
       "\t<tr><td>17</td><td>accuracy</td><td>multiclass</td><td>0.4711236</td><td>5</td><td>0.04751886</td><td>Preprocessor1_Model17</td></tr>\n",
       "</tbody>\n",
       "</table>\n"
      ],
      "text/latex": [
       "A tibble: 1 × 7\n",
       "\\begin{tabular}{lllllll}\n",
       " neighbors & .metric & .estimator & mean & n & std\\_err & .config\\\\\n",
       " <int> & <chr> & <chr> & <dbl> & <int> & <dbl> & <chr>\\\\\n",
       "\\hline\n",
       "\t 17 & accuracy & multiclass & 0.4711236 & 5 & 0.04751886 & Preprocessor1\\_Model17\\\\\n",
       "\\end{tabular}\n"
      ],
      "text/markdown": [
       "\n",
       "A tibble: 1 × 7\n",
       "\n",
       "| neighbors &lt;int&gt; | .metric &lt;chr&gt; | .estimator &lt;chr&gt; | mean &lt;dbl&gt; | n &lt;int&gt; | std_err &lt;dbl&gt; | .config &lt;chr&gt; |\n",
       "|---|---|---|---|---|---|---|\n",
       "| 17 | accuracy | multiclass | 0.4711236 | 5 | 0.04751886 | Preprocessor1_Model17 |\n",
       "\n"
      ],
      "text/plain": [
       "  neighbors .metric  .estimator mean      n std_err    .config              \n",
       "1 17        accuracy multiclass 0.4711236 5 0.04751886 Preprocessor1_Model17"
      ]
     },
     "metadata": {},
     "output_type": "display_data"
    },
    {
     "data": {
      "text/html": [
       "'Caption - Highest accuracy and the accompanying number of neighbors\\nwhen forward selection is done with the predictor variable Humidity only.'"
      ],
      "text/latex": [
       "'Caption - Highest accuracy and the accompanying number of neighbors\\textbackslash{}nwhen forward selection is done with the predictor variable Humidity only.'"
      ],
      "text/markdown": [
       "'Caption - Highest accuracy and the accompanying number of neighbors\\nwhen forward selection is done with the predictor variable Humidity only.'"
      ],
      "text/plain": [
       "[1] \"Caption - Highest accuracy and the accompanying number of neighbors\\nwhen forward selection is done with the predictor variable Humidity only.\""
      ]
     },
     "metadata": {},
     "output_type": "display_data"
    }
   ],
   "source": [
    "set.seed(2022)\n",
    "\n",
    "# Model 2.1 - Humidity\n",
    "humid_recipe <- recipe(Weather ~ Humid, data = upsampled_weather) %>%\n",
    "    step_center(all_predictors()) %>%\n",
    "    step_scale(all_predictors())\n",
    "\n",
    "humid_fit <- workflow() %>%\n",
    "    add_recipe(humid_recipe) %>%\n",
    "    add_model(weather_knn) %>%\n",
    "    tune_grid(resamples = weather_vfold, grid = k_grid) %>%\n",
    "    collect_metrics()\n",
    "\n",
    "humid_accuracy <- humid_fit %>%\n",
    "    filter(.metric == \"accuracy\") %>%\n",
    "    arrange(-mean) %>%\n",
    "    slice(1)\n",
    "\n",
    "paste(\"Table 2.2 - Accuracy of Humid\")\n",
    "humid_accuracy\n",
    "paste(\"Caption - Highest accuracy and the accompanying number of neighbors\n",
    "when forward selection is done with the predictor variable Humidity only.\")"
   ]
  },
  {
   "cell_type": "code",
   "execution_count": 11,
   "metadata": {},
   "outputs": [
    {
     "data": {
      "text/html": [
       "'Table 2.3 - Accuracy of Wind_Spd'"
      ],
      "text/latex": [
       "'Table 2.3 - Accuracy of Wind\\_Spd'"
      ],
      "text/markdown": [
       "'Table 2.3 - Accuracy of Wind_Spd'"
      ],
      "text/plain": [
       "[1] \"Table 2.3 - Accuracy of Wind_Spd\""
      ]
     },
     "metadata": {},
     "output_type": "display_data"
    },
    {
     "data": {
      "text/html": [
       "<table class=\"dataframe\">\n",
       "<caption>A tibble: 1 × 7</caption>\n",
       "<thead>\n",
       "\t<tr><th scope=col>neighbors</th><th scope=col>.metric</th><th scope=col>.estimator</th><th scope=col>mean</th><th scope=col>n</th><th scope=col>std_err</th><th scope=col>.config</th></tr>\n",
       "\t<tr><th scope=col>&lt;int&gt;</th><th scope=col>&lt;chr&gt;</th><th scope=col>&lt;chr&gt;</th><th scope=col>&lt;dbl&gt;</th><th scope=col>&lt;int&gt;</th><th scope=col>&lt;dbl&gt;</th><th scope=col>&lt;chr&gt;</th></tr>\n",
       "</thead>\n",
       "<tbody>\n",
       "\t<tr><td>30</td><td>accuracy</td><td>multiclass</td><td>0.4009959</td><td>5</td><td>0.01861239</td><td>Preprocessor1_Model30</td></tr>\n",
       "</tbody>\n",
       "</table>\n"
      ],
      "text/latex": [
       "A tibble: 1 × 7\n",
       "\\begin{tabular}{lllllll}\n",
       " neighbors & .metric & .estimator & mean & n & std\\_err & .config\\\\\n",
       " <int> & <chr> & <chr> & <dbl> & <int> & <dbl> & <chr>\\\\\n",
       "\\hline\n",
       "\t 30 & accuracy & multiclass & 0.4009959 & 5 & 0.01861239 & Preprocessor1\\_Model30\\\\\n",
       "\\end{tabular}\n"
      ],
      "text/markdown": [
       "\n",
       "A tibble: 1 × 7\n",
       "\n",
       "| neighbors &lt;int&gt; | .metric &lt;chr&gt; | .estimator &lt;chr&gt; | mean &lt;dbl&gt; | n &lt;int&gt; | std_err &lt;dbl&gt; | .config &lt;chr&gt; |\n",
       "|---|---|---|---|---|---|---|\n",
       "| 30 | accuracy | multiclass | 0.4009959 | 5 | 0.01861239 | Preprocessor1_Model30 |\n",
       "\n"
      ],
      "text/plain": [
       "  neighbors .metric  .estimator mean      n std_err    .config              \n",
       "1 30        accuracy multiclass 0.4009959 5 0.01861239 Preprocessor1_Model30"
      ]
     },
     "metadata": {},
     "output_type": "display_data"
    },
    {
     "data": {
      "text/html": [
       "'Caption - Highest accuracy and the accompanying number of neighbors\\nwhen forward selection is done with the predictor variable Wind Speed only.'"
      ],
      "text/latex": [
       "'Caption - Highest accuracy and the accompanying number of neighbors\\textbackslash{}nwhen forward selection is done with the predictor variable Wind Speed only.'"
      ],
      "text/markdown": [
       "'Caption - Highest accuracy and the accompanying number of neighbors\\nwhen forward selection is done with the predictor variable Wind Speed only.'"
      ],
      "text/plain": [
       "[1] \"Caption - Highest accuracy and the accompanying number of neighbors\\nwhen forward selection is done with the predictor variable Wind Speed only.\""
      ]
     },
     "metadata": {},
     "output_type": "display_data"
    }
   ],
   "source": [
    "set.seed(2022)\n",
    "\n",
    "# Model 3.1 - Wind Speed\n",
    "wind_recipe <- recipe(Weather ~ Wind_Spd, data = upsampled_weather) %>%\n",
    "    step_center(all_predictors()) %>%\n",
    "    step_scale(all_predictors())\n",
    "\n",
    "wind_fit <- workflow() %>%\n",
    "    add_recipe(wind_recipe) %>%\n",
    "    add_model(weather_knn) %>%\n",
    "    tune_grid(resamples = weather_vfold, grid = k_grid) %>%\n",
    "    collect_metrics()\n",
    "\n",
    "wind_accuracy <- wind_fit %>%\n",
    "    filter(.metric == \"accuracy\") %>%\n",
    "    arrange(-mean) %>%\n",
    "    slice(1)\n",
    "\n",
    "paste(\"Table 2.3 - Accuracy of Wind_Spd\")\n",
    "wind_accuracy\n",
    "paste(\"Caption - Highest accuracy and the accompanying number of neighbors\n",
    "when forward selection is done with the predictor variable Wind Speed only.\")"
   ]
  },
  {
   "cell_type": "code",
   "execution_count": 12,
   "metadata": {},
   "outputs": [
    {
     "data": {
      "text/html": [
       "'Table 2.4 - Accuracy of Vis'"
      ],
      "text/latex": [
       "'Table 2.4 - Accuracy of Vis'"
      ],
      "text/markdown": [
       "'Table 2.4 - Accuracy of Vis'"
      ],
      "text/plain": [
       "[1] \"Table 2.4 - Accuracy of Vis\""
      ]
     },
     "metadata": {},
     "output_type": "display_data"
    },
    {
     "data": {
      "text/html": [
       "<table class=\"dataframe\">\n",
       "<caption>A tibble: 1 × 7</caption>\n",
       "<thead>\n",
       "\t<tr><th scope=col>neighbors</th><th scope=col>.metric</th><th scope=col>.estimator</th><th scope=col>mean</th><th scope=col>n</th><th scope=col>std_err</th><th scope=col>.config</th></tr>\n",
       "\t<tr><th scope=col>&lt;int&gt;</th><th scope=col>&lt;chr&gt;</th><th scope=col>&lt;chr&gt;</th><th scope=col>&lt;dbl&gt;</th><th scope=col>&lt;int&gt;</th><th scope=col>&lt;dbl&gt;</th><th scope=col>&lt;chr&gt;</th></tr>\n",
       "</thead>\n",
       "<tbody>\n",
       "\t<tr><td>11</td><td>accuracy</td><td>multiclass</td><td>0.3098632</td><td>5</td><td>0.01730448</td><td>Preprocessor1_Model11</td></tr>\n",
       "</tbody>\n",
       "</table>\n"
      ],
      "text/latex": [
       "A tibble: 1 × 7\n",
       "\\begin{tabular}{lllllll}\n",
       " neighbors & .metric & .estimator & mean & n & std\\_err & .config\\\\\n",
       " <int> & <chr> & <chr> & <dbl> & <int> & <dbl> & <chr>\\\\\n",
       "\\hline\n",
       "\t 11 & accuracy & multiclass & 0.3098632 & 5 & 0.01730448 & Preprocessor1\\_Model11\\\\\n",
       "\\end{tabular}\n"
      ],
      "text/markdown": [
       "\n",
       "A tibble: 1 × 7\n",
       "\n",
       "| neighbors &lt;int&gt; | .metric &lt;chr&gt; | .estimator &lt;chr&gt; | mean &lt;dbl&gt; | n &lt;int&gt; | std_err &lt;dbl&gt; | .config &lt;chr&gt; |\n",
       "|---|---|---|---|---|---|---|\n",
       "| 11 | accuracy | multiclass | 0.3098632 | 5 | 0.01730448 | Preprocessor1_Model11 |\n",
       "\n"
      ],
      "text/plain": [
       "  neighbors .metric  .estimator mean      n std_err    .config              \n",
       "1 11        accuracy multiclass 0.3098632 5 0.01730448 Preprocessor1_Model11"
      ]
     },
     "metadata": {},
     "output_type": "display_data"
    },
    {
     "data": {
      "text/html": [
       "'Caption - Highest accuracy and the accompanying number of neighbors\\nwhen forward selection is done with the predictor variable Visibility only.'"
      ],
      "text/latex": [
       "'Caption - Highest accuracy and the accompanying number of neighbors\\textbackslash{}nwhen forward selection is done with the predictor variable Visibility only.'"
      ],
      "text/markdown": [
       "'Caption - Highest accuracy and the accompanying number of neighbors\\nwhen forward selection is done with the predictor variable Visibility only.'"
      ],
      "text/plain": [
       "[1] \"Caption - Highest accuracy and the accompanying number of neighbors\\nwhen forward selection is done with the predictor variable Visibility only.\""
      ]
     },
     "metadata": {},
     "output_type": "display_data"
    }
   ],
   "source": [
    "set.seed(2022)\n",
    "\n",
    "# Model 4.1 - Visability\n",
    "vis_recipe <- recipe(Weather ~ Vis, data = upsampled_weather) %>%\n",
    "    step_center(all_predictors()) %>%\n",
    "    step_scale(all_predictors())\n",
    "\n",
    "vis_fit <- workflow() %>%\n",
    "    add_recipe(vis_recipe) %>%\n",
    "    add_model(weather_knn) %>%\n",
    "    tune_grid(resamples = weather_vfold, grid = k_grid) %>%\n",
    "    collect_metrics()\n",
    "\n",
    "vis_accuracy <- vis_fit %>%\n",
    "    filter(.metric == \"accuracy\") %>%\n",
    "    arrange(-mean) %>%\n",
    "    slice(1)\n",
    "\n",
    "paste(\"Table 2.4 - Accuracy of Vis\")\n",
    "vis_accuracy\n",
    "paste(\"Caption - Highest accuracy and the accompanying number of neighbors\n",
    "when forward selection is done with the predictor variable Visibility only.\")"
   ]
  },
  {
   "cell_type": "code",
   "execution_count": 13,
   "metadata": {},
   "outputs": [
    {
     "data": {
      "text/html": [
       "'Table 2.5 - Accuracy of Press'"
      ],
      "text/latex": [
       "'Table 2.5 - Accuracy of Press'"
      ],
      "text/markdown": [
       "'Table 2.5 - Accuracy of Press'"
      ],
      "text/plain": [
       "[1] \"Table 2.5 - Accuracy of Press\""
      ]
     },
     "metadata": {},
     "output_type": "display_data"
    },
    {
     "data": {
      "text/html": [
       "<table class=\"dataframe\">\n",
       "<caption>A tibble: 1 × 7</caption>\n",
       "<thead>\n",
       "\t<tr><th scope=col>neighbors</th><th scope=col>.metric</th><th scope=col>.estimator</th><th scope=col>mean</th><th scope=col>n</th><th scope=col>std_err</th><th scope=col>.config</th></tr>\n",
       "\t<tr><th scope=col>&lt;int&gt;</th><th scope=col>&lt;chr&gt;</th><th scope=col>&lt;chr&gt;</th><th scope=col>&lt;dbl&gt;</th><th scope=col>&lt;int&gt;</th><th scope=col>&lt;dbl&gt;</th><th scope=col>&lt;chr&gt;</th></tr>\n",
       "</thead>\n",
       "<tbody>\n",
       "\t<tr><td>1</td><td>accuracy</td><td>multiclass</td><td>0.6794265</td><td>5</td><td>0.02454574</td><td>Preprocessor1_Model01</td></tr>\n",
       "</tbody>\n",
       "</table>\n"
      ],
      "text/latex": [
       "A tibble: 1 × 7\n",
       "\\begin{tabular}{lllllll}\n",
       " neighbors & .metric & .estimator & mean & n & std\\_err & .config\\\\\n",
       " <int> & <chr> & <chr> & <dbl> & <int> & <dbl> & <chr>\\\\\n",
       "\\hline\n",
       "\t 1 & accuracy & multiclass & 0.6794265 & 5 & 0.02454574 & Preprocessor1\\_Model01\\\\\n",
       "\\end{tabular}\n"
      ],
      "text/markdown": [
       "\n",
       "A tibble: 1 × 7\n",
       "\n",
       "| neighbors &lt;int&gt; | .metric &lt;chr&gt; | .estimator &lt;chr&gt; | mean &lt;dbl&gt; | n &lt;int&gt; | std_err &lt;dbl&gt; | .config &lt;chr&gt; |\n",
       "|---|---|---|---|---|---|---|\n",
       "| 1 | accuracy | multiclass | 0.6794265 | 5 | 0.02454574 | Preprocessor1_Model01 |\n",
       "\n"
      ],
      "text/plain": [
       "  neighbors .metric  .estimator mean      n std_err    .config              \n",
       "1 1         accuracy multiclass 0.6794265 5 0.02454574 Preprocessor1_Model01"
      ]
     },
     "metadata": {},
     "output_type": "display_data"
    },
    {
     "data": {
      "text/html": [
       "'Caption - Highest accuracy and the accompanying number of neighbors\\nwhen forward selection is done with the predictor variable Air Pressure only.'"
      ],
      "text/latex": [
       "'Caption - Highest accuracy and the accompanying number of neighbors\\textbackslash{}nwhen forward selection is done with the predictor variable Air Pressure only.'"
      ],
      "text/markdown": [
       "'Caption - Highest accuracy and the accompanying number of neighbors\\nwhen forward selection is done with the predictor variable Air Pressure only.'"
      ],
      "text/plain": [
       "[1] \"Caption - Highest accuracy and the accompanying number of neighbors\\nwhen forward selection is done with the predictor variable Air Pressure only.\""
      ]
     },
     "metadata": {},
     "output_type": "display_data"
    }
   ],
   "source": [
    "set.seed(2022)\n",
    "\n",
    "# Model 5.1 - Air Pressure\n",
    "press_recipe <- recipe(Weather ~ Press, data = upsampled_weather) %>%\n",
    "    step_center(all_predictors()) %>%\n",
    "    step_scale(all_predictors())\n",
    "\n",
    "press_fit <- workflow() %>%\n",
    "    add_recipe(press_recipe) %>%\n",
    "    add_model(weather_knn) %>%\n",
    "    tune_grid(resamples = weather_vfold, grid = k_grid) %>%\n",
    "    collect_metrics()\n",
    "\n",
    "press_accuracy <- press_fit %>%\n",
    "    filter(.metric == \"accuracy\") %>%\n",
    "    arrange(-mean) %>%\n",
    "    slice(1)\n",
    "\n",
    "paste(\"Table 2.5 - Accuracy of Press\")\n",
    "press_accuracy\n",
    "paste(\"Caption - Highest accuracy and the accompanying number of neighbors\n",
    "when forward selection is done with the predictor variable Air Pressure only.\")"
   ]
  },
  {
   "cell_type": "markdown",
   "metadata": {},
   "source": [
    "**Findings:** Using air pressure has the highest prediction accuracy so far."
   ]
  },
  {
   "cell_type": "markdown",
   "metadata": {},
   "source": [
    "#### Phase 2: Two Predictor Variables"
   ]
  },
  {
   "cell_type": "code",
   "execution_count": 14,
   "metadata": {},
   "outputs": [
    {
     "data": {
      "text/html": [
       "'Table 2.6 - Accuracy of Press + Temp'"
      ],
      "text/latex": [
       "'Table 2.6 - Accuracy of Press + Temp'"
      ],
      "text/markdown": [
       "'Table 2.6 - Accuracy of Press + Temp'"
      ],
      "text/plain": [
       "[1] \"Table 2.6 - Accuracy of Press + Temp\""
      ]
     },
     "metadata": {},
     "output_type": "display_data"
    },
    {
     "data": {
      "text/html": [
       "<table class=\"dataframe\">\n",
       "<caption>A tibble: 1 × 7</caption>\n",
       "<thead>\n",
       "\t<tr><th scope=col>neighbors</th><th scope=col>.metric</th><th scope=col>.estimator</th><th scope=col>mean</th><th scope=col>n</th><th scope=col>std_err</th><th scope=col>.config</th></tr>\n",
       "\t<tr><th scope=col>&lt;int&gt;</th><th scope=col>&lt;chr&gt;</th><th scope=col>&lt;chr&gt;</th><th scope=col>&lt;dbl&gt;</th><th scope=col>&lt;int&gt;</th><th scope=col>&lt;dbl&gt;</th><th scope=col>&lt;chr&gt;</th></tr>\n",
       "</thead>\n",
       "<tbody>\n",
       "\t<tr><td>1</td><td>accuracy</td><td>multiclass</td><td>0.8935685</td><td>5</td><td>0.01413058</td><td>Preprocessor1_Model01</td></tr>\n",
       "</tbody>\n",
       "</table>\n"
      ],
      "text/latex": [
       "A tibble: 1 × 7\n",
       "\\begin{tabular}{lllllll}\n",
       " neighbors & .metric & .estimator & mean & n & std\\_err & .config\\\\\n",
       " <int> & <chr> & <chr> & <dbl> & <int> & <dbl> & <chr>\\\\\n",
       "\\hline\n",
       "\t 1 & accuracy & multiclass & 0.8935685 & 5 & 0.01413058 & Preprocessor1\\_Model01\\\\\n",
       "\\end{tabular}\n"
      ],
      "text/markdown": [
       "\n",
       "A tibble: 1 × 7\n",
       "\n",
       "| neighbors &lt;int&gt; | .metric &lt;chr&gt; | .estimator &lt;chr&gt; | mean &lt;dbl&gt; | n &lt;int&gt; | std_err &lt;dbl&gt; | .config &lt;chr&gt; |\n",
       "|---|---|---|---|---|---|---|\n",
       "| 1 | accuracy | multiclass | 0.8935685 | 5 | 0.01413058 | Preprocessor1_Model01 |\n",
       "\n"
      ],
      "text/plain": [
       "  neighbors .metric  .estimator mean      n std_err    .config              \n",
       "1 1         accuracy multiclass 0.8935685 5 0.01413058 Preprocessor1_Model01"
      ]
     },
     "metadata": {},
     "output_type": "display_data"
    },
    {
     "data": {
      "text/html": [
       "'Caption - Highest accuracy and the accompanying number of neighbors \\nwhen forward selection is done with the predictor variable Air Pressure and Temperature only.'"
      ],
      "text/latex": [
       "'Caption - Highest accuracy and the accompanying number of neighbors \\textbackslash{}nwhen forward selection is done with the predictor variable Air Pressure and Temperature only.'"
      ],
      "text/markdown": [
       "'Caption - Highest accuracy and the accompanying number of neighbors \\nwhen forward selection is done with the predictor variable Air Pressure and Temperature only.'"
      ],
      "text/plain": [
       "[1] \"Caption - Highest accuracy and the accompanying number of neighbors \\nwhen forward selection is done with the predictor variable Air Pressure and Temperature only.\""
      ]
     },
     "metadata": {},
     "output_type": "display_data"
    }
   ],
   "source": [
    "set.seed(2022)\n",
    "\n",
    "# Model 1.2 - Air Pressure + Temperature\n",
    "temp2_recipe <- recipe(Weather ~ Press + Temp, data = upsampled_weather) %>%\n",
    "    step_center(all_predictors()) %>%\n",
    "    step_scale(all_predictors())\n",
    "\n",
    "temp2_fit <- workflow() %>%\n",
    "    add_recipe(temp2_recipe) %>%\n",
    "    add_model(weather_knn) %>%\n",
    "    tune_grid(resamples = weather_vfold, grid = k_grid) %>%\n",
    "    collect_metrics()\n",
    "\n",
    "temp2_accuracy <- temp2_fit %>%\n",
    "    filter(.metric == \"accuracy\") %>%\n",
    "    arrange(-mean) %>%\n",
    "    slice(1)\n",
    "\n",
    "paste(\"Table 2.6 - Accuracy of Press + Temp\")\n",
    "temp2_accuracy\n",
    "paste(\"Caption - Highest accuracy and the accompanying number of neighbors \n",
    "when forward selection is done with the predictor variable Air Pressure and Temperature only.\")"
   ]
  },
  {
   "cell_type": "code",
   "execution_count": 15,
   "metadata": {},
   "outputs": [
    {
     "data": {
      "text/html": [
       "'Table 2.7 - Accuracy of Press + Humid'"
      ],
      "text/latex": [
       "'Table 2.7 - Accuracy of Press + Humid'"
      ],
      "text/markdown": [
       "'Table 2.7 - Accuracy of Press + Humid'"
      ],
      "text/plain": [
       "[1] \"Table 2.7 - Accuracy of Press + Humid\""
      ]
     },
     "metadata": {},
     "output_type": "display_data"
    },
    {
     "data": {
      "text/html": [
       "<table class=\"dataframe\">\n",
       "<caption>A tibble: 1 × 7</caption>\n",
       "<thead>\n",
       "\t<tr><th scope=col>neighbors</th><th scope=col>.metric</th><th scope=col>.estimator</th><th scope=col>mean</th><th scope=col>n</th><th scope=col>std_err</th><th scope=col>.config</th></tr>\n",
       "\t<tr><th scope=col>&lt;int&gt;</th><th scope=col>&lt;chr&gt;</th><th scope=col>&lt;chr&gt;</th><th scope=col>&lt;dbl&gt;</th><th scope=col>&lt;int&gt;</th><th scope=col>&lt;dbl&gt;</th><th scope=col>&lt;chr&gt;</th></tr>\n",
       "</thead>\n",
       "<tbody>\n",
       "\t<tr><td>2</td><td>accuracy</td><td>multiclass</td><td>0.8772763</td><td>5</td><td>0.009642194</td><td>Preprocessor1_Model02</td></tr>\n",
       "</tbody>\n",
       "</table>\n"
      ],
      "text/latex": [
       "A tibble: 1 × 7\n",
       "\\begin{tabular}{lllllll}\n",
       " neighbors & .metric & .estimator & mean & n & std\\_err & .config\\\\\n",
       " <int> & <chr> & <chr> & <dbl> & <int> & <dbl> & <chr>\\\\\n",
       "\\hline\n",
       "\t 2 & accuracy & multiclass & 0.8772763 & 5 & 0.009642194 & Preprocessor1\\_Model02\\\\\n",
       "\\end{tabular}\n"
      ],
      "text/markdown": [
       "\n",
       "A tibble: 1 × 7\n",
       "\n",
       "| neighbors &lt;int&gt; | .metric &lt;chr&gt; | .estimator &lt;chr&gt; | mean &lt;dbl&gt; | n &lt;int&gt; | std_err &lt;dbl&gt; | .config &lt;chr&gt; |\n",
       "|---|---|---|---|---|---|---|\n",
       "| 2 | accuracy | multiclass | 0.8772763 | 5 | 0.009642194 | Preprocessor1_Model02 |\n",
       "\n"
      ],
      "text/plain": [
       "  neighbors .metric  .estimator mean      n std_err     .config              \n",
       "1 2         accuracy multiclass 0.8772763 5 0.009642194 Preprocessor1_Model02"
      ]
     },
     "metadata": {},
     "output_type": "display_data"
    },
    {
     "data": {
      "text/html": [
       "'Caption - Highest accuracy and the accompanying number of neighbors \\nwhen forward selection is done with the predictor variable Air Pressure and Humidity only.'"
      ],
      "text/latex": [
       "'Caption - Highest accuracy and the accompanying number of neighbors \\textbackslash{}nwhen forward selection is done with the predictor variable Air Pressure and Humidity only.'"
      ],
      "text/markdown": [
       "'Caption - Highest accuracy and the accompanying number of neighbors \\nwhen forward selection is done with the predictor variable Air Pressure and Humidity only.'"
      ],
      "text/plain": [
       "[1] \"Caption - Highest accuracy and the accompanying number of neighbors \\nwhen forward selection is done with the predictor variable Air Pressure and Humidity only.\""
      ]
     },
     "metadata": {},
     "output_type": "display_data"
    }
   ],
   "source": [
    "set.seed(2022)\n",
    "\n",
    "# Model 2.2 - Air Pressure + Humidity\n",
    "humid2_recipe <- recipe(Weather ~ Press + Humid, data = upsampled_weather) %>%\n",
    "    step_center(all_predictors()) %>%\n",
    "    step_scale(all_predictors())\n",
    "\n",
    "humid2_fit <- workflow() %>%\n",
    "    add_recipe(humid2_recipe) %>%\n",
    "    add_model(weather_knn) %>%\n",
    "    tune_grid(resamples = weather_vfold, grid = k_grid) %>%\n",
    "    collect_metrics()\n",
    "\n",
    "humid2_accuracy <- humid2_fit %>%\n",
    "    filter(.metric == \"accuracy\") %>%\n",
    "    arrange(-mean) %>%\n",
    "    slice(1)\n",
    "\n",
    "paste(\"Table 2.7 - Accuracy of Press + Humid\")\n",
    "humid2_accuracy\n",
    "paste(\"Caption - Highest accuracy and the accompanying number of neighbors \n",
    "when forward selection is done with the predictor variable Air Pressure and Humidity only.\")"
   ]
  },
  {
   "cell_type": "code",
   "execution_count": 16,
   "metadata": {},
   "outputs": [
    {
     "data": {
      "text/html": [
       "'Table 2.8 - Accuracy of Press + Wind_Spd'"
      ],
      "text/latex": [
       "'Table 2.8 - Accuracy of Press + Wind\\_Spd'"
      ],
      "text/markdown": [
       "'Table 2.8 - Accuracy of Press + Wind_Spd'"
      ],
      "text/plain": [
       "[1] \"Table 2.8 - Accuracy of Press + Wind_Spd\""
      ]
     },
     "metadata": {},
     "output_type": "display_data"
    },
    {
     "data": {
      "text/html": [
       "<table class=\"dataframe\">\n",
       "<caption>A tibble: 1 × 7</caption>\n",
       "<thead>\n",
       "\t<tr><th scope=col>neighbors</th><th scope=col>.metric</th><th scope=col>.estimator</th><th scope=col>mean</th><th scope=col>n</th><th scope=col>std_err</th><th scope=col>.config</th></tr>\n",
       "\t<tr><th scope=col>&lt;int&gt;</th><th scope=col>&lt;chr&gt;</th><th scope=col>&lt;chr&gt;</th><th scope=col>&lt;dbl&gt;</th><th scope=col>&lt;int&gt;</th><th scope=col>&lt;dbl&gt;</th><th scope=col>&lt;chr&gt;</th></tr>\n",
       "</thead>\n",
       "<tbody>\n",
       "\t<tr><td>2</td><td>accuracy</td><td>multiclass</td><td>0.8502025</td><td>5</td><td>0.01077199</td><td>Preprocessor1_Model02</td></tr>\n",
       "</tbody>\n",
       "</table>\n"
      ],
      "text/latex": [
       "A tibble: 1 × 7\n",
       "\\begin{tabular}{lllllll}\n",
       " neighbors & .metric & .estimator & mean & n & std\\_err & .config\\\\\n",
       " <int> & <chr> & <chr> & <dbl> & <int> & <dbl> & <chr>\\\\\n",
       "\\hline\n",
       "\t 2 & accuracy & multiclass & 0.8502025 & 5 & 0.01077199 & Preprocessor1\\_Model02\\\\\n",
       "\\end{tabular}\n"
      ],
      "text/markdown": [
       "\n",
       "A tibble: 1 × 7\n",
       "\n",
       "| neighbors &lt;int&gt; | .metric &lt;chr&gt; | .estimator &lt;chr&gt; | mean &lt;dbl&gt; | n &lt;int&gt; | std_err &lt;dbl&gt; | .config &lt;chr&gt; |\n",
       "|---|---|---|---|---|---|---|\n",
       "| 2 | accuracy | multiclass | 0.8502025 | 5 | 0.01077199 | Preprocessor1_Model02 |\n",
       "\n"
      ],
      "text/plain": [
       "  neighbors .metric  .estimator mean      n std_err    .config              \n",
       "1 2         accuracy multiclass 0.8502025 5 0.01077199 Preprocessor1_Model02"
      ]
     },
     "metadata": {},
     "output_type": "display_data"
    },
    {
     "data": {
      "text/html": [
       "'Caption - Highest accuracy and the accompanying number of neighbors \\nwhen forward selection is done with the predictor variable Air Pressure and Wind Speed only.'"
      ],
      "text/latex": [
       "'Caption - Highest accuracy and the accompanying number of neighbors \\textbackslash{}nwhen forward selection is done with the predictor variable Air Pressure and Wind Speed only.'"
      ],
      "text/markdown": [
       "'Caption - Highest accuracy and the accompanying number of neighbors \\nwhen forward selection is done with the predictor variable Air Pressure and Wind Speed only.'"
      ],
      "text/plain": [
       "[1] \"Caption - Highest accuracy and the accompanying number of neighbors \\nwhen forward selection is done with the predictor variable Air Pressure and Wind Speed only.\""
      ]
     },
     "metadata": {},
     "output_type": "display_data"
    }
   ],
   "source": [
    "set.seed(2022)\n",
    "\n",
    "# Model 3.2 - Air Pressure + Wind Speed\n",
    "wind2_recipe <- recipe(Weather ~ Press + Wind_Spd, data = upsampled_weather) %>%\n",
    "    step_center(all_predictors()) %>%\n",
    "    step_scale(all_predictors())\n",
    "\n",
    "wind2_fit <- workflow() %>%\n",
    "    add_recipe(wind2_recipe) %>%\n",
    "    add_model(weather_knn) %>%\n",
    "    tune_grid(resamples = weather_vfold, grid = k_grid) %>%\n",
    "    collect_metrics()\n",
    "\n",
    "wind2_accuracy <- wind2_fit %>%\n",
    "    filter(.metric == \"accuracy\") %>%\n",
    "    arrange(-mean) %>%\n",
    "    slice(1)\n",
    "\n",
    "paste(\"Table 2.8 - Accuracy of Press + Wind_Spd\")\n",
    "wind2_accuracy\n",
    "paste(\"Caption - Highest accuracy and the accompanying number of neighbors \n",
    "when forward selection is done with the predictor variable Air Pressure and Wind Speed only.\")"
   ]
  },
  {
   "cell_type": "code",
   "execution_count": 17,
   "metadata": {},
   "outputs": [
    {
     "data": {
      "text/html": [
       "'Table 2.9 - Accuracy of Press + Vis'"
      ],
      "text/latex": [
       "'Table 2.9 - Accuracy of Press + Vis'"
      ],
      "text/markdown": [
       "'Table 2.9 - Accuracy of Press + Vis'"
      ],
      "text/plain": [
       "[1] \"Table 2.9 - Accuracy of Press + Vis\""
      ]
     },
     "metadata": {},
     "output_type": "display_data"
    },
    {
     "data": {
      "text/html": [
       "<table class=\"dataframe\">\n",
       "<caption>A tibble: 1 × 7</caption>\n",
       "<thead>\n",
       "\t<tr><th scope=col>neighbors</th><th scope=col>.metric</th><th scope=col>.estimator</th><th scope=col>mean</th><th scope=col>n</th><th scope=col>std_err</th><th scope=col>.config</th></tr>\n",
       "\t<tr><th scope=col>&lt;int&gt;</th><th scope=col>&lt;chr&gt;</th><th scope=col>&lt;chr&gt;</th><th scope=col>&lt;dbl&gt;</th><th scope=col>&lt;int&gt;</th><th scope=col>&lt;dbl&gt;</th><th scope=col>&lt;chr&gt;</th></tr>\n",
       "</thead>\n",
       "<tbody>\n",
       "\t<tr><td>1</td><td>accuracy</td><td>multiclass</td><td>0.8191948</td><td>5</td><td>0.02739178</td><td>Preprocessor1_Model01</td></tr>\n",
       "</tbody>\n",
       "</table>\n"
      ],
      "text/latex": [
       "A tibble: 1 × 7\n",
       "\\begin{tabular}{lllllll}\n",
       " neighbors & .metric & .estimator & mean & n & std\\_err & .config\\\\\n",
       " <int> & <chr> & <chr> & <dbl> & <int> & <dbl> & <chr>\\\\\n",
       "\\hline\n",
       "\t 1 & accuracy & multiclass & 0.8191948 & 5 & 0.02739178 & Preprocessor1\\_Model01\\\\\n",
       "\\end{tabular}\n"
      ],
      "text/markdown": [
       "\n",
       "A tibble: 1 × 7\n",
       "\n",
       "| neighbors &lt;int&gt; | .metric &lt;chr&gt; | .estimator &lt;chr&gt; | mean &lt;dbl&gt; | n &lt;int&gt; | std_err &lt;dbl&gt; | .config &lt;chr&gt; |\n",
       "|---|---|---|---|---|---|---|\n",
       "| 1 | accuracy | multiclass | 0.8191948 | 5 | 0.02739178 | Preprocessor1_Model01 |\n",
       "\n"
      ],
      "text/plain": [
       "  neighbors .metric  .estimator mean      n std_err    .config              \n",
       "1 1         accuracy multiclass 0.8191948 5 0.02739178 Preprocessor1_Model01"
      ]
     },
     "metadata": {},
     "output_type": "display_data"
    },
    {
     "data": {
      "text/html": [
       "'Caption - Highest accuracy and the accompanying number of neighbors \\nwhen forward selection is done with the predictor variable Air Pressure and Visibility only.'"
      ],
      "text/latex": [
       "'Caption - Highest accuracy and the accompanying number of neighbors \\textbackslash{}nwhen forward selection is done with the predictor variable Air Pressure and Visibility only.'"
      ],
      "text/markdown": [
       "'Caption - Highest accuracy and the accompanying number of neighbors \\nwhen forward selection is done with the predictor variable Air Pressure and Visibility only.'"
      ],
      "text/plain": [
       "[1] \"Caption - Highest accuracy and the accompanying number of neighbors \\nwhen forward selection is done with the predictor variable Air Pressure and Visibility only.\""
      ]
     },
     "metadata": {},
     "output_type": "display_data"
    }
   ],
   "source": [
    "set.seed(2022)\n",
    "\n",
    "# Model 4.2 - Air Pressure + Visibility\n",
    "vis2_recipe <- recipe(Weather ~ Press + Vis, data = upsampled_weather) %>%\n",
    "    step_center(all_predictors()) %>%\n",
    "    step_scale(all_predictors())\n",
    "\n",
    "vis2_fit <- workflow() %>%\n",
    "    add_recipe(vis2_recipe) %>%\n",
    "    add_model(weather_knn) %>%\n",
    "    tune_grid(resamples = weather_vfold, grid = k_grid) %>%\n",
    "    collect_metrics()\n",
    "\n",
    "vis2_accuracy <- vis2_fit %>%\n",
    "    filter(.metric == \"accuracy\") %>%\n",
    "    arrange(-mean) %>%\n",
    "    slice(1)\n",
    "\n",
    "paste(\"Table 2.9 - Accuracy of Press + Vis\")\n",
    "vis2_accuracy\n",
    "paste(\"Caption - Highest accuracy and the accompanying number of neighbors \n",
    "when forward selection is done with the predictor variable Air Pressure and Visibility only.\")"
   ]
  },
  {
   "cell_type": "markdown",
   "metadata": {},
   "source": [
    "**Findings:** Using air pressure and temperature has the highest accuracy so far."
   ]
  },
  {
   "cell_type": "markdown",
   "metadata": {},
   "source": [
    "#### Phase 3: Three Variables"
   ]
  },
  {
   "cell_type": "code",
   "execution_count": 44,
   "metadata": {},
   "outputs": [
    {
     "data": {
      "text/html": [
       "'Table 2.10 - Accuracy of Press + Humid + Temp'"
      ],
      "text/latex": [
       "'Table 2.10 - Accuracy of Press + Humid + Temp'"
      ],
      "text/markdown": [
       "'Table 2.10 - Accuracy of Press + Humid + Temp'"
      ],
      "text/plain": [
       "[1] \"Table 2.10 - Accuracy of Press + Humid + Temp\""
      ]
     },
     "metadata": {},
     "output_type": "display_data"
    },
    {
     "data": {
      "text/html": [
       "<table class=\"dataframe\">\n",
       "<caption>A tibble: 1 × 7</caption>\n",
       "<thead>\n",
       "\t<tr><th scope=col>neighbors</th><th scope=col>.metric</th><th scope=col>.estimator</th><th scope=col>mean</th><th scope=col>n</th><th scope=col>std_err</th><th scope=col>.config</th></tr>\n",
       "\t<tr><th scope=col>&lt;int&gt;</th><th scope=col>&lt;chr&gt;</th><th scope=col>&lt;chr&gt;</th><th scope=col>&lt;dbl&gt;</th><th scope=col>&lt;int&gt;</th><th scope=col>&lt;dbl&gt;</th><th scope=col>&lt;chr&gt;</th></tr>\n",
       "</thead>\n",
       "<tbody>\n",
       "\t<tr><td>1</td><td>accuracy</td><td>multiclass</td><td>0.8988022</td><td>5</td><td>0.01240489</td><td>Preprocessor1_Model01</td></tr>\n",
       "</tbody>\n",
       "</table>\n"
      ],
      "text/latex": [
       "A tibble: 1 × 7\n",
       "\\begin{tabular}{lllllll}\n",
       " neighbors & .metric & .estimator & mean & n & std\\_err & .config\\\\\n",
       " <int> & <chr> & <chr> & <dbl> & <int> & <dbl> & <chr>\\\\\n",
       "\\hline\n",
       "\t 1 & accuracy & multiclass & 0.8988022 & 5 & 0.01240489 & Preprocessor1\\_Model01\\\\\n",
       "\\end{tabular}\n"
      ],
      "text/markdown": [
       "\n",
       "A tibble: 1 × 7\n",
       "\n",
       "| neighbors &lt;int&gt; | .metric &lt;chr&gt; | .estimator &lt;chr&gt; | mean &lt;dbl&gt; | n &lt;int&gt; | std_err &lt;dbl&gt; | .config &lt;chr&gt; |\n",
       "|---|---|---|---|---|---|---|\n",
       "| 1 | accuracy | multiclass | 0.8988022 | 5 | 0.01240489 | Preprocessor1_Model01 |\n",
       "\n"
      ],
      "text/plain": [
       "  neighbors .metric  .estimator mean      n std_err    .config              \n",
       "1 1         accuracy multiclass 0.8988022 5 0.01240489 Preprocessor1_Model01"
      ]
     },
     "metadata": {},
     "output_type": "display_data"
    },
    {
     "data": {
      "text/html": [
       "'Caption - Highest accuracy and the accompanying number of neighbors \\nwhen forward selection is done with the predictor variable Air Pressure, Humidity, and Temperature only.'"
      ],
      "text/latex": [
       "'Caption - Highest accuracy and the accompanying number of neighbors \\textbackslash{}nwhen forward selection is done with the predictor variable Air Pressure, Humidity, and Temperature only.'"
      ],
      "text/markdown": [
       "'Caption - Highest accuracy and the accompanying number of neighbors \\nwhen forward selection is done with the predictor variable Air Pressure, Humidity, and Temperature only.'"
      ],
      "text/plain": [
       "[1] \"Caption - Highest accuracy and the accompanying number of neighbors \\nwhen forward selection is done with the predictor variable Air Pressure, Humidity, and Temperature only.\""
      ]
     },
     "metadata": {},
     "output_type": "display_data"
    }
   ],
   "source": [
    "set.seed(2022)\n",
    "\n",
    "# Model 1.3 - Air Pressure + Temperature + Humidity\n",
    "temp3_recipe <- recipe(Weather ~ Press + Humid + Temp, data = upsampled_weather) %>%\n",
    "    step_center(all_predictors()) %>%\n",
    "    step_scale(all_predictors())\n",
    "\n",
    "temp3_fit <- workflow() %>%\n",
    "    add_recipe(temp3_recipe) %>%\n",
    "    add_model(weather_knn) %>%\n",
    "    tune_grid(resamples = weather_vfold, grid = k_grid) %>%\n",
    "    collect_metrics()\n",
    "\n",
    "temp3_accuracy <- temp3_fit %>%\n",
    "    filter(.metric == \"accuracy\") %>%\n",
    "    arrange(-mean) %>%\n",
    "    slice(1)\n",
    "\n",
    "paste(\"Table 2.10 - Accuracy of Press + Humid + Temp\")\n",
    "temp3_accuracy\n",
    "paste(\"Caption - Highest accuracy and the accompanying number of neighbors \n",
    "when forward selection is done with the predictor variable Air Pressure, Humidity, and Temperature only.\")"
   ]
  },
  {
   "cell_type": "code",
   "execution_count": 45,
   "metadata": {},
   "outputs": [
    {
     "data": {
      "text/html": [
       "'Table 2.11 - Accuracy of Press + Temp + Wind_Spd'"
      ],
      "text/latex": [
       "'Table 2.11 - Accuracy of Press + Temp + Wind\\_Spd'"
      ],
      "text/markdown": [
       "'Table 2.11 - Accuracy of Press + Temp + Wind_Spd'"
      ],
      "text/plain": [
       "[1] \"Table 2.11 - Accuracy of Press + Temp + Wind_Spd\""
      ]
     },
     "metadata": {},
     "output_type": "display_data"
    },
    {
     "data": {
      "text/html": [
       "<table class=\"dataframe\">\n",
       "<caption>A tibble: 1 × 7</caption>\n",
       "<thead>\n",
       "\t<tr><th scope=col>neighbors</th><th scope=col>.metric</th><th scope=col>.estimator</th><th scope=col>mean</th><th scope=col>n</th><th scope=col>std_err</th><th scope=col>.config</th></tr>\n",
       "\t<tr><th scope=col>&lt;int&gt;</th><th scope=col>&lt;chr&gt;</th><th scope=col>&lt;chr&gt;</th><th scope=col>&lt;dbl&gt;</th><th scope=col>&lt;int&gt;</th><th scope=col>&lt;dbl&gt;</th><th scope=col>&lt;chr&gt;</th></tr>\n",
       "</thead>\n",
       "<tbody>\n",
       "\t<tr><td>1</td><td>accuracy</td><td>multiclass</td><td>0.8879476</td><td>5</td><td>0.008113073</td><td>Preprocessor1_Model01</td></tr>\n",
       "</tbody>\n",
       "</table>\n"
      ],
      "text/latex": [
       "A tibble: 1 × 7\n",
       "\\begin{tabular}{lllllll}\n",
       " neighbors & .metric & .estimator & mean & n & std\\_err & .config\\\\\n",
       " <int> & <chr> & <chr> & <dbl> & <int> & <dbl> & <chr>\\\\\n",
       "\\hline\n",
       "\t 1 & accuracy & multiclass & 0.8879476 & 5 & 0.008113073 & Preprocessor1\\_Model01\\\\\n",
       "\\end{tabular}\n"
      ],
      "text/markdown": [
       "\n",
       "A tibble: 1 × 7\n",
       "\n",
       "| neighbors &lt;int&gt; | .metric &lt;chr&gt; | .estimator &lt;chr&gt; | mean &lt;dbl&gt; | n &lt;int&gt; | std_err &lt;dbl&gt; | .config &lt;chr&gt; |\n",
       "|---|---|---|---|---|---|---|\n",
       "| 1 | accuracy | multiclass | 0.8879476 | 5 | 0.008113073 | Preprocessor1_Model01 |\n",
       "\n"
      ],
      "text/plain": [
       "  neighbors .metric  .estimator mean      n std_err     .config              \n",
       "1 1         accuracy multiclass 0.8879476 5 0.008113073 Preprocessor1_Model01"
      ]
     },
     "metadata": {},
     "output_type": "display_data"
    },
    {
     "data": {
      "text/html": [
       "'Caption - Highest accuracy and the accompanying number of neighbors \\nwhen forward selection is done with the predictor variable Air Pressure, Humidity, and Wind Speed only.'"
      ],
      "text/latex": [
       "'Caption - Highest accuracy and the accompanying number of neighbors \\textbackslash{}nwhen forward selection is done with the predictor variable Air Pressure, Humidity, and Wind Speed only.'"
      ],
      "text/markdown": [
       "'Caption - Highest accuracy and the accompanying number of neighbors \\nwhen forward selection is done with the predictor variable Air Pressure, Humidity, and Wind Speed only.'"
      ],
      "text/plain": [
       "[1] \"Caption - Highest accuracy and the accompanying number of neighbors \\nwhen forward selection is done with the predictor variable Air Pressure, Humidity, and Wind Speed only.\""
      ]
     },
     "metadata": {},
     "output_type": "display_data"
    }
   ],
   "source": [
    "set.seed(2022)\n",
    "\n",
    "# Model 2.3 - Air Pressure + Temperature + Wind Speed\n",
    "wind3_recipe <- recipe(Weather ~ Press + Temp + Wind_Spd, data = upsampled_weather) %>%\n",
    "    step_center(all_predictors()) %>%\n",
    "    step_scale(all_predictors())\n",
    "\n",
    "wind3_fit <- workflow() %>%\n",
    "    add_recipe(wind3_recipe) %>%\n",
    "    add_model(weather_knn) %>%\n",
    "    tune_grid(resamples = weather_vfold, grid = k_grid) %>%\n",
    "    collect_metrics()\n",
    "\n",
    "wind3_accuracy <- wind3_fit %>%\n",
    "    filter(.metric == \"accuracy\") %>%\n",
    "    arrange(-mean) %>%\n",
    "    slice(1)\n",
    "\n",
    "paste(\"Table 2.11 - Accuracy of Press + Temp + Wind_Spd\")\n",
    "wind3_accuracy\n",
    "paste(\"Caption - Highest accuracy and the accompanying number of neighbors \n",
    "when forward selection is done with the predictor variable Air Pressure, Humidity, and Wind Speed only.\")"
   ]
  },
  {
   "cell_type": "code",
   "execution_count": 46,
   "metadata": {},
   "outputs": [
    {
     "data": {
      "text/html": [
       "'Table 2.12 - Accuracy of Press + Temp + Vis'"
      ],
      "text/latex": [
       "'Table 2.12 - Accuracy of Press + Temp + Vis'"
      ],
      "text/markdown": [
       "'Table 2.12 - Accuracy of Press + Temp + Vis'"
      ],
      "text/plain": [
       "[1] \"Table 2.12 - Accuracy of Press + Temp + Vis\""
      ]
     },
     "metadata": {},
     "output_type": "display_data"
    },
    {
     "data": {
      "text/html": [
       "<table class=\"dataframe\">\n",
       "<caption>A tibble: 1 × 7</caption>\n",
       "<thead>\n",
       "\t<tr><th scope=col>neighbors</th><th scope=col>.metric</th><th scope=col>.estimator</th><th scope=col>mean</th><th scope=col>n</th><th scope=col>std_err</th><th scope=col>.config</th></tr>\n",
       "\t<tr><th scope=col>&lt;int&gt;</th><th scope=col>&lt;chr&gt;</th><th scope=col>&lt;chr&gt;</th><th scope=col>&lt;dbl&gt;</th><th scope=col>&lt;int&gt;</th><th scope=col>&lt;dbl&gt;</th><th scope=col>&lt;chr&gt;</th></tr>\n",
       "</thead>\n",
       "<tbody>\n",
       "\t<tr><td>1</td><td>accuracy</td><td>multiclass</td><td>0.880664</td><td>5</td><td>0.02468271</td><td>Preprocessor1_Model01</td></tr>\n",
       "</tbody>\n",
       "</table>\n"
      ],
      "text/latex": [
       "A tibble: 1 × 7\n",
       "\\begin{tabular}{lllllll}\n",
       " neighbors & .metric & .estimator & mean & n & std\\_err & .config\\\\\n",
       " <int> & <chr> & <chr> & <dbl> & <int> & <dbl> & <chr>\\\\\n",
       "\\hline\n",
       "\t 1 & accuracy & multiclass & 0.880664 & 5 & 0.02468271 & Preprocessor1\\_Model01\\\\\n",
       "\\end{tabular}\n"
      ],
      "text/markdown": [
       "\n",
       "A tibble: 1 × 7\n",
       "\n",
       "| neighbors &lt;int&gt; | .metric &lt;chr&gt; | .estimator &lt;chr&gt; | mean &lt;dbl&gt; | n &lt;int&gt; | std_err &lt;dbl&gt; | .config &lt;chr&gt; |\n",
       "|---|---|---|---|---|---|---|\n",
       "| 1 | accuracy | multiclass | 0.880664 | 5 | 0.02468271 | Preprocessor1_Model01 |\n",
       "\n"
      ],
      "text/plain": [
       "  neighbors .metric  .estimator mean     n std_err    .config              \n",
       "1 1         accuracy multiclass 0.880664 5 0.02468271 Preprocessor1_Model01"
      ]
     },
     "metadata": {},
     "output_type": "display_data"
    },
    {
     "data": {
      "text/html": [
       "'Caption - Highest accuracy and the accompanying number of neighbors \\nwhen forward selection is done with the predictor variable Air Pressure, Humidity, and Visibility only.'"
      ],
      "text/latex": [
       "'Caption - Highest accuracy and the accompanying number of neighbors \\textbackslash{}nwhen forward selection is done with the predictor variable Air Pressure, Humidity, and Visibility only.'"
      ],
      "text/markdown": [
       "'Caption - Highest accuracy and the accompanying number of neighbors \\nwhen forward selection is done with the predictor variable Air Pressure, Humidity, and Visibility only.'"
      ],
      "text/plain": [
       "[1] \"Caption - Highest accuracy and the accompanying number of neighbors \\nwhen forward selection is done with the predictor variable Air Pressure, Humidity, and Visibility only.\""
      ]
     },
     "metadata": {},
     "output_type": "display_data"
    }
   ],
   "source": [
    "set.seed(2022)\n",
    "\n",
    "# Model 3.3 - Air Pressure + Temp + Visibility\n",
    "vis3_recipe <- recipe(Weather ~ Press + Temp + Vis, data = upsampled_weather) %>%\n",
    "    step_center(all_predictors()) %>%\n",
    "    step_scale(all_predictors())\n",
    "\n",
    "vis3_fit <- workflow() %>%\n",
    "    add_recipe(vis3_recipe) %>%\n",
    "    add_model(weather_knn) %>%\n",
    "    tune_grid(resamples = weather_vfold, grid = k_grid) %>%\n",
    "    collect_metrics()\n",
    "\n",
    "vis3_accuracy <- vis3_fit %>%\n",
    "    filter(.metric == \"accuracy\") %>%\n",
    "    arrange(-mean) %>%\n",
    "    slice(1)\n",
    "\n",
    "paste(\"Table 2.12 - Accuracy of Press + Temp + Vis\")\n",
    "vis3_accuracy\n",
    "paste(\"Caption - Highest accuracy and the accompanying number of neighbors \n",
    "when forward selection is done with the predictor variable Air Pressure, Humidity, and Visibility only.\")"
   ]
  },
  {
   "cell_type": "markdown",
   "metadata": {},
   "source": [
    "**Findings:** Using air pressure, temperature and humidity has the highest accuracy so far."
   ]
  },
  {
   "cell_type": "markdown",
   "metadata": {},
   "source": [
    "#### Phase 4: Four Variables"
   ]
  },
  {
   "cell_type": "code",
   "execution_count": 47,
   "metadata": {},
   "outputs": [
    {
     "data": {
      "text/html": [
       "'Table 2.13 - Accuracy of Press + Humid + Vis + Temp'"
      ],
      "text/latex": [
       "'Table 2.13 - Accuracy of Press + Humid + Vis + Temp'"
      ],
      "text/markdown": [
       "'Table 2.13 - Accuracy of Press + Humid + Vis + Temp'"
      ],
      "text/plain": [
       "[1] \"Table 2.13 - Accuracy of Press + Humid + Vis + Temp\""
      ]
     },
     "metadata": {},
     "output_type": "display_data"
    },
    {
     "data": {
      "text/html": [
       "<table class=\"dataframe\">\n",
       "<caption>A tibble: 1 × 7</caption>\n",
       "<thead>\n",
       "\t<tr><th scope=col>neighbors</th><th scope=col>.metric</th><th scope=col>.estimator</th><th scope=col>mean</th><th scope=col>n</th><th scope=col>std_err</th><th scope=col>.config</th></tr>\n",
       "\t<tr><th scope=col>&lt;int&gt;</th><th scope=col>&lt;chr&gt;</th><th scope=col>&lt;chr&gt;</th><th scope=col>&lt;dbl&gt;</th><th scope=col>&lt;int&gt;</th><th scope=col>&lt;dbl&gt;</th><th scope=col>&lt;chr&gt;</th></tr>\n",
       "</thead>\n",
       "<tbody>\n",
       "\t<tr><td>1</td><td>accuracy</td><td>multiclass</td><td>0.9017573</td><td>5</td><td>0.01989412</td><td>Preprocessor1_Model01</td></tr>\n",
       "</tbody>\n",
       "</table>\n"
      ],
      "text/latex": [
       "A tibble: 1 × 7\n",
       "\\begin{tabular}{lllllll}\n",
       " neighbors & .metric & .estimator & mean & n & std\\_err & .config\\\\\n",
       " <int> & <chr> & <chr> & <dbl> & <int> & <dbl> & <chr>\\\\\n",
       "\\hline\n",
       "\t 1 & accuracy & multiclass & 0.9017573 & 5 & 0.01989412 & Preprocessor1\\_Model01\\\\\n",
       "\\end{tabular}\n"
      ],
      "text/markdown": [
       "\n",
       "A tibble: 1 × 7\n",
       "\n",
       "| neighbors &lt;int&gt; | .metric &lt;chr&gt; | .estimator &lt;chr&gt; | mean &lt;dbl&gt; | n &lt;int&gt; | std_err &lt;dbl&gt; | .config &lt;chr&gt; |\n",
       "|---|---|---|---|---|---|---|\n",
       "| 1 | accuracy | multiclass | 0.9017573 | 5 | 0.01989412 | Preprocessor1_Model01 |\n",
       "\n"
      ],
      "text/plain": [
       "  neighbors .metric  .estimator mean      n std_err    .config              \n",
       "1 1         accuracy multiclass 0.9017573 5 0.01989412 Preprocessor1_Model01"
      ]
     },
     "metadata": {},
     "output_type": "display_data"
    },
    {
     "data": {
      "text/html": [
       "'Caption - Highest accuracy and the accompanying number of neighbors \\nwhen forward selection is done with the predictor variable Air Pressure, Humidity, Visibility, and Temperature only.'"
      ],
      "text/latex": [
       "'Caption - Highest accuracy and the accompanying number of neighbors \\textbackslash{}nwhen forward selection is done with the predictor variable Air Pressure, Humidity, Visibility, and Temperature only.'"
      ],
      "text/markdown": [
       "'Caption - Highest accuracy and the accompanying number of neighbors \\nwhen forward selection is done with the predictor variable Air Pressure, Humidity, Visibility, and Temperature only.'"
      ],
      "text/plain": [
       "[1] \"Caption - Highest accuracy and the accompanying number of neighbors \\nwhen forward selection is done with the predictor variable Air Pressure, Humidity, Visibility, and Temperature only.\""
      ]
     },
     "metadata": {},
     "output_type": "display_data"
    }
   ],
   "source": [
    "set.seed(2022)\n",
    "\n",
    "# Model 1.4 - Air Pressure + Temperataure + Humidity + Visibility\n",
    "vis4_recipe <- recipe(Weather ~ Press + Humid + Vis + Temp, data = upsampled_weather) %>%\n",
    "    step_center(all_predictors()) %>%\n",
    "    step_scale(all_predictors())\n",
    "\n",
    "vis4_fit <- workflow() %>%\n",
    "    add_recipe(vis4_recipe) %>%\n",
    "    add_model(weather_knn) %>%\n",
    "    tune_grid(resamples = weather_vfold, grid = k_grid) %>%\n",
    "    collect_metrics()\n",
    "\n",
    "vis4_accuracy <- vis4_fit %>%\n",
    "    filter(.metric == \"accuracy\") %>%\n",
    "    arrange(-mean) %>%\n",
    "    slice(1)\n",
    "\n",
    "paste(\"Table 2.13 - Accuracy of Press + Humid + Vis + Temp\")\n",
    "temp4_accuracy\n",
    "paste(\"Caption - Highest accuracy and the accompanying number of neighbors \n",
    "when forward selection is done with the predictor variable Air Pressure, Humidity, Visibility, and Temperature only.\")"
   ]
  },
  {
   "cell_type": "code",
   "execution_count": 48,
   "metadata": {},
   "outputs": [
    {
     "data": {
      "text/html": [
       "'Table 2.14 - Accuracy of Press + Temp + Humid + Wind Spd'"
      ],
      "text/latex": [
       "'Table 2.14 - Accuracy of Press + Temp + Humid + Wind Spd'"
      ],
      "text/markdown": [
       "'Table 2.14 - Accuracy of Press + Temp + Humid + Wind Spd'"
      ],
      "text/plain": [
       "[1] \"Table 2.14 - Accuracy of Press + Temp + Humid + Wind Spd\""
      ]
     },
     "metadata": {},
     "output_type": "display_data"
    },
    {
     "data": {
      "text/html": [
       "<table class=\"dataframe\">\n",
       "<caption>A tibble: 1 × 7</caption>\n",
       "<thead>\n",
       "\t<tr><th scope=col>neighbors</th><th scope=col>.metric</th><th scope=col>.estimator</th><th scope=col>mean</th><th scope=col>n</th><th scope=col>std_err</th><th scope=col>.config</th></tr>\n",
       "\t<tr><th scope=col>&lt;int&gt;</th><th scope=col>&lt;chr&gt;</th><th scope=col>&lt;chr&gt;</th><th scope=col>&lt;dbl&gt;</th><th scope=col>&lt;int&gt;</th><th scope=col>&lt;dbl&gt;</th><th scope=col>&lt;chr&gt;</th></tr>\n",
       "</thead>\n",
       "<tbody>\n",
       "\t<tr><td>1</td><td>accuracy</td><td>multiclass</td><td>0.8964164</td><td>5</td><td>0.01702763</td><td>Preprocessor1_Model01</td></tr>\n",
       "</tbody>\n",
       "</table>\n"
      ],
      "text/latex": [
       "A tibble: 1 × 7\n",
       "\\begin{tabular}{lllllll}\n",
       " neighbors & .metric & .estimator & mean & n & std\\_err & .config\\\\\n",
       " <int> & <chr> & <chr> & <dbl> & <int> & <dbl> & <chr>\\\\\n",
       "\\hline\n",
       "\t 1 & accuracy & multiclass & 0.8964164 & 5 & 0.01702763 & Preprocessor1\\_Model01\\\\\n",
       "\\end{tabular}\n"
      ],
      "text/markdown": [
       "\n",
       "A tibble: 1 × 7\n",
       "\n",
       "| neighbors &lt;int&gt; | .metric &lt;chr&gt; | .estimator &lt;chr&gt; | mean &lt;dbl&gt; | n &lt;int&gt; | std_err &lt;dbl&gt; | .config &lt;chr&gt; |\n",
       "|---|---|---|---|---|---|---|\n",
       "| 1 | accuracy | multiclass | 0.8964164 | 5 | 0.01702763 | Preprocessor1_Model01 |\n",
       "\n"
      ],
      "text/plain": [
       "  neighbors .metric  .estimator mean      n std_err    .config              \n",
       "1 1         accuracy multiclass 0.8964164 5 0.01702763 Preprocessor1_Model01"
      ]
     },
     "metadata": {},
     "output_type": "display_data"
    },
    {
     "data": {
      "text/html": [
       "'Caption - Highest accuracy and the accompanying number of neighbors \\nwhen forward selection is done with the predictor variable Air Pressure, Humidity, Visibility, and Wind Speed only.'"
      ],
      "text/latex": [
       "'Caption - Highest accuracy and the accompanying number of neighbors \\textbackslash{}nwhen forward selection is done with the predictor variable Air Pressure, Humidity, Visibility, and Wind Speed only.'"
      ],
      "text/markdown": [
       "'Caption - Highest accuracy and the accompanying number of neighbors \\nwhen forward selection is done with the predictor variable Air Pressure, Humidity, Visibility, and Wind Speed only.'"
      ],
      "text/plain": [
       "[1] \"Caption - Highest accuracy and the accompanying number of neighbors \\nwhen forward selection is done with the predictor variable Air Pressure, Humidity, Visibility, and Wind Speed only.\""
      ]
     },
     "metadata": {},
     "output_type": "display_data"
    }
   ],
   "source": [
    "set.seed(2022)\n",
    "\n",
    "# Model 2.4 - Air Pressure + Temperature + Humidity + Wind Speed\n",
    "wind4_recipe <- recipe(Weather ~ Press + Humid + Temp + Wind_Spd, data = upsampled_weather) %>%\n",
    "    step_center(all_predictors()) %>%\n",
    "    step_scale(all_predictors())\n",
    "\n",
    "wind4_fit <- workflow() %>%\n",
    "    add_recipe(wind4_recipe) %>%\n",
    "    add_model(weather_knn) %>%\n",
    "    tune_grid(resamples = weather_vfold, grid = k_grid) %>%\n",
    "    collect_metrics()\n",
    "\n",
    "wind4_accuracy <- wind4_fit %>%\n",
    "    filter(.metric == \"accuracy\") %>%\n",
    "    arrange(-mean) %>%\n",
    "    slice(1)\n",
    "\n",
    "paste(\"Table 2.14 - Accuracy of Press + Temp + Humid + Wind Spd\")\n",
    "wind4_accuracy\n",
    "paste(\"Caption - Highest accuracy and the accompanying number of neighbors \n",
    "when forward selection is done with the predictor variable Air Pressure, Humidity, Visibility, and Wind Speed only.\")"
   ]
  },
  {
   "cell_type": "markdown",
   "metadata": {},
   "source": [
    "**Findings:** Using air pressure, temperature, humidity, and visibility is the most accurate so far. "
   ]
  },
  {
   "cell_type": "markdown",
   "metadata": {},
   "source": [
    "#### Phase 5: All variables"
   ]
  },
  {
   "cell_type": "code",
   "execution_count": 49,
   "metadata": {},
   "outputs": [
    {
     "data": {
      "text/html": [
       "'Table 2.14 - Accuracy of all variables'"
      ],
      "text/latex": [
       "'Table 2.14 - Accuracy of all variables'"
      ],
      "text/markdown": [
       "'Table 2.14 - Accuracy of all variables'"
      ],
      "text/plain": [
       "[1] \"Table 2.14 - Accuracy of all variables\""
      ]
     },
     "metadata": {},
     "output_type": "display_data"
    },
    {
     "data": {
      "text/html": [
       "<table class=\"dataframe\">\n",
       "<caption>A tibble: 1 × 7</caption>\n",
       "<thead>\n",
       "\t<tr><th scope=col>neighbors</th><th scope=col>.metric</th><th scope=col>.estimator</th><th scope=col>mean</th><th scope=col>n</th><th scope=col>std_err</th><th scope=col>.config</th></tr>\n",
       "\t<tr><th scope=col>&lt;int&gt;</th><th scope=col>&lt;chr&gt;</th><th scope=col>&lt;chr&gt;</th><th scope=col>&lt;dbl&gt;</th><th scope=col>&lt;int&gt;</th><th scope=col>&lt;dbl&gt;</th><th scope=col>&lt;chr&gt;</th></tr>\n",
       "</thead>\n",
       "<tbody>\n",
       "\t<tr><td>1</td><td>accuracy</td><td>multiclass</td><td>0.904424</td><td>5</td><td>0.01676421</td><td>Preprocessor1_Model01</td></tr>\n",
       "</tbody>\n",
       "</table>\n"
      ],
      "text/latex": [
       "A tibble: 1 × 7\n",
       "\\begin{tabular}{lllllll}\n",
       " neighbors & .metric & .estimator & mean & n & std\\_err & .config\\\\\n",
       " <int> & <chr> & <chr> & <dbl> & <int> & <dbl> & <chr>\\\\\n",
       "\\hline\n",
       "\t 1 & accuracy & multiclass & 0.904424 & 5 & 0.01676421 & Preprocessor1\\_Model01\\\\\n",
       "\\end{tabular}\n"
      ],
      "text/markdown": [
       "\n",
       "A tibble: 1 × 7\n",
       "\n",
       "| neighbors &lt;int&gt; | .metric &lt;chr&gt; | .estimator &lt;chr&gt; | mean &lt;dbl&gt; | n &lt;int&gt; | std_err &lt;dbl&gt; | .config &lt;chr&gt; |\n",
       "|---|---|---|---|---|---|---|\n",
       "| 1 | accuracy | multiclass | 0.904424 | 5 | 0.01676421 | Preprocessor1_Model01 |\n",
       "\n"
      ],
      "text/plain": [
       "  neighbors .metric  .estimator mean     n std_err    .config              \n",
       "1 1         accuracy multiclass 0.904424 5 0.01676421 Preprocessor1_Model01"
      ]
     },
     "metadata": {},
     "output_type": "display_data"
    },
    {
     "data": {
      "text/html": [
       "'Caption - Highest accuracy and the accompanying number of neighbors \\nwhen forward selection is done with all predictor variables '"
      ],
      "text/latex": [
       "'Caption - Highest accuracy and the accompanying number of neighbors \\textbackslash{}nwhen forward selection is done with all predictor variables '"
      ],
      "text/markdown": [
       "'Caption - Highest accuracy and the accompanying number of neighbors \\nwhen forward selection is done with all predictor variables '"
      ],
      "text/plain": [
       "[1] \"Caption - Highest accuracy and the accompanying number of neighbors \\nwhen forward selection is done with all predictor variables \""
      ]
     },
     "metadata": {},
     "output_type": "display_data"
    }
   ],
   "source": [
    "set.seed(2022)\n",
    "\n",
    "# Model 1.5 - Air Pressure + Humidity + Visibility + Wind Speed + Temperature\n",
    "all_recipe <- recipe(Weather ~ ., data = upsampled_weather) %>%\n",
    "    step_center(all_predictors()) %>%\n",
    "    step_scale(all_predictors())\n",
    "\n",
    "all_fit <- workflow() %>%\n",
    "    add_recipe(all_recipe) %>%\n",
    "    add_model(weather_knn) %>%\n",
    "    tune_grid(resamples = weather_vfold, grid = k_grid) %>%\n",
    "    collect_metrics()\n",
    "\n",
    "all_accuracy <- all_fit %>%\n",
    "    filter(.metric == \"accuracy\") %>%\n",
    "    arrange(-mean) %>%\n",
    "    slice(1)\n",
    "paste(\"Table 2.14 - Accuracy of all variables\")\n",
    "all_accuracy\n",
    "paste(\"Caption - Highest accuracy and the accompanying number of neighbors \n",
    "when forward selection is done with all predictor variables \")"
   ]
  },
  {
   "cell_type": "markdown",
   "metadata": {},
   "source": [
    "**Findings:** Using all predictor variables is slightly more accurate than using the 4 variables identified in phase 4. Thus we will be using *air pressure*, *humidity*, *visibility*, *temperature* and *wind speed* as predictors in our final model. "
   ]
  },
  {
   "cell_type": "markdown",
   "metadata": {},
   "source": [
    "# Creating Final Model"
   ]
  },
  {
   "cell_type": "code",
   "execution_count": 29,
   "metadata": {},
   "outputs": [
    {
     "data": {
      "text/html": [
       "'Table 3.1 - Accuracy for Different Numbers of Neighbors on our Model'"
      ],
      "text/latex": [
       "'Table 3.1 - Accuracy for Different Numbers of Neighbors on our Model'"
      ],
      "text/markdown": [
       "'Table 3.1 - Accuracy for Different Numbers of Neighbors on our Model'"
      ],
      "text/plain": [
       "[1] \"Table 3.1 - Accuracy for Different Numbers of Neighbors on our Model\""
      ]
     },
     "metadata": {},
     "output_type": "display_data"
    },
    {
     "data": {
      "text/html": [
       "<table class=\"dataframe\">\n",
       "<caption>A tibble: 30 × 7</caption>\n",
       "<thead>\n",
       "\t<tr><th scope=col>neighbors</th><th scope=col>.metric</th><th scope=col>.estimator</th><th scope=col>mean</th><th scope=col>n</th><th scope=col>std_err</th><th scope=col>.config</th></tr>\n",
       "\t<tr><th scope=col>&lt;int&gt;</th><th scope=col>&lt;chr&gt;</th><th scope=col>&lt;chr&gt;</th><th scope=col>&lt;dbl&gt;</th><th scope=col>&lt;int&gt;</th><th scope=col>&lt;dbl&gt;</th><th scope=col>&lt;chr&gt;</th></tr>\n",
       "</thead>\n",
       "<tbody>\n",
       "\t<tr><td>1</td><td>accuracy</td><td>multiclass</td><td>0.9044240</td><td>5</td><td>0.016764208</td><td>Preprocessor1_Model01</td></tr>\n",
       "\t<tr><td>2</td><td>accuracy</td><td>multiclass</td><td>0.9044240</td><td>5</td><td>0.016764208</td><td>Preprocessor1_Model02</td></tr>\n",
       "\t<tr><td>3</td><td>accuracy</td><td>multiclass</td><td>0.7754019</td><td>5</td><td>0.007428426</td><td>Preprocessor1_Model03</td></tr>\n",
       "\t<tr><td>4</td><td>accuracy</td><td>multiclass</td><td>0.7457659</td><td>5</td><td>0.009689881</td><td>Preprocessor1_Model04</td></tr>\n",
       "\t<tr><td>5</td><td>accuracy</td><td>multiclass</td><td>0.6493255</td><td>5</td><td>0.017357676</td><td>Preprocessor1_Model05</td></tr>\n",
       "\t<tr><td>⋮</td><td>⋮</td><td>⋮</td><td>⋮</td><td>⋮</td><td>⋮</td><td>⋮</td></tr>\n",
       "\t<tr><td>22</td><td>accuracy</td><td>multiclass</td><td>0.4600726</td><td>5</td><td>0.02984568</td><td>Preprocessor1_Model22</td></tr>\n",
       "\t<tr><td>24</td><td>accuracy</td><td>multiclass</td><td>0.4576260</td><td>5</td><td>0.02738117</td><td>Preprocessor1_Model24</td></tr>\n",
       "\t<tr><td>25</td><td>accuracy</td><td>multiclass</td><td>0.4550666</td><td>5</td><td>0.03158484</td><td>Preprocessor1_Model25</td></tr>\n",
       "\t<tr><td>23</td><td>accuracy</td><td>multiclass</td><td>0.4519654</td><td>5</td><td>0.02549891</td><td>Preprocessor1_Model23</td></tr>\n",
       "</tbody>\n",
       "</table>\n"
      ],
      "text/latex": [
       "A tibble: 30 × 7\n",
       "\\begin{tabular}{lllllll}\n",
       " neighbors & .metric & .estimator & mean & n & std\\_err & .config\\\\\n",
       " <int> & <chr> & <chr> & <dbl> & <int> & <dbl> & <chr>\\\\\n",
       "\\hline\n",
       "\t 1 & accuracy & multiclass & 0.9044240 & 5 & 0.016764208 & Preprocessor1\\_Model01\\\\\n",
       "\t 2 & accuracy & multiclass & 0.9044240 & 5 & 0.016764208 & Preprocessor1\\_Model02\\\\\n",
       "\t 3 & accuracy & multiclass & 0.7754019 & 5 & 0.007428426 & Preprocessor1\\_Model03\\\\\n",
       "\t 4 & accuracy & multiclass & 0.7457659 & 5 & 0.009689881 & Preprocessor1\\_Model04\\\\\n",
       "\t 5 & accuracy & multiclass & 0.6493255 & 5 & 0.017357676 & Preprocessor1\\_Model05\\\\\n",
       "\t ⋮ & ⋮ & ⋮ & ⋮ & ⋮ & ⋮ & ⋮\\\\\n",
       "\t 22 & accuracy & multiclass & 0.4600726 & 5 & 0.02984568 & Preprocessor1\\_Model22\\\\\n",
       "\t 24 & accuracy & multiclass & 0.4576260 & 5 & 0.02738117 & Preprocessor1\\_Model24\\\\\n",
       "\t 25 & accuracy & multiclass & 0.4550666 & 5 & 0.03158484 & Preprocessor1\\_Model25\\\\\n",
       "\t 23 & accuracy & multiclass & 0.4519654 & 5 & 0.02549891 & Preprocessor1\\_Model23\\\\\n",
       "\\end{tabular}\n"
      ],
      "text/markdown": [
       "\n",
       "A tibble: 30 × 7\n",
       "\n",
       "| neighbors &lt;int&gt; | .metric &lt;chr&gt; | .estimator &lt;chr&gt; | mean &lt;dbl&gt; | n &lt;int&gt; | std_err &lt;dbl&gt; | .config &lt;chr&gt; |\n",
       "|---|---|---|---|---|---|---|\n",
       "| 1 | accuracy | multiclass | 0.9044240 | 5 | 0.016764208 | Preprocessor1_Model01 |\n",
       "| 2 | accuracy | multiclass | 0.9044240 | 5 | 0.016764208 | Preprocessor1_Model02 |\n",
       "| 3 | accuracy | multiclass | 0.7754019 | 5 | 0.007428426 | Preprocessor1_Model03 |\n",
       "| 4 | accuracy | multiclass | 0.7457659 | 5 | 0.009689881 | Preprocessor1_Model04 |\n",
       "| 5 | accuracy | multiclass | 0.6493255 | 5 | 0.017357676 | Preprocessor1_Model05 |\n",
       "| ⋮ | ⋮ | ⋮ | ⋮ | ⋮ | ⋮ | ⋮ |\n",
       "| 22 | accuracy | multiclass | 0.4600726 | 5 | 0.02984568 | Preprocessor1_Model22 |\n",
       "| 24 | accuracy | multiclass | 0.4576260 | 5 | 0.02738117 | Preprocessor1_Model24 |\n",
       "| 25 | accuracy | multiclass | 0.4550666 | 5 | 0.03158484 | Preprocessor1_Model25 |\n",
       "| 23 | accuracy | multiclass | 0.4519654 | 5 | 0.02549891 | Preprocessor1_Model23 |\n",
       "\n"
      ],
      "text/plain": [
       "   neighbors .metric  .estimator mean      n std_err     .config              \n",
       "1  1         accuracy multiclass 0.9044240 5 0.016764208 Preprocessor1_Model01\n",
       "2  2         accuracy multiclass 0.9044240 5 0.016764208 Preprocessor1_Model02\n",
       "3  3         accuracy multiclass 0.7754019 5 0.007428426 Preprocessor1_Model03\n",
       "4  4         accuracy multiclass 0.7457659 5 0.009689881 Preprocessor1_Model04\n",
       "5  5         accuracy multiclass 0.6493255 5 0.017357676 Preprocessor1_Model05\n",
       "⋮  ⋮         ⋮        ⋮          ⋮         ⋮ ⋮           ⋮                    \n",
       "27 22        accuracy multiclass 0.4600726 5 0.02984568  Preprocessor1_Model22\n",
       "28 24        accuracy multiclass 0.4576260 5 0.02738117  Preprocessor1_Model24\n",
       "29 25        accuracy multiclass 0.4550666 5 0.03158484  Preprocessor1_Model25\n",
       "30 23        accuracy multiclass 0.4519654 5 0.02549891  Preprocessor1_Model23"
      ]
     },
     "metadata": {},
     "output_type": "display_data"
    },
    {
     "data": {
      "text/html": [
       "'Caption - Table showing the accuracy values for our model when using cross-validation techniques on our upsampled training data.\\nThis gives us the best guess of what value for k will be optimal to use for our model when predicting the classes of our testing data.'"
      ],
      "text/latex": [
       "'Caption - Table showing the accuracy values for our model when using cross-validation techniques on our upsampled training data.\\textbackslash{}nThis gives us the best guess of what value for k will be optimal to use for our model when predicting the classes of our testing data.'"
      ],
      "text/markdown": [
       "'Caption - Table showing the accuracy values for our model when using cross-validation techniques on our upsampled training data.\\nThis gives us the best guess of what value for k will be optimal to use for our model when predicting the classes of our testing data.'"
      ],
      "text/plain": [
       "[1] \"Caption - Table showing the accuracy values for our model when using cross-validation techniques on our upsampled training data.\\nThis gives us the best guess of what value for k will be optimal to use for our model when predicting the classes of our testing data.\""
      ]
     },
     "metadata": {},
     "output_type": "display_data"
    }
   ],
   "source": [
    "set.seed(2022) #we need this to make our code reproducible because cross validation is a random process\n",
    "\n",
    "#make final recipe with cross validation to find k\n",
    "\n",
    "weather_recipe <- recipe(Weather ~ ., data = upsampled_weather) %>% \n",
    "    step_center(all_predictors()) %>%\n",
    "    step_scale(all_predictors())\n",
    "\n",
    "weather_fit <- workflow() %>%\n",
    "    add_recipe(weather_recipe) %>%\n",
    "    add_model(weather_knn) %>%\n",
    "    tune_grid(resamples = weather_vfold, grid = k_grid) %>%\n",
    "    collect_metrics()\n",
    "\n",
    "#find accuracy for different values of k on our model\n",
    "\n",
    "weather_accuracy <- weather_fit %>%\n",
    "    filter(.metric == \"accuracy\") %>%\n",
    "    arrange(-mean)\n",
    "\n",
    "paste(\"Table 3.1 - Accuracy for Different Numbers of Neighbors on our Model\")\n",
    "weather_accuracy\n",
    "paste(\"Caption - Table showing the accuracy values for our model when using cross-validation techniques on our upsampled training data.\n",
    "This gives us the best guess of what value for k will be optimal to use for our model when predicting the classes of our testing data.\")"
   ]
  },
  {
   "cell_type": "code",
   "execution_count": 30,
   "metadata": {},
   "outputs": [
    {
     "data": {
      "text/html": [
       "'Figure 1 - Accuracy Estimates for Different Number of Neighbors'"
      ],
      "text/latex": [
       "'Figure 1 - Accuracy Estimates for Different Number of Neighbors'"
      ],
      "text/markdown": [
       "'Figure 1 - Accuracy Estimates for Different Number of Neighbors'"
      ],
      "text/plain": [
       "[1] \"Figure 1 - Accuracy Estimates for Different Number of Neighbors\""
      ]
     },
     "metadata": {},
     "output_type": "display_data"
    },
    {
     "data": {
      "text/html": [
       "'Caption - This figure visualizes the data from the table above so that we can make sure we pick\\nan optimal value of k in which nearby values also have relatively good accuracy values.'"
      ],
      "text/latex": [
       "'Caption - This figure visualizes the data from the table above so that we can make sure we pick\\textbackslash{}nan optimal value of k in which nearby values also have relatively good accuracy values.'"
      ],
      "text/markdown": [
       "'Caption - This figure visualizes the data from the table above so that we can make sure we pick\\nan optimal value of k in which nearby values also have relatively good accuracy values.'"
      ],
      "text/plain": [
       "[1] \"Caption - This figure visualizes the data from the table above so that we can make sure we pick\\nan optimal value of k in which nearby values also have relatively good accuracy values.\""
      ]
     },
     "metadata": {},
     "output_type": "display_data"
    },
    {
     "data": {
      "image/png": "[encoded data removed]",
      "text/plain": [
       "plot without title"
      ]
     },
     "metadata": {
      "image/png": {
       "height": 480,
       "width": 720
      }
     },
     "output_type": "display_data"
    }
   ],
   "source": [
    "#create line plot with data points for accuracy estimate vs neighbors to find optimal k value\n",
    "#(looking for high accuracy estimate with high values of accuracy for nearby values of k as well)\n",
    "\n",
    "options(repr.plot.height = 8, repr.plot.width = 12)\n",
    "finding_k_plot <- ggplot(weather_accuracy, aes(x = neighbors, y = mean)) +\n",
    "    geom_point() +\n",
    "    geom_line() +\n",
    "    labs(x = \"Number of Neighbors\", y = \"Accuracy Estimate\",\n",
    "        title = \"Accuracy Estimates for Different Numbers of Neighbors\") +\n",
    "    theme(text = element_text(size = 20)) +\n",
    "    scale_x_continuous(breaks = 1:30)\n",
    "\n",
    "paste(\"Figure 1 - Accuracy Estimates for Different Number of Neighbors\")\n",
    "finding_k_plot\n",
    "paste(\"Caption - This figure visualizes the data from the table above so that we can make sure we pick\n",
    "an optimal value of k in which nearby values also have relatively good accuracy values.\")"
   ]
  },
  {
   "cell_type": "code",
   "execution_count": 31,
   "metadata": {},
   "outputs": [],
   "source": [
    "#retrain our model with the newfound value of k and fit it to our training data\n",
    "\n",
    "#since k = 1 has the highest accuracy, we will use that in our new model\n",
    "\n",
    "weather_model <- nearest_neighbor(weight_func = \"rectangular\", neighbors = 1) %>% \n",
    "    set_engine(\"kknn\") %>%\n",
    "    set_mode(\"classification\")\n",
    "\n",
    "weather_fit_final <- workflow() %>%\n",
    "    add_recipe(weather_recipe) %>%\n",
    "    add_model(weather_model) %>%\n",
    "    fit(data = upsampled_weather)"
   ]
  },
  {
   "cell_type": "code",
   "execution_count": 32,
   "metadata": {},
   "outputs": [
    {
     "data": {
      "text/html": [
       "'Table 4.1 - Predicted vs True Weather Class'"
      ],
      "text/latex": [
       "'Table 4.1 - Predicted vs True Weather Class'"
      ],
      "text/markdown": [
       "'Table 4.1 - Predicted vs True Weather Class'"
      ],
      "text/plain": [
       "[1] \"Table 4.1 - Predicted vs True Weather Class\""
      ]
     },
     "metadata": {},
     "output_type": "display_data"
    },
    {
     "data": {
      "text/html": [
       "<table class=\"dataframe\">\n",
       "<caption>A tibble: 126 × 2</caption>\n",
       "<thead>\n",
       "\t<tr><th scope=col>.pred_class</th><th scope=col>Weather</th></tr>\n",
       "\t<tr><th scope=col>&lt;fct&gt;</th><th scope=col>&lt;fct&gt;</th></tr>\n",
       "</thead>\n",
       "<tbody>\n",
       "\t<tr><td>Mostly Cloudy</td><td>Mostly Cloudy</td></tr>\n",
       "\t<tr><td>Rain         </td><td>Rain         </td></tr>\n",
       "\t<tr><td>Cloudy       </td><td>Cloudy       </td></tr>\n",
       "\t<tr><td>Mainly Clear </td><td>Mainly Clear </td></tr>\n",
       "\t<tr><td>Mostly Cloudy</td><td>Mostly Cloudy</td></tr>\n",
       "\t<tr><td>⋮</td><td>⋮</td></tr>\n",
       "\t<tr><td>Rain Showers </td><td>Rain Showers </td></tr>\n",
       "\t<tr><td>Rain         </td><td>Rain         </td></tr>\n",
       "\t<tr><td>Rain         </td><td>Rain         </td></tr>\n",
       "\t<tr><td>Mostly Cloudy</td><td>Mostly Cloudy</td></tr>\n",
       "</tbody>\n",
       "</table>\n"
      ],
      "text/latex": [
       "A tibble: 126 × 2\n",
       "\\begin{tabular}{ll}\n",
       " .pred\\_class & Weather\\\\\n",
       " <fct> & <fct>\\\\\n",
       "\\hline\n",
       "\t Mostly Cloudy & Mostly Cloudy\\\\\n",
       "\t Rain          & Rain         \\\\\n",
       "\t Cloudy        & Cloudy       \\\\\n",
       "\t Mainly Clear  & Mainly Clear \\\\\n",
       "\t Mostly Cloudy & Mostly Cloudy\\\\\n",
       "\t ⋮ & ⋮\\\\\n",
       "\t Rain Showers  & Rain Showers \\\\\n",
       "\t Rain          & Rain         \\\\\n",
       "\t Rain          & Rain         \\\\\n",
       "\t Mostly Cloudy & Mostly Cloudy\\\\\n",
       "\\end{tabular}\n"
      ],
      "text/markdown": [
       "\n",
       "A tibble: 126 × 2\n",
       "\n",
       "| .pred_class &lt;fct&gt; | Weather &lt;fct&gt; |\n",
       "|---|---|\n",
       "| Mostly Cloudy | Mostly Cloudy |\n",
       "| Rain          | Rain          |\n",
       "| Cloudy        | Cloudy        |\n",
       "| Mainly Clear  | Mainly Clear  |\n",
       "| Mostly Cloudy | Mostly Cloudy |\n",
       "| ⋮ | ⋮ |\n",
       "| Rain Showers  | Rain Showers  |\n",
       "| Rain          | Rain          |\n",
       "| Rain          | Rain          |\n",
       "| Mostly Cloudy | Mostly Cloudy |\n",
       "\n"
      ],
      "text/plain": [
       "    .pred_class   Weather      \n",
       "1   Mostly Cloudy Mostly Cloudy\n",
       "2   Rain          Rain         \n",
       "3   Cloudy        Cloudy       \n",
       "4   Mainly Clear  Mainly Clear \n",
       "5   Mostly Cloudy Mostly Cloudy\n",
       "⋮   ⋮             ⋮            \n",
       "123 Rain Showers  Rain Showers \n",
       "124 Rain          Rain         \n",
       "125 Rain          Rain         \n",
       "126 Mostly Cloudy Mostly Cloudy"
      ]
     },
     "metadata": {},
     "output_type": "display_data"
    },
    {
     "data": {
      "text/html": [
       "<span style=white-space:pre-wrap>'Caption - This table showcases the predicted weather classification made by\\nour model on the testing data next  to the true weather classification.'</span>"
      ],
      "text/latex": [
       "'Caption - This table showcases the predicted weather classification made by\\textbackslash{}nour model on the testing data next  to the true weather classification.'"
      ],
      "text/markdown": [
       "<span style=white-space:pre-wrap>'Caption - This table showcases the predicted weather classification made by\\nour model on the testing data next  to the true weather classification.'</span>"
      ],
      "text/plain": [
       "[1] \"Caption - This table showcases the predicted weather classification made by\\nour model on the testing data next  to the true weather classification.\""
      ]
     },
     "metadata": {},
     "output_type": "display_data"
    }
   ],
   "source": [
    "#we can now use our fitted model to predict the weather for our testing data set\n",
    "\n",
    "weather_predictions <- predict(weather_fit_final, weather_test) %>%\n",
    "    bind_cols(weather_test) %>%\n",
    "    select(.pred_class, Weather)\n",
    "\n",
    "paste(\"Table 4.1 - Predicted vs True Weather Class\")\n",
    "weather_predictions\n",
    "paste(\"Caption - This table showcases the predicted weather classification made by\n",
    "our model on the testing data next  to the true weather classification.\")"
   ]
  },
  {
   "cell_type": "code",
   "execution_count": 33,
   "metadata": {},
   "outputs": [
    {
     "data": {
      "text/html": [
       "'Table 4.2 - Accuracy of Model on Test Data'"
      ],
      "text/latex": [
       "'Table 4.2 - Accuracy of Model on Test Data'"
      ],
      "text/markdown": [
       "'Table 4.2 - Accuracy of Model on Test Data'"
      ],
      "text/plain": [
       "[1] \"Table 4.2 - Accuracy of Model on Test Data\""
      ]
     },
     "metadata": {},
     "output_type": "display_data"
    },
    {
     "data": {
      "text/html": [
       "<table class=\"dataframe\">\n",
       "<caption>A tibble: 1 × 3</caption>\n",
       "<thead>\n",
       "\t<tr><th scope=col>.metric</th><th scope=col>.estimator</th><th scope=col>.estimate</th></tr>\n",
       "\t<tr><th scope=col>&lt;chr&gt;</th><th scope=col>&lt;chr&gt;</th><th scope=col>&lt;dbl&gt;</th></tr>\n",
       "</thead>\n",
       "<tbody>\n",
       "\t<tr><td>accuracy</td><td>multiclass</td><td>0.8809524</td></tr>\n",
       "</tbody>\n",
       "</table>\n"
      ],
      "text/latex": [
       "A tibble: 1 × 3\n",
       "\\begin{tabular}{lll}\n",
       " .metric & .estimator & .estimate\\\\\n",
       " <chr> & <chr> & <dbl>\\\\\n",
       "\\hline\n",
       "\t accuracy & multiclass & 0.8809524\\\\\n",
       "\\end{tabular}\n"
      ],
      "text/markdown": [
       "\n",
       "A tibble: 1 × 3\n",
       "\n",
       "| .metric &lt;chr&gt; | .estimator &lt;chr&gt; | .estimate &lt;dbl&gt; |\n",
       "|---|---|---|\n",
       "| accuracy | multiclass | 0.8809524 |\n",
       "\n"
      ],
      "text/plain": [
       "  .metric  .estimator .estimate\n",
       "1 accuracy multiclass 0.8809524"
      ]
     },
     "metadata": {},
     "output_type": "display_data"
    },
    {
     "data": {
      "text/html": [
       "'Caption - This table shows us the overall accuracy of our model when predicting all \\nof the observations in our testing data set using the model that we created.'"
      ],
      "text/latex": [
       "'Caption - This table shows us the overall accuracy of our model when predicting all \\textbackslash{}nof the observations in our testing data set using the model that we created.'"
      ],
      "text/markdown": [
       "'Caption - This table shows us the overall accuracy of our model when predicting all \\nof the observations in our testing data set using the model that we created.'"
      ],
      "text/plain": [
       "[1] \"Caption - This table shows us the overall accuracy of our model when predicting all \\nof the observations in our testing data set using the model that we created.\""
      ]
     },
     "metadata": {},
     "output_type": "display_data"
    }
   ],
   "source": [
    "#we can use the metrics function to see how accurate our model was at predicting weather values \n",
    "#on the testing dataset\n",
    "\n",
    "weather_metrics <- weather_predictions %>%\n",
    "    metrics(truth = Weather, estimate = .pred_class) %>%\n",
    "    filter(.metric == \"accuracy\")\n",
    "\n",
    "paste(\"Table 4.2 - Accuracy of Model on Test Data\")\n",
    "weather_metrics\n",
    "paste(\"Caption - This table shows us the overall accuracy of our model when predicting all \n",
    "of the observations in our testing data set using the model that we created.\")"
   ]
  },
  {
   "cell_type": "code",
   "execution_count": 34,
   "metadata": {},
   "outputs": [
    {
     "data": {
      "text/html": [
       "'Figure 2 - Confusion Matrix Showing the Predicted and Correct Classes of Weather'"
      ],
      "text/latex": [
       "'Figure 2 - Confusion Matrix Showing the Predicted and Correct Classes of Weather'"
      ],
      "text/markdown": [
       "'Figure 2 - Confusion Matrix Showing the Predicted and Correct Classes of Weather'"
      ],
      "text/plain": [
       "[1] \"Figure 2 - Confusion Matrix Showing the Predicted and Correct Classes of Weather\""
      ]
     },
     "metadata": {},
     "output_type": "display_data"
    },
    {
     "data": {
      "text/plain": [
       "               Truth\n",
       "Prediction      Mostly Cloudy Cloudy Rain Showers Rain Mainly Clear\n",
       "  Mostly Cloudy            33      2            0    2            0\n",
       "  Cloudy                    1     22            0    1            0\n",
       "  Rain Showers              0      2           11    1            0\n",
       "  Rain                      2      0            0   29            0\n",
       "  Mainly Clear              1      1            0    2           16"
      ]
     },
     "metadata": {},
     "output_type": "display_data"
    },
    {
     "data": {
      "text/html": [
       "'Caption - The confusion matrix allows us to see where our model guessed correctly and incorrectly,\\nwhich class it guessed when it was incorrect, and how many times it guessed each class.'"
      ],
      "text/latex": [
       "'Caption - The confusion matrix allows us to see where our model guessed correctly and incorrectly,\\textbackslash{}nwhich class it guessed when it was incorrect, and how many times it guessed each class.'"
      ],
      "text/markdown": [
       "'Caption - The confusion matrix allows us to see where our model guessed correctly and incorrectly,\\nwhich class it guessed when it was incorrect, and how many times it guessed each class.'"
      ],
      "text/plain": [
       "[1] \"Caption - The confusion matrix allows us to see where our model guessed correctly and incorrectly,\\nwhich class it guessed when it was incorrect, and how many times it guessed each class.\""
      ]
     },
     "metadata": {},
     "output_type": "display_data"
    }
   ],
   "source": [
    "#we can also use a confusion matrix to see a table of predicted and correct labels\n",
    "\n",
    "confusion <- weather_predictions %>%\n",
    "    conf_mat(truth = Weather, estimate = .pred_class)\n",
    "\n",
    "paste(\"Figure 2 - Confusion Matrix Showing the Predicted and Correct Classes of Weather\")\n",
    "confusion\n",
    "paste(\"Caption - The confusion matrix allows us to see where our model guessed correctly and incorrectly,\n",
    "which class it guessed when it was incorrect, and how many times it guessed each class.\")"
   ]
  },
  {
   "cell_type": "markdown",
   "metadata": {},
   "source": [
    "# Visualizing our Findings"
   ]
  },
  {
   "cell_type": "code",
   "execution_count": 43,
   "metadata": {},
   "outputs": [
    {
     "data": {
      "text/html": [
       "'Caption - This bar graph shows us the percentage of how often our model guessed each weather classification correctly so that we can see which weather classes our model was the strongest on and the weakest on.'"
      ],
      "text/latex": [
       "'Caption - This bar graph shows us the percentage of how often our model guessed each weather classification correctly so that we can see which weather classes our model was the strongest on and the weakest on.'"
      ],
      "text/markdown": [
       "'Caption - This bar graph shows us the percentage of how often our model guessed each weather classification correctly so that we can see which weather classes our model was the strongest on and the weakest on.'"
      ],
      "text/plain": [
       "[1] \"Caption - This bar graph shows us the percentage of how often our model guessed each weather classification correctly so that we can see which weather classes our model was the strongest on and the weakest on.\""
      ]
     },
     "metadata": {},
     "output_type": "display_data"
    },
    {
     "data": {
      "image/png": "[encoded data removed]",
      "text/plain": [
       "plot without title"
      ]
     },
     "metadata": {
      "image/png": {
       "height": 480,
       "width": 720
      }
     },
     "output_type": "display_data"
    }
   ],
   "source": [
    "set.seed(2022)\n",
    "\n",
    "weather_test_mostly_cloudy <- weather_test %>% filter(Weather == \"Mostly Cloudy\") \n",
    "\n",
    "mostly_cloudy_prediction <- predict(weather_fit_final, weather_test_mostly_cloudy) %>%\n",
    "    bind_cols(weather_test_mostly_cloudy) %>%\n",
    "    select(.pred_class, Weather) %>%\n",
    "    metrics(truth = Weather, estimate = .pred_class) %>%\n",
    "    filter(.metric == \"accuracy\") %>%\n",
    "    mutate(Weather = c(\"Mostly Cloudy\")) %>%\n",
    "    select(Weather, .estimate)\n",
    "\n",
    "weather_test_cloudy <- weather_test %>% filter(Weather == \"Cloudy\") \n",
    "\n",
    "cloudy_prediction <- predict(weather_fit_final, weather_test_cloudy) %>%\n",
    "    bind_cols(weather_test_cloudy) %>%\n",
    "    select(.pred_class, Weather) %>%\n",
    "    metrics(truth = Weather, estimate = .pred_class) %>%\n",
    "    filter(.metric == \"accuracy\") %>%\n",
    "    mutate(Weather = c(\"Cloudy\")) %>%\n",
    "    select(Weather, .estimate)\n",
    "\n",
    "weather_test_rain_showers <- weather_test %>% filter(Weather == \"Rain Showers\") \n",
    "\n",
    "rain_showers_prediction <- predict(weather_fit_final, weather_test_rain_showers) %>%\n",
    "    bind_cols(weather_test_rain_showers) %>%\n",
    "    select(.pred_class, Weather) %>%\n",
    "    metrics(truth = Weather, estimate = .pred_class) %>%\n",
    "    filter(.metric == \"accuracy\") %>%\n",
    "    mutate(Weather = c(\"Rain Showers\")) %>%\n",
    "    select(Weather, .estimate)\n",
    "\n",
    "weather_test_rain <- weather_test %>% filter(Weather == \"Rain\") \n",
    "\n",
    "rain_prediction <- predict(weather_fit_final, weather_test_rain) %>%\n",
    "    bind_cols(weather_test_rain) %>%\n",
    "    select(.pred_class, Weather) %>%\n",
    "    metrics(truth = Weather, estimate = .pred_class) %>%\n",
    "    filter(.metric == \"accuracy\") %>%\n",
    "    mutate(Weather = c(\"Rain\")) %>%\n",
    "    select(Weather, .estimate)\n",
    "\n",
    "weather_test_mainly_clear <- weather_test %>% filter(Weather == \"Mainly Clear\") \n",
    "\n",
    "mainly_clear_prediction <- predict(weather_fit_final, weather_test_mainly_clear) %>%\n",
    "    bind_cols(weather_test_mainly_clear) %>%\n",
    "    select(.pred_class, Weather) %>%\n",
    "    metrics(truth = Weather, estimate = .pred_class) %>%\n",
    "    filter(.metric == \"accuracy\") %>%\n",
    "    mutate(Weather = c(\"Mainly Clear\")) %>%\n",
    "    select(Weather, .estimate)\n",
    "\n",
    "weather_accuracies <- mostly_cloudy_prediction %>% bind_rows(cloudy_prediction, \n",
    "                                                                 rain_showers_prediction, \n",
    "                                                                 rain_prediction,\n",
    "                                                                 mainly_clear_prediction)\n",
    "\n",
    "weather_plot <- weather_accuracies %>%\n",
    "    ggplot(aes(x = fct_reorder(Weather, .estimate, .desc = TRUE), y = .estimate)) + \n",
    "    geom_bar(stat = \"identity\", fill = \"blue\") + \n",
    "    labs(x = \"Weather Type\", y = \"Model Accuracy\") + \n",
    "    theme(text = element_text(size = 20)) + \n",
    "    ggtitle(\"Model Classification Accuracy for Different Weather Types\") + \n",
    "    coord_flip()\n",
    "weather_plot\n",
    "paste(\"Caption - This bar graph shows us the percentage of how often our model guessed each weather classification correctly so that we can see which weather classes our model was the strongest on and the weakest on.\")"
   ]
  },
  {
   "cell_type": "markdown",
   "metadata": {},
   "source": [
    "## Discussion"
   ]
  },
  {
   "cell_type": "markdown",
   "metadata": {},
   "source": []
  },
  {
   "cell_type": "markdown",
   "metadata": {},
   "source": [
    "## References\n",
    "\n",
    "\n",
    "Government of Canada. (2022, May 25). *Historical Data—Climate—Environment and Climate Change.* Canada.ca. https://climate.weather.gc.ca/historical_data/search_historic_data_e.html\n",
    "\n",
    "Martinez, F., et al. (2021, Apr 5). *Time Series Forecasting with KNN in R: the tsfknn Package.* CRAN. https://cran.r-project.org/web/packages/tsfknn/vignettes/tsfknn.html\n",
    "\n",
    "Zhang, J. (2020, Jan 31). *Dynamic Time Warping.* Medium. https://towardsdatascience.com/dynamic-time-warping-3933f25fcdd\n",
    "\n"
   ]
  },
  {
   "cell_type": "code",
   "execution_count": null,
   "metadata": {},
   "outputs": [],
   "source": []
  }
 ],
 "metadata": {
  "kernelspec": {
   "display_name": "R",
   "language": "R",
   "name": "ir"
  },
  "language_info": {
   "codemirror_mode": "r",
   "file_extension": ".r",
   "mimetype": "text/x-r-source",
   "name": "R",
   "pygments_lexer": "r",
   "version": "4.1.2"
  }
 },
 "nbformat": 4,
 "nbformat_minor": 4
}
