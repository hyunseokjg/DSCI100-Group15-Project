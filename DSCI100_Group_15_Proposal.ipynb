{
 "cells": [
  {
   "cell_type": "markdown",
   "metadata": {},
   "source": [
    "# DSCI 100 GROUP 15 PROPOSAL\n",
    "\n",
    "### Hyunseok Jung, Jordan Sanders, Ivie Huang, Eden Vasica"
   ]
  },
  {
   "cell_type": "markdown",
   "metadata": {},
   "source": [
    "## Introduction\n",
    "\n",
    "The government of Canada provides historical data on weather and climate. Its’ hourly weather data report consists of various climate observations such as temperature, humidity, and wind speed, as well as a column for the weather. From this dataset, we are inspired to test our ability to build a classification model for weather based on climate observations. To make our project more enjoyable, we want to focus on the weather data of Vancouver. We decided to work with historical weather and climate data provided by ‘Vancouver Intl A’ weather station. This particular facility, located in Vancouver International Airport, is one of the most significant weather stations in Vancouver that collects measurements for weather forecasts and climate studies. Therefore, it provides an hourly data report appropriate for our project. Unlike hourly data reports, daily and monthly data reports do not include a weather column making it impossible to build a classification model. Furthermore, the ‘Vancouver Intl A’ weather station’s proximity to the University of British Columbia makes the project personal and exciting.\n",
    "\n",
    "\n",
    "Considering seasonal climate differences and fluctuations, we decided to focus on weather reports from a single month, June, to reduce the number of external factors affecting the observations. Taking into account that we will be handling an hourly data report, we nonetheless have a sufficient amount of observations to build a classification model. In addition, being aware of temperature steadily increasing through external factors affecting global warming, we decided to use reports from the most recent years for our training set: June 2020 and June 2021. For the testing set, we will be using reports from June 2022. By doing so, we have recorded weather data available for checking the accuracy of our classification model.\n"
   ]
  },
  {
   "cell_type": "markdown",
   "metadata": {},
   "source": [
    "## Preliminary exploratory data analysis\n",
    "\n",
    "In order to demonstrate our project, we will download the June 1st, 2020, hourly data report from the Government of Canada website and load it. \n",
    "\n",
    "The dataset can be found from:\n",
    "\"https://climate.weather.gc.ca/climate_data/hourly_data_e.html?hlyRange=2013-06-11%7C2022-06-09&dlyRange=2013-06-13%7C2022-06-09&mlyRange=%7C&StationID=51442&Prov=BC&urlExtension=_e.html&searchType=stnName&optLimit=yearRange&StartYear=1840&EndYear=2022&selRowPerPage=25&Line=2&searchMethod=contains&txtStationName=Vancouver+intl&timeframe=1&time=LST&time=LST&Year=2020&Month=6&Day=1#\"\n",
    "\n",
    "**Disclaimer**:\n",
    "For now, we have only loaded the dataset with observations made on Just 1st, 2020, for the purpose of demonstrating our project. However, in our actual project, the training set will include all hourly reports made in June 2020 and 2021. Then it will be combined into one dataset for our training set after tidying the data."
   ]
  },
  {
   "cell_type": "code",
   "execution_count": 1,
   "metadata": {},
   "outputs": [
    {
     "name": "stderr",
     "output_type": "stream",
     "text": [
      "── \u001b[1mAttaching packages\u001b[22m ─────────────────────────────────────── tidyverse 1.3.0 ──\n",
      "\n",
      "\u001b[32m✔\u001b[39m \u001b[34mggplot2\u001b[39m 3.3.2     \u001b[32m✔\u001b[39m \u001b[34mpurrr  \u001b[39m 0.3.4\n",
      "\u001b[32m✔\u001b[39m \u001b[34mtibble \u001b[39m 3.0.3     \u001b[32m✔\u001b[39m \u001b[34mdplyr  \u001b[39m 1.0.2\n",
      "\u001b[32m✔\u001b[39m \u001b[34mtidyr  \u001b[39m 1.1.2     \u001b[32m✔\u001b[39m \u001b[34mstringr\u001b[39m 1.4.0\n",
      "\u001b[32m✔\u001b[39m \u001b[34mreadr  \u001b[39m 1.3.1     \u001b[32m✔\u001b[39m \u001b[34mforcats\u001b[39m 0.5.0\n",
      "\n",
      "Warning message:\n",
      "“package ‘ggplot2’ was built under R version 4.0.1”\n",
      "Warning message:\n",
      "“package ‘tibble’ was built under R version 4.0.2”\n",
      "Warning message:\n",
      "“package ‘tidyr’ was built under R version 4.0.2”\n",
      "Warning message:\n",
      "“package ‘dplyr’ was built under R version 4.0.2”\n",
      "── \u001b[1mConflicts\u001b[22m ────────────────────────────────────────── tidyverse_conflicts() ──\n",
      "\u001b[31m✖\u001b[39m \u001b[34mdplyr\u001b[39m::\u001b[32mfilter()\u001b[39m masks \u001b[34mstats\u001b[39m::filter()\n",
      "\u001b[31m✖\u001b[39m \u001b[34mdplyr\u001b[39m::\u001b[32mlag()\u001b[39m    masks \u001b[34mstats\u001b[39m::lag()\n",
      "\n"
     ]
    }
   ],
   "source": [
    "library(tidyverse)"
   ]
  },
  {
   "cell_type": "code",
   "execution_count": 2,
   "metadata": {},
   "outputs": [
    {
     "name": "stderr",
     "output_type": "stream",
     "text": [
      "Parsed with column specification:\n",
      "cols(\n",
      "  .default = col_double(),\n",
      "  `Station Name` = \u001b[31mcol_character()\u001b[39m,\n",
      "  `Date/Time (LST)` = \u001b[34mcol_datetime(format = \"\")\u001b[39m,\n",
      "  Month = \u001b[31mcol_character()\u001b[39m,\n",
      "  Day = \u001b[31mcol_character()\u001b[39m,\n",
      "  `Time (LST)` = \u001b[34mcol_time(format = \"\")\u001b[39m,\n",
      "  `Temp Flag` = \u001b[33mcol_logical()\u001b[39m,\n",
      "  `Dew Point Temp Flag` = \u001b[33mcol_logical()\u001b[39m,\n",
      "  `Rel Hum Flag` = \u001b[33mcol_logical()\u001b[39m,\n",
      "  `Precip. Amount (mm)` = \u001b[33mcol_logical()\u001b[39m,\n",
      "  `Precip. Amount Flag` = \u001b[33mcol_logical()\u001b[39m,\n",
      "  `Wind Dir Flag` = \u001b[33mcol_logical()\u001b[39m,\n",
      "  `Wind Spd Flag` = \u001b[33mcol_logical()\u001b[39m,\n",
      "  `Visibility Flag` = \u001b[33mcol_logical()\u001b[39m,\n",
      "  `Stn Press Flag` = \u001b[33mcol_logical()\u001b[39m,\n",
      "  `Hmdx Flag` = \u001b[33mcol_logical()\u001b[39m,\n",
      "  `Wind Chill` = \u001b[33mcol_logical()\u001b[39m,\n",
      "  `Wind Chill Flag` = \u001b[33mcol_logical()\u001b[39m,\n",
      "  Weather = \u001b[31mcol_character()\u001b[39m\n",
      ")\n",
      "\n",
      "See spec(...) for full column specifications.\n",
      "\n"
     ]
    },
    {
     "data": {
      "text/html": [
       "<table>\n",
       "<caption>A tibble: 6 × 30</caption>\n",
       "<thead>\n",
       "\t<tr><th scope=col>Longitude (x)</th><th scope=col>Latitude (y)</th><th scope=col>Station Name</th><th scope=col>Climate ID</th><th scope=col>Date/Time (LST)</th><th scope=col>Year</th><th scope=col>Month</th><th scope=col>Day</th><th scope=col>Time (LST)</th><th scope=col>Temp (°C)</th><th scope=col>⋯</th><th scope=col>Wind Spd Flag</th><th scope=col>Visibility (km)</th><th scope=col>Visibility Flag</th><th scope=col>Stn Press (kPa)</th><th scope=col>Stn Press Flag</th><th scope=col>Hmdx</th><th scope=col>Hmdx Flag</th><th scope=col>Wind Chill</th><th scope=col>Wind Chill Flag</th><th scope=col>Weather</th></tr>\n",
       "\t<tr><th scope=col>&lt;dbl&gt;</th><th scope=col>&lt;dbl&gt;</th><th scope=col>&lt;chr&gt;</th><th scope=col>&lt;dbl&gt;</th><th scope=col>&lt;dttm&gt;</th><th scope=col>&lt;dbl&gt;</th><th scope=col>&lt;chr&gt;</th><th scope=col>&lt;chr&gt;</th><th scope=col>&lt;time&gt;</th><th scope=col>&lt;dbl&gt;</th><th scope=col>⋯</th><th scope=col>&lt;lgl&gt;</th><th scope=col>&lt;dbl&gt;</th><th scope=col>&lt;lgl&gt;</th><th scope=col>&lt;dbl&gt;</th><th scope=col>&lt;lgl&gt;</th><th scope=col>&lt;dbl&gt;</th><th scope=col>&lt;lgl&gt;</th><th scope=col>&lt;lgl&gt;</th><th scope=col>&lt;lgl&gt;</th><th scope=col>&lt;chr&gt;</th></tr>\n",
       "</thead>\n",
       "<tbody>\n",
       "\t<tr><td>-123.18</td><td>49.19</td><td>VANCOUVER INTL A</td><td>1108395</td><td>2020-06-01 00:00:00</td><td>2020</td><td>06</td><td>01</td><td>00:00:00</td><td>10.4</td><td>⋯</td><td>NA</td><td>32.2</td><td>NA</td><td>101.89</td><td>NA</td><td>NA</td><td>NA</td><td>NA</td><td>NA</td><td>NA           </td></tr>\n",
       "\t<tr><td>-123.18</td><td>49.19</td><td>VANCOUVER INTL A</td><td>1108395</td><td>2020-06-01 01:00:00</td><td>2020</td><td>06</td><td>01</td><td>01:00:00</td><td> 9.1</td><td>⋯</td><td>NA</td><td>32.2</td><td>NA</td><td>101.90</td><td>NA</td><td>NA</td><td>NA</td><td>NA</td><td>NA</td><td>Mainly Clear </td></tr>\n",
       "\t<tr><td>-123.18</td><td>49.19</td><td>VANCOUVER INTL A</td><td>1108395</td><td>2020-06-01 02:00:00</td><td>2020</td><td>06</td><td>01</td><td>02:00:00</td><td> 8.9</td><td>⋯</td><td>NA</td><td>32.2</td><td>NA</td><td>101.91</td><td>NA</td><td>NA</td><td>NA</td><td>NA</td><td>NA</td><td>NA           </td></tr>\n",
       "\t<tr><td>-123.18</td><td>49.19</td><td>VANCOUVER INTL A</td><td>1108395</td><td>2020-06-01 03:00:00</td><td>2020</td><td>06</td><td>01</td><td>03:00:00</td><td> 9.0</td><td>⋯</td><td>NA</td><td>32.2</td><td>NA</td><td>101.90</td><td>NA</td><td>NA</td><td>NA</td><td>NA</td><td>NA</td><td>NA           </td></tr>\n",
       "\t<tr><td>-123.18</td><td>49.19</td><td>VANCOUVER INTL A</td><td>1108395</td><td>2020-06-01 04:00:00</td><td>2020</td><td>06</td><td>01</td><td>04:00:00</td><td> 8.8</td><td>⋯</td><td>NA</td><td>32.2</td><td>NA</td><td>101.90</td><td>NA</td><td>NA</td><td>NA</td><td>NA</td><td>NA</td><td>Mostly Cloudy</td></tr>\n",
       "\t<tr><td>-123.18</td><td>49.19</td><td>VANCOUVER INTL A</td><td>1108395</td><td>2020-06-01 05:00:00</td><td>2020</td><td>06</td><td>01</td><td>05:00:00</td><td> 8.9</td><td>⋯</td><td>NA</td><td>32.2</td><td>NA</td><td>101.94</td><td>NA</td><td>NA</td><td>NA</td><td>NA</td><td>NA</td><td>NA           </td></tr>\n",
       "</tbody>\n",
       "</table>\n"
      ],
      "text/latex": [
       "A tibble: 6 × 30\n",
       "\\begin{tabular}{lllllllllllllllllllll}\n",
       " Longitude (x) & Latitude (y) & Station Name & Climate ID & Date/Time (LST) & Year & Month & Day & Time (LST) & Temp (°C) & ⋯ & Wind Spd Flag & Visibility (km) & Visibility Flag & Stn Press (kPa) & Stn Press Flag & Hmdx & Hmdx Flag & Wind Chill & Wind Chill Flag & Weather\\\\\n",
       " <dbl> & <dbl> & <chr> & <dbl> & <dttm> & <dbl> & <chr> & <chr> & <time> & <dbl> & ⋯ & <lgl> & <dbl> & <lgl> & <dbl> & <lgl> & <dbl> & <lgl> & <lgl> & <lgl> & <chr>\\\\\n",
       "\\hline\n",
       "\t -123.18 & 49.19 & VANCOUVER INTL A & 1108395 & 2020-06-01 00:00:00 & 2020 & 06 & 01 & 00:00:00 & 10.4 & ⋯ & NA & 32.2 & NA & 101.89 & NA & NA & NA & NA & NA & NA           \\\\\n",
       "\t -123.18 & 49.19 & VANCOUVER INTL A & 1108395 & 2020-06-01 01:00:00 & 2020 & 06 & 01 & 01:00:00 &  9.1 & ⋯ & NA & 32.2 & NA & 101.90 & NA & NA & NA & NA & NA & Mainly Clear \\\\\n",
       "\t -123.18 & 49.19 & VANCOUVER INTL A & 1108395 & 2020-06-01 02:00:00 & 2020 & 06 & 01 & 02:00:00 &  8.9 & ⋯ & NA & 32.2 & NA & 101.91 & NA & NA & NA & NA & NA & NA           \\\\\n",
       "\t -123.18 & 49.19 & VANCOUVER INTL A & 1108395 & 2020-06-01 03:00:00 & 2020 & 06 & 01 & 03:00:00 &  9.0 & ⋯ & NA & 32.2 & NA & 101.90 & NA & NA & NA & NA & NA & NA           \\\\\n",
       "\t -123.18 & 49.19 & VANCOUVER INTL A & 1108395 & 2020-06-01 04:00:00 & 2020 & 06 & 01 & 04:00:00 &  8.8 & ⋯ & NA & 32.2 & NA & 101.90 & NA & NA & NA & NA & NA & Mostly Cloudy\\\\\n",
       "\t -123.18 & 49.19 & VANCOUVER INTL A & 1108395 & 2020-06-01 05:00:00 & 2020 & 06 & 01 & 05:00:00 &  8.9 & ⋯ & NA & 32.2 & NA & 101.94 & NA & NA & NA & NA & NA & NA           \\\\\n",
       "\\end{tabular}\n"
      ],
      "text/markdown": [
       "\n",
       "A tibble: 6 × 30\n",
       "\n",
       "| Longitude (x) &lt;dbl&gt; | Latitude (y) &lt;dbl&gt; | Station Name &lt;chr&gt; | Climate ID &lt;dbl&gt; | Date/Time (LST) &lt;dttm&gt; | Year &lt;dbl&gt; | Month &lt;chr&gt; | Day &lt;chr&gt; | Time (LST) &lt;time&gt; | Temp (°C) &lt;dbl&gt; | ⋯ ⋯ | Wind Spd Flag &lt;lgl&gt; | Visibility (km) &lt;dbl&gt; | Visibility Flag &lt;lgl&gt; | Stn Press (kPa) &lt;dbl&gt; | Stn Press Flag &lt;lgl&gt; | Hmdx &lt;dbl&gt; | Hmdx Flag &lt;lgl&gt; | Wind Chill &lt;lgl&gt; | Wind Chill Flag &lt;lgl&gt; | Weather &lt;chr&gt; |\n",
       "|---|---|---|---|---|---|---|---|---|---|---|---|---|---|---|---|---|---|---|---|---|\n",
       "| -123.18 | 49.19 | VANCOUVER INTL A | 1108395 | 2020-06-01 00:00:00 | 2020 | 06 | 01 | 00:00:00 | 10.4 | ⋯ | NA | 32.2 | NA | 101.89 | NA | NA | NA | NA | NA | NA            |\n",
       "| -123.18 | 49.19 | VANCOUVER INTL A | 1108395 | 2020-06-01 01:00:00 | 2020 | 06 | 01 | 01:00:00 |  9.1 | ⋯ | NA | 32.2 | NA | 101.90 | NA | NA | NA | NA | NA | Mainly Clear  |\n",
       "| -123.18 | 49.19 | VANCOUVER INTL A | 1108395 | 2020-06-01 02:00:00 | 2020 | 06 | 01 | 02:00:00 |  8.9 | ⋯ | NA | 32.2 | NA | 101.91 | NA | NA | NA | NA | NA | NA            |\n",
       "| -123.18 | 49.19 | VANCOUVER INTL A | 1108395 | 2020-06-01 03:00:00 | 2020 | 06 | 01 | 03:00:00 |  9.0 | ⋯ | NA | 32.2 | NA | 101.90 | NA | NA | NA | NA | NA | NA            |\n",
       "| -123.18 | 49.19 | VANCOUVER INTL A | 1108395 | 2020-06-01 04:00:00 | 2020 | 06 | 01 | 04:00:00 |  8.8 | ⋯ | NA | 32.2 | NA | 101.90 | NA | NA | NA | NA | NA | Mostly Cloudy |\n",
       "| -123.18 | 49.19 | VANCOUVER INTL A | 1108395 | 2020-06-01 05:00:00 | 2020 | 06 | 01 | 05:00:00 |  8.9 | ⋯ | NA | 32.2 | NA | 101.94 | NA | NA | NA | NA | NA | NA            |\n",
       "\n"
      ],
      "text/plain": [
       "  Longitude (x) Latitude (y) Station Name     Climate ID Date/Time (LST)    \n",
       "1 -123.18       49.19        VANCOUVER INTL A 1108395    2020-06-01 00:00:00\n",
       "2 -123.18       49.19        VANCOUVER INTL A 1108395    2020-06-01 01:00:00\n",
       "3 -123.18       49.19        VANCOUVER INTL A 1108395    2020-06-01 02:00:00\n",
       "4 -123.18       49.19        VANCOUVER INTL A 1108395    2020-06-01 03:00:00\n",
       "5 -123.18       49.19        VANCOUVER INTL A 1108395    2020-06-01 04:00:00\n",
       "6 -123.18       49.19        VANCOUVER INTL A 1108395    2020-06-01 05:00:00\n",
       "  Year Month Day Time (LST) Temp (°C) ⋯ Wind Spd Flag Visibility (km)\n",
       "1 2020 06    01  00:00:00   10.4      ⋯ NA            32.2           \n",
       "2 2020 06    01  01:00:00    9.1      ⋯ NA            32.2           \n",
       "3 2020 06    01  02:00:00    8.9      ⋯ NA            32.2           \n",
       "4 2020 06    01  03:00:00    9.0      ⋯ NA            32.2           \n",
       "5 2020 06    01  04:00:00    8.8      ⋯ NA            32.2           \n",
       "6 2020 06    01  05:00:00    8.9      ⋯ NA            32.2           \n",
       "  Visibility Flag Stn Press (kPa) Stn Press Flag Hmdx Hmdx Flag Wind Chill\n",
       "1 NA              101.89          NA             NA   NA        NA        \n",
       "2 NA              101.90          NA             NA   NA        NA        \n",
       "3 NA              101.91          NA             NA   NA        NA        \n",
       "4 NA              101.90          NA             NA   NA        NA        \n",
       "5 NA              101.90          NA             NA   NA        NA        \n",
       "6 NA              101.94          NA             NA   NA        NA        \n",
       "  Wind Chill Flag Weather      \n",
       "1 NA              NA           \n",
       "2 NA              Mainly Clear \n",
       "3 NA              NA           \n",
       "4 NA              NA           \n",
       "5 NA              Mostly Cloudy\n",
       "6 NA              NA           "
      ]
     },
     "metadata": {},
     "output_type": "display_data"
    }
   ],
   "source": [
    "weather_training <- read_csv(\"data_proposal/en_climate_hourly_BC_1108395_06-2020_P1H.csv\")\n",
    "head(weather_training)"
   ]
  },
  {
   "cell_type": "markdown",
   "metadata": {},
   "source": [
    "##### Adding . in between column names for convenience."
   ]
  },
  {
   "cell_type": "code",
   "execution_count": 3,
   "metadata": {},
   "outputs": [
    {
     "data": {
      "text/html": [
       "<style>\n",
       ".list-inline {list-style: none; margin:0; padding: 0}\n",
       ".list-inline>li {display: inline-block}\n",
       ".list-inline>li:not(:last-child)::after {content: \"\\00b7\"; padding: 0 .5ex}\n",
       "</style>\n",
       "<ol class=list-inline><li>'Longitude..x.'</li><li>'Latitude..y.'</li><li>'Station.Name'</li><li>'Climate.ID'</li><li>'Date.Time..LST.'</li><li>'Year'</li><li>'Month'</li><li>'Day'</li><li>'Time..LST.'</li><li>'Temp...C.'</li><li>'Temp.Flag'</li><li>'Dew.Point.Temp...C.'</li><li>'Dew.Point.Temp.Flag'</li><li>'Rel.Hum....'</li><li>'Rel.Hum.Flag'</li><li>'Precip..Amount..mm.'</li><li>'Precip..Amount.Flag'</li><li>'Wind.Dir..10s.deg.'</li><li>'Wind.Dir.Flag'</li><li>'Wind.Spd..km.h.'</li><li>'Wind.Spd.Flag'</li><li>'Visibility..km.'</li><li>'Visibility.Flag'</li><li>'Stn.Press..kPa.'</li><li>'Stn.Press.Flag'</li><li>'Hmdx'</li><li>'Hmdx.Flag'</li><li>'Wind.Chill'</li><li>'Wind.Chill.Flag'</li><li>'Weather'</li></ol>\n"
      ],
      "text/latex": [
       "\\begin{enumerate*}\n",
       "\\item 'Longitude..x.'\n",
       "\\item 'Latitude..y.'\n",
       "\\item 'Station.Name'\n",
       "\\item 'Climate.ID'\n",
       "\\item 'Date.Time..LST.'\n",
       "\\item 'Year'\n",
       "\\item 'Month'\n",
       "\\item 'Day'\n",
       "\\item 'Time..LST.'\n",
       "\\item 'Temp...C.'\n",
       "\\item 'Temp.Flag'\n",
       "\\item 'Dew.Point.Temp...C.'\n",
       "\\item 'Dew.Point.Temp.Flag'\n",
       "\\item 'Rel.Hum....'\n",
       "\\item 'Rel.Hum.Flag'\n",
       "\\item 'Precip..Amount..mm.'\n",
       "\\item 'Precip..Amount.Flag'\n",
       "\\item 'Wind.Dir..10s.deg.'\n",
       "\\item 'Wind.Dir.Flag'\n",
       "\\item 'Wind.Spd..km.h.'\n",
       "\\item 'Wind.Spd.Flag'\n",
       "\\item 'Visibility..km.'\n",
       "\\item 'Visibility.Flag'\n",
       "\\item 'Stn.Press..kPa.'\n",
       "\\item 'Stn.Press.Flag'\n",
       "\\item 'Hmdx'\n",
       "\\item 'Hmdx.Flag'\n",
       "\\item 'Wind.Chill'\n",
       "\\item 'Wind.Chill.Flag'\n",
       "\\item 'Weather'\n",
       "\\end{enumerate*}\n"
      ],
      "text/markdown": [
       "1. 'Longitude..x.'\n",
       "2. 'Latitude..y.'\n",
       "3. 'Station.Name'\n",
       "4. 'Climate.ID'\n",
       "5. 'Date.Time..LST.'\n",
       "6. 'Year'\n",
       "7. 'Month'\n",
       "8. 'Day'\n",
       "9. 'Time..LST.'\n",
       "10. 'Temp...C.'\n",
       "11. 'Temp.Flag'\n",
       "12. 'Dew.Point.Temp...C.'\n",
       "13. 'Dew.Point.Temp.Flag'\n",
       "14. 'Rel.Hum....'\n",
       "15. 'Rel.Hum.Flag'\n",
       "16. 'Precip..Amount..mm.'\n",
       "17. 'Precip..Amount.Flag'\n",
       "18. 'Wind.Dir..10s.deg.'\n",
       "19. 'Wind.Dir.Flag'\n",
       "20. 'Wind.Spd..km.h.'\n",
       "21. 'Wind.Spd.Flag'\n",
       "22. 'Visibility..km.'\n",
       "23. 'Visibility.Flag'\n",
       "24. 'Stn.Press..kPa.'\n",
       "25. 'Stn.Press.Flag'\n",
       "26. 'Hmdx'\n",
       "27. 'Hmdx.Flag'\n",
       "28. 'Wind.Chill'\n",
       "29. 'Wind.Chill.Flag'\n",
       "30. 'Weather'\n",
       "\n",
       "\n"
      ],
      "text/plain": [
       " [1] \"Longitude..x.\"       \"Latitude..y.\"        \"Station.Name\"       \n",
       " [4] \"Climate.ID\"          \"Date.Time..LST.\"     \"Year\"               \n",
       " [7] \"Month\"               \"Day\"                 \"Time..LST.\"         \n",
       "[10] \"Temp...C.\"           \"Temp.Flag\"           \"Dew.Point.Temp...C.\"\n",
       "[13] \"Dew.Point.Temp.Flag\" \"Rel.Hum....\"         \"Rel.Hum.Flag\"       \n",
       "[16] \"Precip..Amount..mm.\" \"Precip..Amount.Flag\" \"Wind.Dir..10s.deg.\" \n",
       "[19] \"Wind.Dir.Flag\"       \"Wind.Spd..km.h.\"     \"Wind.Spd.Flag\"      \n",
       "[22] \"Visibility..km.\"     \"Visibility.Flag\"     \"Stn.Press..kPa.\"    \n",
       "[25] \"Stn.Press.Flag\"      \"Hmdx\"                \"Hmdx.Flag\"          \n",
       "[28] \"Wind.Chill\"          \"Wind.Chill.Flag\"     \"Weather\"            "
      ]
     },
     "metadata": {},
     "output_type": "display_data"
    }
   ],
   "source": [
    "colnames(weather_training) <- make.names(colnames(weather_training))\n",
    "colnames(weather_training)"
   ]
  },
  {
   "cell_type": "markdown",
   "metadata": {},
   "source": [
    "##### Selecting only the predictors (temperature(°C), humidity(%), wind speed(km/h), visibility(km), pressure(kPa)) and Weather for class.\n",
    "##### Filtering out NA values in Weather column"
   ]
  },
  {
   "cell_type": "code",
   "execution_count": 4,
   "metadata": {},
   "outputs": [
    {
     "data": {
      "text/html": [
       "<table>\n",
       "<caption>A tibble: 6 × 6</caption>\n",
       "<thead>\n",
       "\t<tr><th scope=col>Temp...C.</th><th scope=col>Rel.Hum....</th><th scope=col>Wind.Spd..km.h.</th><th scope=col>Visibility..km.</th><th scope=col>Stn.Press..kPa.</th><th scope=col>Weather</th></tr>\n",
       "\t<tr><th scope=col>&lt;dbl&gt;</th><th scope=col>&lt;dbl&gt;</th><th scope=col>&lt;dbl&gt;</th><th scope=col>&lt;dbl&gt;</th><th scope=col>&lt;dbl&gt;</th><th scope=col>&lt;chr&gt;</th></tr>\n",
       "</thead>\n",
       "<tbody>\n",
       "\t<tr><td> 9.1</td><td>86</td><td>10</td><td>32.2</td><td>101.90</td><td>Mainly Clear </td></tr>\n",
       "\t<tr><td> 8.8</td><td>85</td><td> 5</td><td>32.2</td><td>101.90</td><td>Mostly Cloudy</td></tr>\n",
       "\t<tr><td>11.9</td><td>75</td><td> 8</td><td>32.2</td><td>102.03</td><td>Mostly Cloudy</td></tr>\n",
       "\t<tr><td>15.2</td><td>67</td><td>10</td><td>32.2</td><td>102.11</td><td>Mainly Clear </td></tr>\n",
       "\t<tr><td>16.2</td><td>69</td><td>18</td><td>32.2</td><td>102.13</td><td>Mainly Clear </td></tr>\n",
       "\t<tr><td>18.0</td><td>53</td><td>13</td><td>32.2</td><td>102.12</td><td>Clear        </td></tr>\n",
       "</tbody>\n",
       "</table>\n"
      ],
      "text/latex": [
       "A tibble: 6 × 6\n",
       "\\begin{tabular}{llllll}\n",
       " Temp...C. & Rel.Hum.... & Wind.Spd..km.h. & Visibility..km. & Stn.Press..kPa. & Weather\\\\\n",
       " <dbl> & <dbl> & <dbl> & <dbl> & <dbl> & <chr>\\\\\n",
       "\\hline\n",
       "\t  9.1 & 86 & 10 & 32.2 & 101.90 & Mainly Clear \\\\\n",
       "\t  8.8 & 85 &  5 & 32.2 & 101.90 & Mostly Cloudy\\\\\n",
       "\t 11.9 & 75 &  8 & 32.2 & 102.03 & Mostly Cloudy\\\\\n",
       "\t 15.2 & 67 & 10 & 32.2 & 102.11 & Mainly Clear \\\\\n",
       "\t 16.2 & 69 & 18 & 32.2 & 102.13 & Mainly Clear \\\\\n",
       "\t 18.0 & 53 & 13 & 32.2 & 102.12 & Clear        \\\\\n",
       "\\end{tabular}\n"
      ],
      "text/markdown": [
       "\n",
       "A tibble: 6 × 6\n",
       "\n",
       "| Temp...C. &lt;dbl&gt; | Rel.Hum.... &lt;dbl&gt; | Wind.Spd..km.h. &lt;dbl&gt; | Visibility..km. &lt;dbl&gt; | Stn.Press..kPa. &lt;dbl&gt; | Weather &lt;chr&gt; |\n",
       "|---|---|---|---|---|---|\n",
       "|  9.1 | 86 | 10 | 32.2 | 101.90 | Mainly Clear  |\n",
       "|  8.8 | 85 |  5 | 32.2 | 101.90 | Mostly Cloudy |\n",
       "| 11.9 | 75 |  8 | 32.2 | 102.03 | Mostly Cloudy |\n",
       "| 15.2 | 67 | 10 | 32.2 | 102.11 | Mainly Clear  |\n",
       "| 16.2 | 69 | 18 | 32.2 | 102.13 | Mainly Clear  |\n",
       "| 18.0 | 53 | 13 | 32.2 | 102.12 | Clear         |\n",
       "\n"
      ],
      "text/plain": [
       "  Temp...C. Rel.Hum.... Wind.Spd..km.h. Visibility..km. Stn.Press..kPa.\n",
       "1  9.1      86          10              32.2            101.90         \n",
       "2  8.8      85           5              32.2            101.90         \n",
       "3 11.9      75           8              32.2            102.03         \n",
       "4 15.2      67          10              32.2            102.11         \n",
       "5 16.2      69          18              32.2            102.13         \n",
       "6 18.0      53          13              32.2            102.12         \n",
       "  Weather      \n",
       "1 Mainly Clear \n",
       "2 Mostly Cloudy\n",
       "3 Mostly Cloudy\n",
       "4 Mainly Clear \n",
       "5 Mainly Clear \n",
       "6 Clear        "
      ]
     },
     "metadata": {},
     "output_type": "display_data"
    }
   ],
   "source": [
    "tidy_weather_training <- weather_training %>%\n",
    "    select(Temp...C., Rel.Hum...., Wind.Spd..km.h., Visibility..km., Stn.Press..kPa., Weather) %>%\n",
    "    filter(Weather != \"NA\") \n",
    "head(tidy_weather_training)"
   ]
  },
  {
   "cell_type": "markdown",
   "metadata": {},
   "source": [
    "##### Renaming columns for convenience"
   ]
  },
  {
   "cell_type": "code",
   "execution_count": 5,
   "metadata": {},
   "outputs": [
    {
     "data": {
      "text/html": [
       "<table>\n",
       "<caption>A tibble: 6 × 6</caption>\n",
       "<thead>\n",
       "\t<tr><th scope=col>Temp</th><th scope=col>Humid</th><th scope=col>Wind_Spd</th><th scope=col>Vis</th><th scope=col>Press</th><th scope=col>Weather</th></tr>\n",
       "\t<tr><th scope=col>&lt;dbl&gt;</th><th scope=col>&lt;dbl&gt;</th><th scope=col>&lt;dbl&gt;</th><th scope=col>&lt;dbl&gt;</th><th scope=col>&lt;dbl&gt;</th><th scope=col>&lt;chr&gt;</th></tr>\n",
       "</thead>\n",
       "<tbody>\n",
       "\t<tr><td> 9.1</td><td>86</td><td>10</td><td>32.2</td><td>101.90</td><td>Mainly Clear </td></tr>\n",
       "\t<tr><td> 8.8</td><td>85</td><td> 5</td><td>32.2</td><td>101.90</td><td>Mostly Cloudy</td></tr>\n",
       "\t<tr><td>11.9</td><td>75</td><td> 8</td><td>32.2</td><td>102.03</td><td>Mostly Cloudy</td></tr>\n",
       "\t<tr><td>15.2</td><td>67</td><td>10</td><td>32.2</td><td>102.11</td><td>Mainly Clear </td></tr>\n",
       "\t<tr><td>16.2</td><td>69</td><td>18</td><td>32.2</td><td>102.13</td><td>Mainly Clear </td></tr>\n",
       "\t<tr><td>18.0</td><td>53</td><td>13</td><td>32.2</td><td>102.12</td><td>Clear        </td></tr>\n",
       "</tbody>\n",
       "</table>\n"
      ],
      "text/latex": [
       "A tibble: 6 × 6\n",
       "\\begin{tabular}{llllll}\n",
       " Temp & Humid & Wind\\_Spd & Vis & Press & Weather\\\\\n",
       " <dbl> & <dbl> & <dbl> & <dbl> & <dbl> & <chr>\\\\\n",
       "\\hline\n",
       "\t  9.1 & 86 & 10 & 32.2 & 101.90 & Mainly Clear \\\\\n",
       "\t  8.8 & 85 &  5 & 32.2 & 101.90 & Mostly Cloudy\\\\\n",
       "\t 11.9 & 75 &  8 & 32.2 & 102.03 & Mostly Cloudy\\\\\n",
       "\t 15.2 & 67 & 10 & 32.2 & 102.11 & Mainly Clear \\\\\n",
       "\t 16.2 & 69 & 18 & 32.2 & 102.13 & Mainly Clear \\\\\n",
       "\t 18.0 & 53 & 13 & 32.2 & 102.12 & Clear        \\\\\n",
       "\\end{tabular}\n"
      ],
      "text/markdown": [
       "\n",
       "A tibble: 6 × 6\n",
       "\n",
       "| Temp &lt;dbl&gt; | Humid &lt;dbl&gt; | Wind_Spd &lt;dbl&gt; | Vis &lt;dbl&gt; | Press &lt;dbl&gt; | Weather &lt;chr&gt; |\n",
       "|---|---|---|---|---|---|\n",
       "|  9.1 | 86 | 10 | 32.2 | 101.90 | Mainly Clear  |\n",
       "|  8.8 | 85 |  5 | 32.2 | 101.90 | Mostly Cloudy |\n",
       "| 11.9 | 75 |  8 | 32.2 | 102.03 | Mostly Cloudy |\n",
       "| 15.2 | 67 | 10 | 32.2 | 102.11 | Mainly Clear  |\n",
       "| 16.2 | 69 | 18 | 32.2 | 102.13 | Mainly Clear  |\n",
       "| 18.0 | 53 | 13 | 32.2 | 102.12 | Clear         |\n",
       "\n"
      ],
      "text/plain": [
       "  Temp Humid Wind_Spd Vis  Press  Weather      \n",
       "1  9.1 86    10       32.2 101.90 Mainly Clear \n",
       "2  8.8 85     5       32.2 101.90 Mostly Cloudy\n",
       "3 11.9 75     8       32.2 102.03 Mostly Cloudy\n",
       "4 15.2 67    10       32.2 102.11 Mainly Clear \n",
       "5 16.2 69    18       32.2 102.13 Mainly Clear \n",
       "6 18.0 53    13       32.2 102.12 Clear        "
      ]
     },
     "metadata": {},
     "output_type": "display_data"
    }
   ],
   "source": [
    "tidy_weather_training <- rename(tidy_weather_training,\n",
    "       Temp = Temp...C., \n",
    "       Humid = Rel.Hum...., \n",
    "       Wind_Spd = Wind.Spd..km.h.,\n",
    "       Vis = Visibility..km., \n",
    "       Press = Stn.Press..kPa.)\n",
    "head(tidy_weather_training)"
   ]
  },
  {
   "cell_type": "markdown",
   "metadata": {},
   "source": [
    "##### Mutating weather column as factor"
   ]
  },
  {
   "cell_type": "code",
   "execution_count": 6,
   "metadata": {},
   "outputs": [],
   "source": [
    "tidy_weather_training <- tidy_weather_training %>%\n",
    "    mutate(Weather = as_factor(Weather))"
   ]
  },
  {
   "cell_type": "markdown",
   "metadata": {},
   "source": [
    "##### Now we have tidy data that is ready to be used as our training set for our classification model below. However, there is one last thing to check"
   ]
  },
  {
   "cell_type": "code",
   "execution_count": 7,
   "metadata": {},
   "outputs": [
    {
     "data": {
      "text/html": [
       "<table>\n",
       "<caption>A tibble: 6 × 6</caption>\n",
       "<thead>\n",
       "\t<tr><th scope=col>Temp</th><th scope=col>Humid</th><th scope=col>Wind_Spd</th><th scope=col>Vis</th><th scope=col>Press</th><th scope=col>Weather</th></tr>\n",
       "\t<tr><th scope=col>&lt;dbl&gt;</th><th scope=col>&lt;dbl&gt;</th><th scope=col>&lt;dbl&gt;</th><th scope=col>&lt;dbl&gt;</th><th scope=col>&lt;dbl&gt;</th><th scope=col>&lt;fct&gt;</th></tr>\n",
       "</thead>\n",
       "<tbody>\n",
       "\t<tr><td> 9.1</td><td>86</td><td>10</td><td>32.2</td><td>101.90</td><td>Mainly Clear </td></tr>\n",
       "\t<tr><td> 8.8</td><td>85</td><td> 5</td><td>32.2</td><td>101.90</td><td>Mostly Cloudy</td></tr>\n",
       "\t<tr><td>11.9</td><td>75</td><td> 8</td><td>32.2</td><td>102.03</td><td>Mostly Cloudy</td></tr>\n",
       "\t<tr><td>15.2</td><td>67</td><td>10</td><td>32.2</td><td>102.11</td><td>Mainly Clear </td></tr>\n",
       "\t<tr><td>16.2</td><td>69</td><td>18</td><td>32.2</td><td>102.13</td><td>Mainly Clear </td></tr>\n",
       "\t<tr><td>18.0</td><td>53</td><td>13</td><td>32.2</td><td>102.12</td><td>Clear        </td></tr>\n",
       "</tbody>\n",
       "</table>\n"
      ],
      "text/latex": [
       "A tibble: 6 × 6\n",
       "\\begin{tabular}{llllll}\n",
       " Temp & Humid & Wind\\_Spd & Vis & Press & Weather\\\\\n",
       " <dbl> & <dbl> & <dbl> & <dbl> & <dbl> & <fct>\\\\\n",
       "\\hline\n",
       "\t  9.1 & 86 & 10 & 32.2 & 101.90 & Mainly Clear \\\\\n",
       "\t  8.8 & 85 &  5 & 32.2 & 101.90 & Mostly Cloudy\\\\\n",
       "\t 11.9 & 75 &  8 & 32.2 & 102.03 & Mostly Cloudy\\\\\n",
       "\t 15.2 & 67 & 10 & 32.2 & 102.11 & Mainly Clear \\\\\n",
       "\t 16.2 & 69 & 18 & 32.2 & 102.13 & Mainly Clear \\\\\n",
       "\t 18.0 & 53 & 13 & 32.2 & 102.12 & Clear        \\\\\n",
       "\\end{tabular}\n"
      ],
      "text/markdown": [
       "\n",
       "A tibble: 6 × 6\n",
       "\n",
       "| Temp &lt;dbl&gt; | Humid &lt;dbl&gt; | Wind_Spd &lt;dbl&gt; | Vis &lt;dbl&gt; | Press &lt;dbl&gt; | Weather &lt;fct&gt; |\n",
       "|---|---|---|---|---|---|\n",
       "|  9.1 | 86 | 10 | 32.2 | 101.90 | Mainly Clear  |\n",
       "|  8.8 | 85 |  5 | 32.2 | 101.90 | Mostly Cloudy |\n",
       "| 11.9 | 75 |  8 | 32.2 | 102.03 | Mostly Cloudy |\n",
       "| 15.2 | 67 | 10 | 32.2 | 102.11 | Mainly Clear  |\n",
       "| 16.2 | 69 | 18 | 32.2 | 102.13 | Mainly Clear  |\n",
       "| 18.0 | 53 | 13 | 32.2 | 102.12 | Clear         |\n",
       "\n"
      ],
      "text/plain": [
       "  Temp Humid Wind_Spd Vis  Press  Weather      \n",
       "1  9.1 86    10       32.2 101.90 Mainly Clear \n",
       "2  8.8 85     5       32.2 101.90 Mostly Cloudy\n",
       "3 11.9 75     8       32.2 102.03 Mostly Cloudy\n",
       "4 15.2 67    10       32.2 102.11 Mainly Clear \n",
       "5 16.2 69    18       32.2 102.13 Mainly Clear \n",
       "6 18.0 53    13       32.2 102.12 Clear        "
      ]
     },
     "metadata": {},
     "output_type": "display_data"
    }
   ],
   "source": [
    "head(tidy_weather_training)"
   ]
  },
  {
   "cell_type": "markdown",
   "metadata": {},
   "source": [
    "##### Examining the proportion of different labels in the Weather column to identify potential class imbalance since the K-nearest neighbor algorithm is more likely to pick the label that is more common."
   ]
  },
  {
   "cell_type": "code",
   "execution_count": 10,
   "metadata": {},
   "outputs": [
    {
     "name": "stderr",
     "output_type": "stream",
     "text": [
      "`summarise()` ungrouping output (override with `.groups` argument)\n",
      "\n"
     ]
    },
    {
     "data": {
      "text/html": [
       "<table>\n",
       "<caption>A tibble: 12 × 3</caption>\n",
       "<thead>\n",
       "\t<tr><th scope=col>Weather</th><th scope=col>count</th><th scope=col>percentage</th></tr>\n",
       "\t<tr><th scope=col>&lt;fct&gt;</th><th scope=col>&lt;int&gt;</th><th scope=col>&lt;dbl&gt;</th></tr>\n",
       "</thead>\n",
       "<tbody>\n",
       "\t<tr><td>Mainly Clear              </td><td>48</td><td>16.5517241</td></tr>\n",
       "\t<tr><td>Mostly Cloudy             </td><td>99</td><td>34.1379310</td></tr>\n",
       "\t<tr><td>Clear                     </td><td>14</td><td> 4.8275862</td></tr>\n",
       "\t<tr><td>Rain                      </td><td>48</td><td>16.5517241</td></tr>\n",
       "\t<tr><td>Rain,Fog                  </td><td>14</td><td> 4.8275862</td></tr>\n",
       "\t<tr><td>Moderate Rain,Fog         </td><td> 5</td><td> 1.7241379</td></tr>\n",
       "\t<tr><td>Cloudy                    </td><td>45</td><td>15.5172414</td></tr>\n",
       "\t<tr><td>Rain Showers              </td><td> 8</td><td> 2.7586207</td></tr>\n",
       "\t<tr><td>Thunderstorms,Rain Showers</td><td> 1</td><td> 0.3448276</td></tr>\n",
       "\t<tr><td>Moderate Rain             </td><td> 2</td><td> 0.6896552</td></tr>\n",
       "\t<tr><td>Rain Showers,Fog          </td><td> 3</td><td> 1.0344828</td></tr>\n",
       "\t<tr><td>Fog                       </td><td> 3</td><td> 1.0344828</td></tr>\n",
       "</tbody>\n",
       "</table>\n"
      ],
      "text/latex": [
       "A tibble: 12 × 3\n",
       "\\begin{tabular}{lll}\n",
       " Weather & count & percentage\\\\\n",
       " <fct> & <int> & <dbl>\\\\\n",
       "\\hline\n",
       "\t Mainly Clear               & 48 & 16.5517241\\\\\n",
       "\t Mostly Cloudy              & 99 & 34.1379310\\\\\n",
       "\t Clear                      & 14 &  4.8275862\\\\\n",
       "\t Rain                       & 48 & 16.5517241\\\\\n",
       "\t Rain,Fog                   & 14 &  4.8275862\\\\\n",
       "\t Moderate Rain,Fog          &  5 &  1.7241379\\\\\n",
       "\t Cloudy                     & 45 & 15.5172414\\\\\n",
       "\t Rain Showers               &  8 &  2.7586207\\\\\n",
       "\t Thunderstorms,Rain Showers &  1 &  0.3448276\\\\\n",
       "\t Moderate Rain              &  2 &  0.6896552\\\\\n",
       "\t Rain Showers,Fog           &  3 &  1.0344828\\\\\n",
       "\t Fog                        &  3 &  1.0344828\\\\\n",
       "\\end{tabular}\n"
      ],
      "text/markdown": [
       "\n",
       "A tibble: 12 × 3\n",
       "\n",
       "| Weather &lt;fct&gt; | count &lt;int&gt; | percentage &lt;dbl&gt; |\n",
       "|---|---|---|\n",
       "| Mainly Clear               | 48 | 16.5517241 |\n",
       "| Mostly Cloudy              | 99 | 34.1379310 |\n",
       "| Clear                      | 14 |  4.8275862 |\n",
       "| Rain                       | 48 | 16.5517241 |\n",
       "| Rain,Fog                   | 14 |  4.8275862 |\n",
       "| Moderate Rain,Fog          |  5 |  1.7241379 |\n",
       "| Cloudy                     | 45 | 15.5172414 |\n",
       "| Rain Showers               |  8 |  2.7586207 |\n",
       "| Thunderstorms,Rain Showers |  1 |  0.3448276 |\n",
       "| Moderate Rain              |  2 |  0.6896552 |\n",
       "| Rain Showers,Fog           |  3 |  1.0344828 |\n",
       "| Fog                        |  3 |  1.0344828 |\n",
       "\n"
      ],
      "text/plain": [
       "   Weather                    count percentage\n",
       "1  Mainly Clear               48    16.5517241\n",
       "2  Mostly Cloudy              99    34.1379310\n",
       "3  Clear                      14     4.8275862\n",
       "4  Rain                       48    16.5517241\n",
       "5  Rain,Fog                   14     4.8275862\n",
       "6  Moderate Rain,Fog           5     1.7241379\n",
       "7  Cloudy                     45    15.5172414\n",
       "8  Rain Showers                8     2.7586207\n",
       "9  Thunderstorms,Rain Showers  1     0.3448276\n",
       "10 Moderate Rain               2     0.6896552\n",
       "11 Rain Showers,Fog            3     1.0344828\n",
       "12 Fog                         3     1.0344828"
      ]
     },
     "metadata": {},
     "output_type": "display_data"
    }
   ],
   "source": [
    "num_obs <- nrow(tidy_weather_training)\n",
    "tidy_weather_training %>%\n",
    "    group_by(Weather) %>%\n",
    "    summarize(count = n(),\n",
    "              percentage = n() / num_obs * 100)"
   ]
  },
  {
   "cell_type": "markdown",
   "metadata": {},
   "source": [
    "Right now, the dataset has an overrepresentation of the \"Mostly Cloudy\" category in the weather column. However, this is anticipated to be less of a problem if we combine all the observations from June 2020 and 2021 since the weather varies day to day. On the other hand, it is also possible that this trend may get amplified due to the climate patterns of Vancouver. For instance, June could be a cloudy month in general. If this is the case, we will be adding an oversampling step to the `recipe` that we will make for our classification model with the `step_upsample` function from the `themis` R Package to solve the imbalance problem."
   ]
  },
  {
   "cell_type": "markdown",
   "metadata": {},
   "source": [
    "## Methods \n",
    "1. Download all June 2020 and 2021 hourly data from the government of Canada website and tidy it like above and combine it into one dataframe and call it `training_set`.\n",
    "2. Repeat the same process for June 2022 hourly data and call it `testing_set`.\n",
    "4. Create a recipe that uses all predictors and a model specification with tuning on the number of neighbours using `tune()`. Also Use the `step_scale(all_predictors())` function and the `step_center(all_predictors())` function to scale and center our data. While using `step_upsample` function to solve class imbalance if necessary.\n",
    "5. Perform a 5-fold cross-validation on the training set using `vfold_cv` function\n",
    "6. Create a workflow analysis with our recipe and model specification using `workflow()` function\n",
    "7. Collect the metrics from the workflow analysis using the `collect_metrics` function.\n",
    "8. Plot the $k$ vs the accuracy and identify which $k$ the most optimal for our data set for k-nn classification. \n",
    "9. Create a new model specification for with the identified best value $k$ using the `nearest_neighbor()` function.\n",
    "10. Train the classifier with the training data set using the `workflow` function. Instead of using `fit` or `fit_resamples`, we will use the `tune_grid` function to fit the model for each value in a range of parameter values. For the `resamples` argument, we will input the cross-validation model we created earlier.\n",
    "11. Use our final model to predict on the test dataset `testing_set`\n",
    "12. Record the accuracy of this prediction, and store this in an object\n",
    "13. Plot the accuracy of our model on a bar graph for each category of Weather column"
   ]
  },
  {
   "cell_type": "markdown",
   "metadata": {},
   "source": [
    "## Expected Outcomes and Significance (help brainstorm & edit!!)\n",
    "- What do you expect to find?\n",
    "   - accuracy of our model\n",
    "- What impact could such findings have?\n",
    "    - if our model is accurate we can fill in the NA values in the testing set. This provides additional infomration for future studies in other areas and fields\n",
    "- What future questions could this lead to?"
   ]
  },
  {
   "cell_type": "markdown",
   "metadata": {},
   "source": [
    "## Expected Outcomes and Significance\n",
    "We expect that our final trained model, using data from June 2020 and June 2021, will allow us to predict the weather on our test dataset using data from June 2022. If we find that our model is accurate, we can use provided variables to predict missing weather information. Such findings may also lead to creating a more complex model that may allow the prediction of future weather. Our findings might also provide useful information in other areas of study. Future questions that our findings may lead to might include whether changes in temperature, humidity, wind speed etc. is linked to different types of weather throughout the years, and whether that is a result of climate change. "
   ]
  },
  {
   "cell_type": "code",
   "execution_count": null,
   "metadata": {},
   "outputs": [],
   "source": []
  }
 ],
 "metadata": {
  "kernelspec": {
   "display_name": "R",
   "language": "R",
   "name": "ir"
  },
  "language_info": {
   "codemirror_mode": "r",
   "file_extension": ".r",
   "mimetype": "text/x-r-source",
   "name": "R",
   "pygments_lexer": "r",
   "version": "4.0.0"
  }
 },
 "nbformat": 4,
 "nbformat_minor": 4
}
