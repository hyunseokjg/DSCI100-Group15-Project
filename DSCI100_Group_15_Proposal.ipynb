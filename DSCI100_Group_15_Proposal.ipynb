{
 "cells": [
  {
   "cell_type": "markdown",
   "metadata": {},
   "source": [
    "# DSCI 100 GROUP 15 PROPOSAL\n",
    "\n",
    "### Hyunseok Jung, Jordan Sanders, Ivie Huang, Eden Vasica"
   ]
  },
  {
   "cell_type": "markdown",
   "metadata": {},
   "source": [
    "## Introduction\n",
    "The learning objective of this group project is to demonstrate our ability to:\n",
    "- Clean and wrangle dataset into a tidy format\n",
    "- Perform k-nearest neighbour classification in R using the `tidymodels` package to predict the class of a test dataset.\n",
    "- Describe what a training data set & testing data set is and use it in a classification problem\n",
    "- Identify if it is necessary to scale variables before classification and do this using R.\n",
    "- Evaluate classification accuracy using a test data set and appropriate metrics using R\n",
    "- Execute cross validation in R to choose the number of neighbours\n",
    "\n",
    "#### Project:\n",
    "\n",
    "The government of Canada provides historical data on weather and climate. Its’ hourly weather data report consists of various climate observations such as temperature, humidity, and wind speed, as well as a column for the weather. From this dataset, we are inspired to test our ability to build a classification model for weather based on climate observations. To make our project more enjoyable, we want to focus on the weather data of Vancouver. We decided to work with historical weather and climate data provided by ‘Vancouver Intl A’ weather station. This particular facility, located in Vancouver International Airport, is one of the most significant weather stations in Vancouver that collects measurements for weather forecasts and climate studies. Therefore, it provides an hourly data report appropriate for our project. Unlike hourly data reports, daily and monthly data reports do not include a weather column making it impossible to build a classification model. Furthermore, the ‘Vancouver Intl A’ weather station’s proximity to the University of British Columbia makes the project personal and exciting.\n",
    "\n",
    "\n",
    "Considering seasonal climate differences and fluctuations, we decided to focus on weather reports from a single month, June, to reduce the number of external factors affecting the observations. Taking into account that we will be handling an hourly data report, we nonetheless have a sufficient amount of observations to build a classification model. In addition, being aware of temperature steadily increasing through external factors affecting global warming, we decided to use reports from the most recent years for our training set: June 2021 and June 2020. For the testing set, we will be using reports from June 2022. By doing so, we have recorded weather data available for checking the accuracy of our classification model.\n"
   ]
  },
  {
   "cell_type": "markdown",
   "metadata": {},
   "source": [
    "## Preliminary exploratory data analysis\n",
    "- Demonstrate that the dataset can be read from the web into R \n",
    "- Clean and wrangle your data into a tidy format\n",
    "- Using only training data, summarize the data in at least one table (this is exploratory data analysis). An example of a useful table could be one that reports the number of observations in each class, the means of the predictor variables you plan to use in your analysis and how many rows have missing data. \n",
    "- Using only training data, visualize the data with at least one plot relevant to the analysis you plan to do (this is exploratory data analysis). An example of a - useful visualization could be one that compares the distributions of each of the predictor variables you plan to use in your analysis."
   ]
  },
  {
   "cell_type": "code",
   "execution_count": 2,
   "metadata": {},
   "outputs": [
    {
     "name": "stderr",
     "output_type": "stream",
     "text": [
      "── \u001b[1mAttaching packages\u001b[22m ─────────────────────────────────────── tidyverse 1.3.0 ──\n",
      "\n",
      "\u001b[32m✔\u001b[39m \u001b[34mggplot2\u001b[39m 3.3.2     \u001b[32m✔\u001b[39m \u001b[34mpurrr  \u001b[39m 0.3.4\n",
      "\u001b[32m✔\u001b[39m \u001b[34mtibble \u001b[39m 3.0.3     \u001b[32m✔\u001b[39m \u001b[34mdplyr  \u001b[39m 1.0.2\n",
      "\u001b[32m✔\u001b[39m \u001b[34mtidyr  \u001b[39m 1.1.2     \u001b[32m✔\u001b[39m \u001b[34mstringr\u001b[39m 1.4.0\n",
      "\u001b[32m✔\u001b[39m \u001b[34mreadr  \u001b[39m 1.3.1     \u001b[32m✔\u001b[39m \u001b[34mforcats\u001b[39m 0.5.0\n",
      "\n",
      "Warning message:\n",
      "“package ‘ggplot2’ was built under R version 4.0.1”\n",
      "Warning message:\n",
      "“package ‘tibble’ was built under R version 4.0.2”\n",
      "Warning message:\n",
      "“package ‘tidyr’ was built under R version 4.0.2”\n",
      "Warning message:\n",
      "“package ‘dplyr’ was built under R version 4.0.2”\n",
      "── \u001b[1mConflicts\u001b[22m ────────────────────────────────────────── tidyverse_conflicts() ──\n",
      "\u001b[31m✖\u001b[39m \u001b[34mdplyr\u001b[39m::\u001b[32mfilter()\u001b[39m masks \u001b[34mstats\u001b[39m::filter()\n",
      "\u001b[31m✖\u001b[39m \u001b[34mdplyr\u001b[39m::\u001b[32mlag()\u001b[39m    masks \u001b[34mstats\u001b[39m::lag()\n",
      "\n"
     ]
    }
   ],
   "source": [
    "library(tidyverse)"
   ]
  },
  {
   "cell_type": "markdown",
   "metadata": {},
   "source": [
    "In order to demonstrate our project, we will download the hourly data report of June 1st, 2020 from the Government of Canada website and load it. \n",
    "The dataset can be found from:\n",
    "\"https://climate.weather.gc.ca/climate_data/hourly_data_e.html?hlyRange=2013-06-11%7C2022-06-09&dlyRange=2013-06-13%7C2022-06-09&mlyRange=%7C&StationID=51442&Prov=BC&urlExtension=_e.html&searchType=stnName&optLimit=yearRange&StartYear=1840&EndYear=2022&selRowPerPage=25&Line=2&searchMethod=contains&txtStationName=Vancouver+intl&timeframe=1&time=LST&time=LST&Year=2020&Month=6&Day=1#\""
   ]
  },
  {
   "cell_type": "code",
   "execution_count": 3,
   "metadata": {},
   "outputs": [
    {
     "ename": "ERROR",
     "evalue": "Error: 'data_proposal/en_climate_hourly_BC_1108395_06-2020_P1H' does not exist in current working directory ('/home/jupyter/DSCI100-Group15-Project').\n",
     "output_type": "error",
     "traceback": [
      "Error: 'data_proposal/en_climate_hourly_BC_1108395_06-2020_P1H' does not exist in current working directory ('/home/jupyter/DSCI100-Group15-Project').\nTraceback:\n",
      "1. read_csv(\"data_proposal/en_climate_hourly_BC_1108395_06-2020_P1H\")",
      "2. read_delimited(file, tokenizer, col_names = col_names, col_types = col_types, \n .     locale = locale, skip = skip, skip_empty_rows = skip_empty_rows, \n .     comment = comment, n_max = n_max, guess_max = guess_max, \n .     progress = progress)",
      "3. standardise_path(file)",
      "4. check_path(path)",
      "5. stop(\"'\", path, \"' does not exist\", if (!is_absolute_path(path)) paste0(\" in current working directory ('\", \n .     getwd(), \"')\"), \".\", call. = FALSE)"
     ]
    }
   ],
   "source": [
    "June_1_2020 <- read_csv(\"data_proposal/en_climate_hourly_BC_1108395_06-2020_P1H\")"
   ]
  },
  {
   "cell_type": "markdown",
   "metadata": {},
   "source": [
    "## Methods\n",
    "- Explain how you will conduct either your data analysis and which variables/columns you will use. Note - you do not need to use all variables/columns that exist in the raw data set. In fact, that's often not a good idea. For each variable think: is this a useful variable for prediction?\n",
    "- Describe at least one way that you will visualize the results"
   ]
  },
  {
   "cell_type": "code",
   "execution_count": null,
   "metadata": {},
   "outputs": [],
   "source": []
  },
  {
   "cell_type": "markdown",
   "metadata": {},
   "source": [
    "## Expected Outcomes and Significance\n",
    "- What do you expect to find?\n",
    "- What impact could such findings have?\n",
    "- What future questions could this lead to?"
   ]
  },
  {
   "cell_type": "markdown",
   "metadata": {},
   "source": []
  }
 ],
 "metadata": {
  "kernelspec": {
   "display_name": "R",
   "language": "R",
   "name": "ir"
  },
  "language_info": {
   "codemirror_mode": "r",
   "file_extension": ".r",
   "mimetype": "text/x-r-source",
   "name": "R",
   "pygments_lexer": "r",
   "version": "4.0.0"
  }
 },
 "nbformat": 4,
 "nbformat_minor": 4
}
