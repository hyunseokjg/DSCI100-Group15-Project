{
 "cells": [
  {
   "cell_type": "code",
   "execution_count": 5,
   "metadata": {},
   "outputs": [],
   "source": [
    "library(tidyverse)\n",
    "library(repr)\n",
    "library(tidymodels)\n",
    "options(repr.matrix.max.rows = 9)"
   ]
  },
  {
   "cell_type": "code",
   "execution_count": 6,
   "metadata": {},
   "outputs": [
    {
     "name": "stderr",
     "output_type": "stream",
     "text": [
      "Parsed with column specification:\n",
      "cols(\n",
      "  Temp = \u001b[32mcol_double()\u001b[39m,\n",
      "  Humid = \u001b[32mcol_double()\u001b[39m,\n",
      "  Wind_Spd = \u001b[32mcol_double()\u001b[39m,\n",
      "  Vis = \u001b[32mcol_double()\u001b[39m,\n",
      "  Press = \u001b[32mcol_double()\u001b[39m,\n",
      "  Weather = \u001b[31mcol_character()\u001b[39m\n",
      ")\n",
      "\n"
     ]
    },
    {
     "data": {
      "text/html": [
       "<table>\n",
       "<caption>A spec_tbl_df: 3914 × 6</caption>\n",
       "<thead>\n",
       "\t<tr><th scope=col>Temp</th><th scope=col>Humid</th><th scope=col>Wind_Spd</th><th scope=col>Vis</th><th scope=col>Press</th><th scope=col>Weather</th></tr>\n",
       "\t<tr><th scope=col>&lt;dbl&gt;</th><th scope=col>&lt;dbl&gt;</th><th scope=col>&lt;dbl&gt;</th><th scope=col>&lt;dbl&gt;</th><th scope=col>&lt;dbl&gt;</th><th scope=col>&lt;chr&gt;</th></tr>\n",
       "</thead>\n",
       "<tbody>\n",
       "\t<tr><td>12.8</td><td>100</td><td> 4</td><td>32.2</td><td>101.78</td><td>Mostly Cloudy</td></tr>\n",
       "\t<tr><td>10.4</td><td>100</td><td> 4</td><td>32.2</td><td>101.72</td><td>Mostly Cloudy</td></tr>\n",
       "\t<tr><td>15.3</td><td> 80</td><td> 3</td><td>48.3</td><td>101.72</td><td>Mostly Cloudy</td></tr>\n",
       "\t<tr><td>16.8</td><td> 85</td><td>19</td><td>48.3</td><td>101.65</td><td>Mostly Cloudy</td></tr>\n",
       "\t<tr><td>17.2</td><td> 84</td><td>18</td><td>48.3</td><td>101.54</td><td>Cloudy       </td></tr>\n",
       "\t<tr><td>⋮</td><td>⋮</td><td>⋮</td><td>⋮</td><td>⋮</td><td>⋮</td></tr>\n",
       "\t<tr><td>15.7</td><td>81</td><td>12</td><td>32.2</td><td>102.19</td><td>Cloudy       </td></tr>\n",
       "\t<tr><td>17.3</td><td>72</td><td> 9</td><td>48.3</td><td>102.19</td><td>Mostly Cloudy</td></tr>\n",
       "\t<tr><td>16.4</td><td>69</td><td>15</td><td>32.2</td><td>102.14</td><td>Mainly Clear </td></tr>\n",
       "\t<tr><td>14.6</td><td>83</td><td>13</td><td>32.2</td><td>102.24</td><td>Mostly Cloudy</td></tr>\n",
       "</tbody>\n",
       "</table>\n"
      ],
      "text/latex": [
       "A spec\\_tbl\\_df: 3914 × 6\n",
       "\\begin{tabular}{llllll}\n",
       " Temp & Humid & Wind\\_Spd & Vis & Press & Weather\\\\\n",
       " <dbl> & <dbl> & <dbl> & <dbl> & <dbl> & <chr>\\\\\n",
       "\\hline\n",
       "\t 12.8 & 100 &  4 & 32.2 & 101.78 & Mostly Cloudy\\\\\n",
       "\t 10.4 & 100 &  4 & 32.2 & 101.72 & Mostly Cloudy\\\\\n",
       "\t 15.3 &  80 &  3 & 48.3 & 101.72 & Mostly Cloudy\\\\\n",
       "\t 16.8 &  85 & 19 & 48.3 & 101.65 & Mostly Cloudy\\\\\n",
       "\t 17.2 &  84 & 18 & 48.3 & 101.54 & Cloudy       \\\\\n",
       "\t ⋮ & ⋮ & ⋮ & ⋮ & ⋮ & ⋮\\\\\n",
       "\t 15.7 & 81 & 12 & 32.2 & 102.19 & Cloudy       \\\\\n",
       "\t 17.3 & 72 &  9 & 48.3 & 102.19 & Mostly Cloudy\\\\\n",
       "\t 16.4 & 69 & 15 & 32.2 & 102.14 & Mainly Clear \\\\\n",
       "\t 14.6 & 83 & 13 & 32.2 & 102.24 & Mostly Cloudy\\\\\n",
       "\\end{tabular}\n"
      ],
      "text/markdown": [
       "\n",
       "A spec_tbl_df: 3914 × 6\n",
       "\n",
       "| Temp &lt;dbl&gt; | Humid &lt;dbl&gt; | Wind_Spd &lt;dbl&gt; | Vis &lt;dbl&gt; | Press &lt;dbl&gt; | Weather &lt;chr&gt; |\n",
       "|---|---|---|---|---|---|\n",
       "| 12.8 | 100 |  4 | 32.2 | 101.78 | Mostly Cloudy |\n",
       "| 10.4 | 100 |  4 | 32.2 | 101.72 | Mostly Cloudy |\n",
       "| 15.3 |  80 |  3 | 48.3 | 101.72 | Mostly Cloudy |\n",
       "| 16.8 |  85 | 19 | 48.3 | 101.65 | Mostly Cloudy |\n",
       "| 17.2 |  84 | 18 | 48.3 | 101.54 | Cloudy        |\n",
       "| ⋮ | ⋮ | ⋮ | ⋮ | ⋮ | ⋮ |\n",
       "| 15.7 | 81 | 12 | 32.2 | 102.19 | Cloudy        |\n",
       "| 17.3 | 72 |  9 | 48.3 | 102.19 | Mostly Cloudy |\n",
       "| 16.4 | 69 | 15 | 32.2 | 102.14 | Mainly Clear  |\n",
       "| 14.6 | 83 | 13 | 32.2 | 102.24 | Mostly Cloudy |\n",
       "\n"
      ],
      "text/plain": [
       "     Temp Humid Wind_Spd Vis  Press  Weather      \n",
       "1    12.8 100    4       32.2 101.78 Mostly Cloudy\n",
       "2    10.4 100    4       32.2 101.72 Mostly Cloudy\n",
       "3    15.3  80    3       48.3 101.72 Mostly Cloudy\n",
       "4    16.8  85   19       48.3 101.65 Mostly Cloudy\n",
       "5    17.2  84   18       48.3 101.54 Cloudy       \n",
       "⋮    ⋮    ⋮     ⋮        ⋮    ⋮      ⋮            \n",
       "3911 15.7 81    12       32.2 102.19 Cloudy       \n",
       "3912 17.3 72     9       48.3 102.19 Mostly Cloudy\n",
       "3913 16.4 69    15       32.2 102.14 Mainly Clear \n",
       "3914 14.6 83    13       32.2 102.24 Mostly Cloudy"
      ]
     },
     "metadata": {},
     "output_type": "display_data"
    }
   ],
   "source": [
    "weather_data <- read_csv(\"data/testing_set.csv\")\n",
    "weather_data\n",
    "\n",
    "\n",
    "weather_split <- initial_split(weather_data, prop = 0.75, strata = Weather)\n",
    "weather_train = training(weather_split)\n",
    "weather_test = testing(weather_split)"
   ]
  },
  {
   "cell_type": "code",
   "execution_count": 7,
   "metadata": {},
   "outputs": [
    {
     "name": "stderr",
     "output_type": "stream",
     "text": [
      "`summarise()` ungrouping output (override with `.groups` argument)\n",
      "\n"
     ]
    },
    {
     "data": {
      "text/html": [
       "<table>\n",
       "<caption>A tibble: 9 × 3</caption>\n",
       "<thead>\n",
       "\t<tr><th scope=col>Weather</th><th scope=col>n</th><th scope=col>percent</th></tr>\n",
       "\t<tr><th scope=col>&lt;chr&gt;</th><th scope=col>&lt;int&gt;</th><th scope=col>&lt;dbl&gt;</th></tr>\n",
       "</thead>\n",
       "<tbody>\n",
       "\t<tr><td>Clear            </td><td> 73</td><td> 2.4863760</td></tr>\n",
       "\t<tr><td>Cloudy           </td><td>605</td><td>20.6062670</td></tr>\n",
       "\t<tr><td>Heavy Rain       </td><td> 16</td><td> 0.5449591</td></tr>\n",
       "\t<tr><td>Mainly Clear     </td><td>288</td><td> 9.8092643</td></tr>\n",
       "\t<tr><td>Moderate Rain    </td><td> 12</td><td> 0.4087193</td></tr>\n",
       "\t<tr><td>Moderate Rain,Fog</td><td>133</td><td> 4.5299728</td></tr>\n",
       "\t<tr><td>Mostly Cloudy    </td><td>795</td><td>27.0776567</td></tr>\n",
       "\t<tr><td>Rain             </td><td>766</td><td>26.0899183</td></tr>\n",
       "\t<tr><td>Rain Showers     </td><td>248</td><td> 8.4468665</td></tr>\n",
       "</tbody>\n",
       "</table>\n"
      ],
      "text/latex": [
       "A tibble: 9 × 3\n",
       "\\begin{tabular}{lll}\n",
       " Weather & n & percent\\\\\n",
       " <chr> & <int> & <dbl>\\\\\n",
       "\\hline\n",
       "\t Clear             &  73 &  2.4863760\\\\\n",
       "\t Cloudy            & 605 & 20.6062670\\\\\n",
       "\t Heavy Rain        &  16 &  0.5449591\\\\\n",
       "\t Mainly Clear      & 288 &  9.8092643\\\\\n",
       "\t Moderate Rain     &  12 &  0.4087193\\\\\n",
       "\t Moderate Rain,Fog & 133 &  4.5299728\\\\\n",
       "\t Mostly Cloudy     & 795 & 27.0776567\\\\\n",
       "\t Rain              & 766 & 26.0899183\\\\\n",
       "\t Rain Showers      & 248 &  8.4468665\\\\\n",
       "\\end{tabular}\n"
      ],
      "text/markdown": [
       "\n",
       "A tibble: 9 × 3\n",
       "\n",
       "| Weather &lt;chr&gt; | n &lt;int&gt; | percent &lt;dbl&gt; |\n",
       "|---|---|---|\n",
       "| Clear             |  73 |  2.4863760 |\n",
       "| Cloudy            | 605 | 20.6062670 |\n",
       "| Heavy Rain        |  16 |  0.5449591 |\n",
       "| Mainly Clear      | 288 |  9.8092643 |\n",
       "| Moderate Rain     |  12 |  0.4087193 |\n",
       "| Moderate Rain,Fog | 133 |  4.5299728 |\n",
       "| Mostly Cloudy     | 795 | 27.0776567 |\n",
       "| Rain              | 766 | 26.0899183 |\n",
       "| Rain Showers      | 248 |  8.4468665 |\n",
       "\n"
      ],
      "text/plain": [
       "  Weather           n   percent   \n",
       "1 Clear              73  2.4863760\n",
       "2 Cloudy            605 20.6062670\n",
       "3 Heavy Rain         16  0.5449591\n",
       "4 Mainly Clear      288  9.8092643\n",
       "5 Moderate Rain      12  0.4087193\n",
       "6 Moderate Rain,Fog 133  4.5299728\n",
       "7 Mostly Cloudy     795 27.0776567\n",
       "8 Rain              766 26.0899183\n",
       "9 Rain Showers      248  8.4468665"
      ]
     },
     "metadata": {},
     "output_type": "display_data"
    },
    {
     "name": "stderr",
     "output_type": "stream",
     "text": [
      "\u001b[33m!\u001b[39m \u001b[33mFold1: internal: No observations were detected in `truth` for level(s): 'Heavy ...\u001b[39m\n",
      "\n"
     ]
    },
    {
     "data": {
      "text/html": [
       "<table>\n",
       "<caption>A tibble: 10 × 7</caption>\n",
       "<thead>\n",
       "\t<tr><th scope=col>neighbors</th><th scope=col>.metric</th><th scope=col>.estimator</th><th scope=col>mean</th><th scope=col>n</th><th scope=col>std_err</th><th scope=col>.config</th></tr>\n",
       "\t<tr><th scope=col>&lt;int&gt;</th><th scope=col>&lt;chr&gt;</th><th scope=col>&lt;chr&gt;</th><th scope=col>&lt;dbl&gt;</th><th scope=col>&lt;int&gt;</th><th scope=col>&lt;dbl&gt;</th><th scope=col>&lt;chr&gt;</th></tr>\n",
       "</thead>\n",
       "<tbody>\n",
       "\t<tr><td>1</td><td>accuracy</td><td>multiclass</td><td>1</td><td>5</td><td>0</td><td>Model01</td></tr>\n",
       "\t<tr><td>2</td><td>accuracy</td><td>multiclass</td><td>1</td><td>5</td><td>0</td><td>Model02</td></tr>\n",
       "\t<tr><td>3</td><td>accuracy</td><td>multiclass</td><td>1</td><td>5</td><td>0</td><td>Model03</td></tr>\n",
       "\t<tr><td>4</td><td>accuracy</td><td>multiclass</td><td>1</td><td>5</td><td>0</td><td>Model04</td></tr>\n",
       "\t<tr><td>5</td><td>accuracy</td><td>multiclass</td><td>1</td><td>5</td><td>0</td><td>Model05</td></tr>\n",
       "\t<tr><td>⋮</td><td>⋮</td><td>⋮</td><td>⋮</td><td>⋮</td><td>⋮</td><td>⋮</td></tr>\n",
       "\t<tr><td> 7</td><td>accuracy</td><td>multiclass</td><td>1</td><td>5</td><td>0</td><td>Model07</td></tr>\n",
       "\t<tr><td> 8</td><td>accuracy</td><td>multiclass</td><td>1</td><td>5</td><td>0</td><td>Model08</td></tr>\n",
       "\t<tr><td> 9</td><td>accuracy</td><td>multiclass</td><td>1</td><td>5</td><td>0</td><td>Model09</td></tr>\n",
       "\t<tr><td>10</td><td>accuracy</td><td>multiclass</td><td>1</td><td>5</td><td>0</td><td>Model10</td></tr>\n",
       "</tbody>\n",
       "</table>\n"
      ],
      "text/latex": [
       "A tibble: 10 × 7\n",
       "\\begin{tabular}{lllllll}\n",
       " neighbors & .metric & .estimator & mean & n & std\\_err & .config\\\\\n",
       " <int> & <chr> & <chr> & <dbl> & <int> & <dbl> & <chr>\\\\\n",
       "\\hline\n",
       "\t 1 & accuracy & multiclass & 1 & 5 & 0 & Model01\\\\\n",
       "\t 2 & accuracy & multiclass & 1 & 5 & 0 & Model02\\\\\n",
       "\t 3 & accuracy & multiclass & 1 & 5 & 0 & Model03\\\\\n",
       "\t 4 & accuracy & multiclass & 1 & 5 & 0 & Model04\\\\\n",
       "\t 5 & accuracy & multiclass & 1 & 5 & 0 & Model05\\\\\n",
       "\t ⋮ & ⋮ & ⋮ & ⋮ & ⋮ & ⋮ & ⋮\\\\\n",
       "\t  7 & accuracy & multiclass & 1 & 5 & 0 & Model07\\\\\n",
       "\t  8 & accuracy & multiclass & 1 & 5 & 0 & Model08\\\\\n",
       "\t  9 & accuracy & multiclass & 1 & 5 & 0 & Model09\\\\\n",
       "\t 10 & accuracy & multiclass & 1 & 5 & 0 & Model10\\\\\n",
       "\\end{tabular}\n"
      ],
      "text/markdown": [
       "\n",
       "A tibble: 10 × 7\n",
       "\n",
       "| neighbors &lt;int&gt; | .metric &lt;chr&gt; | .estimator &lt;chr&gt; | mean &lt;dbl&gt; | n &lt;int&gt; | std_err &lt;dbl&gt; | .config &lt;chr&gt; |\n",
       "|---|---|---|---|---|---|---|\n",
       "| 1 | accuracy | multiclass | 1 | 5 | 0 | Model01 |\n",
       "| 2 | accuracy | multiclass | 1 | 5 | 0 | Model02 |\n",
       "| 3 | accuracy | multiclass | 1 | 5 | 0 | Model03 |\n",
       "| 4 | accuracy | multiclass | 1 | 5 | 0 | Model04 |\n",
       "| 5 | accuracy | multiclass | 1 | 5 | 0 | Model05 |\n",
       "| ⋮ | ⋮ | ⋮ | ⋮ | ⋮ | ⋮ | ⋮ |\n",
       "|  7 | accuracy | multiclass | 1 | 5 | 0 | Model07 |\n",
       "|  8 | accuracy | multiclass | 1 | 5 | 0 | Model08 |\n",
       "|  9 | accuracy | multiclass | 1 | 5 | 0 | Model09 |\n",
       "| 10 | accuracy | multiclass | 1 | 5 | 0 | Model10 |\n",
       "\n"
      ],
      "text/plain": [
       "   neighbors .metric  .estimator mean n std_err .config\n",
       "1  1         accuracy multiclass 1    5 0       Model01\n",
       "2  2         accuracy multiclass 1    5 0       Model02\n",
       "3  3         accuracy multiclass 1    5 0       Model03\n",
       "4  4         accuracy multiclass 1    5 0       Model04\n",
       "5  5         accuracy multiclass 1    5 0       Model05\n",
       "⋮  ⋮         ⋮        ⋮          ⋮    ⋮ ⋮       ⋮      \n",
       "7   7        accuracy multiclass 1    5 0       Model07\n",
       "8   8        accuracy multiclass 1    5 0       Model08\n",
       "9   9        accuracy multiclass 1    5 0       Model09\n",
       "10 10        accuracy multiclass 1    5 0       Model10"
      ]
     },
     "metadata": {},
     "output_type": "display_data"
    },
    {
     "ename": "ERROR",
     "evalue": "Error in eval(lhs, parent, parent): '...' used in an incorrect context\n",
     "output_type": "error",
     "traceback": [
      "Error in eval(lhs, parent, parent): '...' used in an incorrect context\nTraceback:\n",
      "1. nearest_neighbor(weight_func = \"rectangular\", neighbors = ...) %>% \n .     set_engine(\"kknn\") %>% set_mode(\"classification\")",
      "2. eval(lhs, parent, parent)",
      "3. eval(lhs, parent, parent)"
     ]
    },
    {
     "data": {
      "image/png": "[encoded data removed]",
      "text/plain": [
       "plot without title"
      ]
     },
     "metadata": {
      "image/png": {
       "height": 480,
       "width": 720
      }
     },
     "output_type": "display_data"
    }
   ],
   "source": [
    "set.seed(2022)\n",
    "\n",
    "\n",
    "#check to see if proportions of data are close enough to use or if we should scale up / remove some\n",
    "#of the other weather classifications\n",
    "\n",
    "number_rows <- nrow(weather_train)\n",
    "\n",
    "proportions <- weather_train %>%\n",
    "    group_by(Weather) %>%\n",
    "    summarize(n = n()) %>%\n",
    "    mutate(percent = 100*n/number_rows)\n",
    "proportions\n",
    "\n",
    "#make recipe and model with cross validation to find k\n",
    "\n",
    "weather_recipe <- recipe(Weather ~ ., data = weather_train) %>%\n",
    "    step_center(all_predictors()) %>%\n",
    "    step_scale(all_predictors())\n",
    "\n",
    "weather_knn <- nearest_neighbor(weight_func = \"rectangular\", neighbors = tune()) %>%\n",
    "    set_engine(\"kknn\") %>%\n",
    "    set_mode(\"classification\")\n",
    "\n",
    "weather_vfold <- vfold_cv(weather_train, v = 5, strata = Weather)\n",
    "\n",
    "k_grid <- tibble(neighbors = 1:10)\n",
    "\n",
    "weather_fit <- workflow() %>%\n",
    "    add_recipe(weather_recipe) %>%\n",
    "    add_model(weather_knn) %>%\n",
    "    tune_grid(resamples = weather_vfold, grid = k_grid) %>%\n",
    "    collect_metrics()\n",
    "\n",
    "#find accuracy for different values of k on our model\n",
    "\n",
    "weather_accuracy <- weather_fit %>%\n",
    "    filter(.metric == \"accuracy\")\n",
    "weather_accuracy\n",
    "\n",
    "#create line plot with data points for accuracy estimate vs neighbors to find optimal k value\n",
    "#(looking for high accuracy estimate with high values of accuracy for nearby values of k as well)\n",
    "\n",
    "options(repr.plot.height = 8, repr.plot.width = 12)\n",
    "finding_k_plot <- ggplot(weather_accuracy, aes(x = neighbors, y = mean)) +\n",
    "    geom_point() +\n",
    "    geom_line() +\n",
    "    labs(x = \"Number of Neighbors\", y = \"Accuracy Estimate\",\n",
    "        title = \"Accuracy Estimates for Different Numbers of Neighbors\") +\n",
    "    theme(text = element_text(size = 20)) +\n",
    "    scale_x_continuous(breaks = 1:10)\n",
    "finding_k_plot\n",
    "\n",
    "#retrain our model with the newfound value of k and fit it to our training data\n",
    "\n",
    "weather_model <- nearest_neighbor(weight_func = \"rectangular\", neighbors = ...) %>%  ## must use value of k determined above\n",
    "    set_engine(\"kknn\") %>%\n",
    "    set_mode(\"classification\")\n",
    "\n",
    "weather_fit_final <- workflow() %>%\n",
    "    add_recipe(weather_recipe) %>%\n",
    "    add_model(weather_model) %>%\n",
    "    fit(data = weather_train)\n",
    "\n",
    "#we can now use our fitted model to predict the weather for our testing data set\n",
    "\n",
    "weather_predictions <- predict(weather_fit_final, weather_test) %>%\n",
    "    bind_cols(weather_test) %>%\n",
    "    select(.pred_class, Weather) %>%\n",
    "weather_predictions\n",
    "\n",
    "#we can use the metrics function to see how accurate our model was at predicting weather values \n",
    "#on the testing dataset\n",
    "\n",
    "weather_metrics <- weather_predictions %>%\n",
    "    metrics(truth = Weather, estimate = .pred_class) %>%\n",
    "    filter(.metric == \"accuracy\")\n",
    "weather_metrics"
   ]
  },
  {
   "cell_type": "code",
   "execution_count": null,
   "metadata": {},
   "outputs": [],
   "source": []
  }
 ],
 "metadata": {
  "kernelspec": {
   "display_name": "R",
   "language": "R",
   "name": "ir"
  },
  "language_info": {
   "codemirror_mode": "r",
   "file_extension": ".r",
   "mimetype": "text/x-r-source",
   "name": "R",
   "pygments_lexer": "r",
   "version": "4.0.0"
  }
 },
 "nbformat": 4,
 "nbformat_minor": 4
}
