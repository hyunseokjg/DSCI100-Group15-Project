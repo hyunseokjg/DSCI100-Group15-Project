{
 "cells": [
  {
   "cell_type": "code",
   "execution_count": 1,
   "metadata": {},
   "outputs": [
    {
     "name": "stderr",
     "output_type": "stream",
     "text": [
      "── \u001b[1mAttaching packages\u001b[22m ─────────────────────────────────────── tidyverse 1.3.0 ──\n",
      "\n",
      "\u001b[32m✔\u001b[39m \u001b[34mggplot2\u001b[39m 3.3.2     \u001b[32m✔\u001b[39m \u001b[34mpurrr  \u001b[39m 0.3.4\n",
      "\u001b[32m✔\u001b[39m \u001b[34mtibble \u001b[39m 3.0.3     \u001b[32m✔\u001b[39m \u001b[34mdplyr  \u001b[39m 1.0.2\n",
      "\u001b[32m✔\u001b[39m \u001b[34mtidyr  \u001b[39m 1.1.2     \u001b[32m✔\u001b[39m \u001b[34mstringr\u001b[39m 1.4.0\n",
      "\u001b[32m✔\u001b[39m \u001b[34mreadr  \u001b[39m 1.3.1     \u001b[32m✔\u001b[39m \u001b[34mforcats\u001b[39m 0.5.0\n",
      "\n",
      "Warning message:\n",
      "“package ‘ggplot2’ was built under R version 4.0.1”\n",
      "Warning message:\n",
      "“package ‘tibble’ was built under R version 4.0.2”\n",
      "Warning message:\n",
      "“package ‘tidyr’ was built under R version 4.0.2”\n",
      "Warning message:\n",
      "“package ‘dplyr’ was built under R version 4.0.2”\n",
      "── \u001b[1mConflicts\u001b[22m ────────────────────────────────────────── tidyverse_conflicts() ──\n",
      "\u001b[31m✖\u001b[39m \u001b[34mdplyr\u001b[39m::\u001b[32mfilter()\u001b[39m masks \u001b[34mstats\u001b[39m::filter()\n",
      "\u001b[31m✖\u001b[39m \u001b[34mdplyr\u001b[39m::\u001b[32mlag()\u001b[39m    masks \u001b[34mstats\u001b[39m::lag()\n",
      "\n",
      "Warning message:\n",
      "“package ‘tidymodels’ was built under R version 4.0.2”\n",
      "── \u001b[1mAttaching packages\u001b[22m ────────────────────────────────────── tidymodels 0.1.1 ──\n",
      "\n",
      "\u001b[32m✔\u001b[39m \u001b[34mbroom    \u001b[39m 0.7.0      \u001b[32m✔\u001b[39m \u001b[34mrecipes  \u001b[39m 0.1.13\n",
      "\u001b[32m✔\u001b[39m \u001b[34mdials    \u001b[39m 0.0.9      \u001b[32m✔\u001b[39m \u001b[34mrsample  \u001b[39m 0.0.7 \n",
      "\u001b[32m✔\u001b[39m \u001b[34minfer    \u001b[39m 0.5.4      \u001b[32m✔\u001b[39m \u001b[34mtune     \u001b[39m 0.1.1 \n",
      "\u001b[32m✔\u001b[39m \u001b[34mmodeldata\u001b[39m 0.0.2      \u001b[32m✔\u001b[39m \u001b[34mworkflows\u001b[39m 0.2.0 \n",
      "\u001b[32m✔\u001b[39m \u001b[34mparsnip  \u001b[39m 0.1.3      \u001b[32m✔\u001b[39m \u001b[34myardstick\u001b[39m 0.0.7 \n",
      "\n",
      "Warning message:\n",
      "“package ‘broom’ was built under R version 4.0.2”\n",
      "Warning message:\n",
      "“package ‘dials’ was built under R version 4.0.2”\n",
      "Warning message:\n",
      "“package ‘infer’ was built under R version 4.0.3”\n",
      "Warning message:\n",
      "“package ‘modeldata’ was built under R version 4.0.1”\n",
      "Warning message:\n",
      "“package ‘parsnip’ was built under R version 4.0.2”\n",
      "Warning message:\n",
      "“package ‘recipes’ was built under R version 4.0.1”\n",
      "Warning message:\n",
      "“package ‘tune’ was built under R version 4.0.2”\n",
      "Warning message:\n",
      "“package ‘workflows’ was built under R version 4.0.2”\n",
      "Warning message:\n",
      "“package ‘yardstick’ was built under R version 4.0.2”\n",
      "── \u001b[1mConflicts\u001b[22m ───────────────────────────────────────── tidymodels_conflicts() ──\n",
      "\u001b[31m✖\u001b[39m \u001b[34mscales\u001b[39m::\u001b[32mdiscard()\u001b[39m masks \u001b[34mpurrr\u001b[39m::discard()\n",
      "\u001b[31m✖\u001b[39m \u001b[34mdplyr\u001b[39m::\u001b[32mfilter()\u001b[39m   masks \u001b[34mstats\u001b[39m::filter()\n",
      "\u001b[31m✖\u001b[39m \u001b[34mrecipes\u001b[39m::\u001b[32mfixed()\u001b[39m  masks \u001b[34mstringr\u001b[39m::fixed()\n",
      "\u001b[31m✖\u001b[39m \u001b[34mdplyr\u001b[39m::\u001b[32mlag()\u001b[39m      masks \u001b[34mstats\u001b[39m::lag()\n",
      "\u001b[31m✖\u001b[39m \u001b[34myardstick\u001b[39m::\u001b[32mspec()\u001b[39m masks \u001b[34mreadr\u001b[39m::spec()\n",
      "\u001b[31m✖\u001b[39m \u001b[34mrecipes\u001b[39m::\u001b[32mstep()\u001b[39m   masks \u001b[34mstats\u001b[39m::step()\n",
      "\n",
      "Registered S3 method overwritten by 'GGally':\n",
      "  method from   \n",
      "  +.gg   ggplot2\n",
      "\n"
     ]
    }
   ],
   "source": [
    "library(tidyverse)\n",
    "library(repr)\n",
    "library(tidymodels)\n",
    "library(GGally)\n",
    "options(repr.matrix.max.rows = 9)"
   ]
  },
  {
   "cell_type": "code",
   "execution_count": 2,
   "metadata": {},
   "outputs": [
    {
     "name": "stderr",
     "output_type": "stream",
     "text": [
      "Parsed with column specification:\n",
      "cols(\n",
      "  Temp = \u001b[32mcol_double()\u001b[39m,\n",
      "  Humid = \u001b[32mcol_double()\u001b[39m,\n",
      "  Wind_Spd = \u001b[32mcol_double()\u001b[39m,\n",
      "  Vis = \u001b[32mcol_double()\u001b[39m,\n",
      "  Press = \u001b[32mcol_double()\u001b[39m,\n",
      "  Weather = \u001b[31mcol_character()\u001b[39m\n",
      ")\n",
      "\n"
     ]
    },
    {
     "data": {
      "text/html": [
       "<table>\n",
       "<caption>A spec_tbl_df: 3914 × 6</caption>\n",
       "<thead>\n",
       "\t<tr><th scope=col>Temp</th><th scope=col>Humid</th><th scope=col>Wind_Spd</th><th scope=col>Vis</th><th scope=col>Press</th><th scope=col>Weather</th></tr>\n",
       "\t<tr><th scope=col>&lt;dbl&gt;</th><th scope=col>&lt;dbl&gt;</th><th scope=col>&lt;dbl&gt;</th><th scope=col>&lt;dbl&gt;</th><th scope=col>&lt;dbl&gt;</th><th scope=col>&lt;chr&gt;</th></tr>\n",
       "</thead>\n",
       "<tbody>\n",
       "\t<tr><td>12.8</td><td>100</td><td> 4</td><td>32.2</td><td>101.78</td><td>Mostly Cloudy</td></tr>\n",
       "\t<tr><td>10.4</td><td>100</td><td> 4</td><td>32.2</td><td>101.72</td><td>Mostly Cloudy</td></tr>\n",
       "\t<tr><td>15.3</td><td> 80</td><td> 3</td><td>48.3</td><td>101.72</td><td>Mostly Cloudy</td></tr>\n",
       "\t<tr><td>16.8</td><td> 85</td><td>19</td><td>48.3</td><td>101.65</td><td>Mostly Cloudy</td></tr>\n",
       "\t<tr><td>17.2</td><td> 84</td><td>18</td><td>48.3</td><td>101.54</td><td>Cloudy       </td></tr>\n",
       "\t<tr><td>⋮</td><td>⋮</td><td>⋮</td><td>⋮</td><td>⋮</td><td>⋮</td></tr>\n",
       "\t<tr><td>15.7</td><td>81</td><td>12</td><td>32.2</td><td>102.19</td><td>Cloudy       </td></tr>\n",
       "\t<tr><td>17.3</td><td>72</td><td> 9</td><td>48.3</td><td>102.19</td><td>Mostly Cloudy</td></tr>\n",
       "\t<tr><td>16.4</td><td>69</td><td>15</td><td>32.2</td><td>102.14</td><td>Mainly Clear </td></tr>\n",
       "\t<tr><td>14.6</td><td>83</td><td>13</td><td>32.2</td><td>102.24</td><td>Mostly Cloudy</td></tr>\n",
       "</tbody>\n",
       "</table>\n"
      ],
      "text/latex": [
       "A spec\\_tbl\\_df: 3914 × 6\n",
       "\\begin{tabular}{llllll}\n",
       " Temp & Humid & Wind\\_Spd & Vis & Press & Weather\\\\\n",
       " <dbl> & <dbl> & <dbl> & <dbl> & <dbl> & <chr>\\\\\n",
       "\\hline\n",
       "\t 12.8 & 100 &  4 & 32.2 & 101.78 & Mostly Cloudy\\\\\n",
       "\t 10.4 & 100 &  4 & 32.2 & 101.72 & Mostly Cloudy\\\\\n",
       "\t 15.3 &  80 &  3 & 48.3 & 101.72 & Mostly Cloudy\\\\\n",
       "\t 16.8 &  85 & 19 & 48.3 & 101.65 & Mostly Cloudy\\\\\n",
       "\t 17.2 &  84 & 18 & 48.3 & 101.54 & Cloudy       \\\\\n",
       "\t ⋮ & ⋮ & ⋮ & ⋮ & ⋮ & ⋮\\\\\n",
       "\t 15.7 & 81 & 12 & 32.2 & 102.19 & Cloudy       \\\\\n",
       "\t 17.3 & 72 &  9 & 48.3 & 102.19 & Mostly Cloudy\\\\\n",
       "\t 16.4 & 69 & 15 & 32.2 & 102.14 & Mainly Clear \\\\\n",
       "\t 14.6 & 83 & 13 & 32.2 & 102.24 & Mostly Cloudy\\\\\n",
       "\\end{tabular}\n"
      ],
      "text/markdown": [
       "\n",
       "A spec_tbl_df: 3914 × 6\n",
       "\n",
       "| Temp &lt;dbl&gt; | Humid &lt;dbl&gt; | Wind_Spd &lt;dbl&gt; | Vis &lt;dbl&gt; | Press &lt;dbl&gt; | Weather &lt;chr&gt; |\n",
       "|---|---|---|---|---|---|\n",
       "| 12.8 | 100 |  4 | 32.2 | 101.78 | Mostly Cloudy |\n",
       "| 10.4 | 100 |  4 | 32.2 | 101.72 | Mostly Cloudy |\n",
       "| 15.3 |  80 |  3 | 48.3 | 101.72 | Mostly Cloudy |\n",
       "| 16.8 |  85 | 19 | 48.3 | 101.65 | Mostly Cloudy |\n",
       "| 17.2 |  84 | 18 | 48.3 | 101.54 | Cloudy        |\n",
       "| ⋮ | ⋮ | ⋮ | ⋮ | ⋮ | ⋮ |\n",
       "| 15.7 | 81 | 12 | 32.2 | 102.19 | Cloudy        |\n",
       "| 17.3 | 72 |  9 | 48.3 | 102.19 | Mostly Cloudy |\n",
       "| 16.4 | 69 | 15 | 32.2 | 102.14 | Mainly Clear  |\n",
       "| 14.6 | 83 | 13 | 32.2 | 102.24 | Mostly Cloudy |\n",
       "\n"
      ],
      "text/plain": [
       "     Temp Humid Wind_Spd Vis  Press  Weather      \n",
       "1    12.8 100    4       32.2 101.78 Mostly Cloudy\n",
       "2    10.4 100    4       32.2 101.72 Mostly Cloudy\n",
       "3    15.3  80    3       48.3 101.72 Mostly Cloudy\n",
       "4    16.8  85   19       48.3 101.65 Mostly Cloudy\n",
       "5    17.2  84   18       48.3 101.54 Cloudy       \n",
       "⋮    ⋮    ⋮     ⋮        ⋮    ⋮      ⋮            \n",
       "3911 15.7 81    12       32.2 102.19 Cloudy       \n",
       "3912 17.3 72     9       48.3 102.19 Mostly Cloudy\n",
       "3913 16.4 69    15       32.2 102.14 Mainly Clear \n",
       "3914 14.6 83    13       32.2 102.24 Mostly Cloudy"
      ]
     },
     "metadata": {},
     "output_type": "display_data"
    },
    {
     "data": {
      "text/html": [
       "<table>\n",
       "<caption>A spec_tbl_df: 500 × 6</caption>\n",
       "<thead>\n",
       "\t<tr><th scope=col>Temp</th><th scope=col>Humid</th><th scope=col>Wind_Spd</th><th scope=col>Vis</th><th scope=col>Press</th><th scope=col>Weather</th></tr>\n",
       "\t<tr><th scope=col>&lt;dbl&gt;</th><th scope=col>&lt;dbl&gt;</th><th scope=col>&lt;dbl&gt;</th><th scope=col>&lt;dbl&gt;</th><th scope=col>&lt;dbl&gt;</th><th scope=col>&lt;fct&gt;</th></tr>\n",
       "</thead>\n",
       "<tbody>\n",
       "\t<tr><td>15.9</td><td>81</td><td>18</td><td>48.3</td><td>100.73</td><td>Rain Showers </td></tr>\n",
       "\t<tr><td>12.0</td><td>84</td><td>28</td><td>32.2</td><td>101.89</td><td>Mostly Cloudy</td></tr>\n",
       "\t<tr><td>15.3</td><td>96</td><td>21</td><td>24.1</td><td>100.54</td><td>Rain         </td></tr>\n",
       "\t<tr><td>15.6</td><td>77</td><td>16</td><td>48.3</td><td>101.49</td><td>Mostly Cloudy</td></tr>\n",
       "\t<tr><td>19.0</td><td>74</td><td>11</td><td>48.3</td><td>101.18</td><td>Cloudy       </td></tr>\n",
       "\t<tr><td>⋮</td><td>⋮</td><td>⋮</td><td>⋮</td><td>⋮</td><td>⋮</td></tr>\n",
       "\t<tr><td>13.1</td><td>83</td><td> 8</td><td>32.2</td><td>102.08</td><td>Mainly Clear </td></tr>\n",
       "\t<tr><td>18.6</td><td>79</td><td>18</td><td>48.3</td><td>100.48</td><td>Mostly Cloudy</td></tr>\n",
       "\t<tr><td>18.6</td><td>79</td><td>18</td><td>48.3</td><td>100.48</td><td>Mostly Cloudy</td></tr>\n",
       "\t<tr><td>19.7</td><td>59</td><td>16</td><td>48.3</td><td>100.51</td><td>Mostly Cloudy</td></tr>\n",
       "</tbody>\n",
       "</table>\n"
      ],
      "text/latex": [
       "A spec\\_tbl\\_df: 500 × 6\n",
       "\\begin{tabular}{llllll}\n",
       " Temp & Humid & Wind\\_Spd & Vis & Press & Weather\\\\\n",
       " <dbl> & <dbl> & <dbl> & <dbl> & <dbl> & <fct>\\\\\n",
       "\\hline\n",
       "\t 15.9 & 81 & 18 & 48.3 & 100.73 & Rain Showers \\\\\n",
       "\t 12.0 & 84 & 28 & 32.2 & 101.89 & Mostly Cloudy\\\\\n",
       "\t 15.3 & 96 & 21 & 24.1 & 100.54 & Rain         \\\\\n",
       "\t 15.6 & 77 & 16 & 48.3 & 101.49 & Mostly Cloudy\\\\\n",
       "\t 19.0 & 74 & 11 & 48.3 & 101.18 & Cloudy       \\\\\n",
       "\t ⋮ & ⋮ & ⋮ & ⋮ & ⋮ & ⋮\\\\\n",
       "\t 13.1 & 83 &  8 & 32.2 & 102.08 & Mainly Clear \\\\\n",
       "\t 18.6 & 79 & 18 & 48.3 & 100.48 & Mostly Cloudy\\\\\n",
       "\t 18.6 & 79 & 18 & 48.3 & 100.48 & Mostly Cloudy\\\\\n",
       "\t 19.7 & 59 & 16 & 48.3 & 100.51 & Mostly Cloudy\\\\\n",
       "\\end{tabular}\n"
      ],
      "text/markdown": [
       "\n",
       "A spec_tbl_df: 500 × 6\n",
       "\n",
       "| Temp &lt;dbl&gt; | Humid &lt;dbl&gt; | Wind_Spd &lt;dbl&gt; | Vis &lt;dbl&gt; | Press &lt;dbl&gt; | Weather &lt;fct&gt; |\n",
       "|---|---|---|---|---|---|\n",
       "| 15.9 | 81 | 18 | 48.3 | 100.73 | Rain Showers  |\n",
       "| 12.0 | 84 | 28 | 32.2 | 101.89 | Mostly Cloudy |\n",
       "| 15.3 | 96 | 21 | 24.1 | 100.54 | Rain          |\n",
       "| 15.6 | 77 | 16 | 48.3 | 101.49 | Mostly Cloudy |\n",
       "| 19.0 | 74 | 11 | 48.3 | 101.18 | Cloudy        |\n",
       "| ⋮ | ⋮ | ⋮ | ⋮ | ⋮ | ⋮ |\n",
       "| 13.1 | 83 |  8 | 32.2 | 102.08 | Mainly Clear  |\n",
       "| 18.6 | 79 | 18 | 48.3 | 100.48 | Mostly Cloudy |\n",
       "| 18.6 | 79 | 18 | 48.3 | 100.48 | Mostly Cloudy |\n",
       "| 19.7 | 59 | 16 | 48.3 | 100.51 | Mostly Cloudy |\n",
       "\n"
      ],
      "text/plain": [
       "    Temp Humid Wind_Spd Vis  Press  Weather      \n",
       "1   15.9 81    18       48.3 100.73 Rain Showers \n",
       "2   12.0 84    28       32.2 101.89 Mostly Cloudy\n",
       "3   15.3 96    21       24.1 100.54 Rain         \n",
       "4   15.6 77    16       48.3 101.49 Mostly Cloudy\n",
       "5   19.0 74    11       48.3 101.18 Cloudy       \n",
       "⋮   ⋮    ⋮     ⋮        ⋮    ⋮      ⋮            \n",
       "497 13.1 83     8       32.2 102.08 Mainly Clear \n",
       "498 18.6 79    18       48.3 100.48 Mostly Cloudy\n",
       "499 18.6 79    18       48.3 100.48 Mostly Cloudy\n",
       "500 19.7 59    16       48.3 100.51 Mostly Cloudy"
      ]
     },
     "metadata": {},
     "output_type": "display_data"
    }
   ],
   "source": [
    "set.seed(2022) #we need this to make our code reproducible, since sample is a random function\n",
    "\n",
    "weather_data <- read_csv(\"https://raw.githubusercontent.com/hyunseokjg/DSCI100-Group15-Project/main/data/testing_set.csv\")\n",
    "weather_data\n",
    "\n",
    "#Let's remove the very rare weather classes for simplicity and so we do not overreppresent them when we balance our data\n",
    "\n",
    "filtered_weather_data <- weather_data %>%\n",
    "    filter(Weather != \"Heavy Rain\", \n",
    "           Weather != \"Moderate Rain\",\n",
    "           Weather != \"Clear\",\n",
    "           Weather != \"Moderate Rain,Fog\") %>%\n",
    "    mutate(Weather = as_factor(Weather)) %>%\n",
    "    sample_n(500)\n",
    "filtered_weather_data\n",
    "\n",
    "#Now we can split our dataset into training and testing sets using the initial_split function so we don't create our model with the same\n",
    "#data that we will use to test it later on.\n",
    "\n",
    "weather_split <- initial_split(filtered_weather_data, prop = 0.75, strata = Weather)\n",
    "weather_train = training(weather_split)\n",
    "weather_test = testing(weather_split)"
   ]
  },
  {
   "cell_type": "code",
   "execution_count": 3,
   "metadata": {},
   "outputs": [
    {
     "name": "stderr",
     "output_type": "stream",
     "text": [
      "`summarise()` ungrouping output (override with `.groups` argument)\n",
      "\n"
     ]
    },
    {
     "data": {
      "text/html": [
       "<table>\n",
       "<caption>A tibble: 5 × 3</caption>\n",
       "<thead>\n",
       "\t<tr><th scope=col>Weather</th><th scope=col>n</th><th scope=col>percent</th></tr>\n",
       "\t<tr><th scope=col>&lt;fct&gt;</th><th scope=col>&lt;int&gt;</th><th scope=col>&lt;dbl&gt;</th></tr>\n",
       "</thead>\n",
       "<tbody>\n",
       "\t<tr><td>Mostly Cloudy</td><td>113</td><td>29.97347</td></tr>\n",
       "\t<tr><td>Cloudy       </td><td> 84</td><td>22.28117</td></tr>\n",
       "\t<tr><td>Rain Showers </td><td> 30</td><td> 7.95756</td></tr>\n",
       "\t<tr><td>Rain         </td><td>103</td><td>27.32095</td></tr>\n",
       "\t<tr><td>Mainly Clear </td><td> 47</td><td>12.46684</td></tr>\n",
       "</tbody>\n",
       "</table>\n"
      ],
      "text/latex": [
       "A tibble: 5 × 3\n",
       "\\begin{tabular}{lll}\n",
       " Weather & n & percent\\\\\n",
       " <fct> & <int> & <dbl>\\\\\n",
       "\\hline\n",
       "\t Mostly Cloudy & 113 & 29.97347\\\\\n",
       "\t Cloudy        &  84 & 22.28117\\\\\n",
       "\t Rain Showers  &  30 &  7.95756\\\\\n",
       "\t Rain          & 103 & 27.32095\\\\\n",
       "\t Mainly Clear  &  47 & 12.46684\\\\\n",
       "\\end{tabular}\n"
      ],
      "text/markdown": [
       "\n",
       "A tibble: 5 × 3\n",
       "\n",
       "| Weather &lt;fct&gt; | n &lt;int&gt; | percent &lt;dbl&gt; |\n",
       "|---|---|---|\n",
       "| Mostly Cloudy | 113 | 29.97347 |\n",
       "| Cloudy        |  84 | 22.28117 |\n",
       "| Rain Showers  |  30 |  7.95756 |\n",
       "| Rain          | 103 | 27.32095 |\n",
       "| Mainly Clear  |  47 | 12.46684 |\n",
       "\n"
      ],
      "text/plain": [
       "  Weather       n   percent \n",
       "1 Mostly Cloudy 113 29.97347\n",
       "2 Cloudy         84 22.28117\n",
       "3 Rain Showers   30  7.95756\n",
       "4 Rain          103 27.32095\n",
       "5 Mainly Clear   47 12.46684"
      ]
     },
     "metadata": {},
     "output_type": "display_data"
    }
   ],
   "source": [
    "#check to see if proportions of data are close enough to use or if we should scale up some\n",
    "#of the other weather classifications\n",
    "\n",
    "number_rows <- nrow(weather_train)\n",
    "\n",
    "proportions <- weather_train %>%\n",
    "    group_by(Weather) %>%\n",
    "    summarize(n = n()) %>%\n",
    "    mutate(percent = 100*n/number_rows)\n",
    "proportions"
   ]
  },
  {
   "cell_type": "code",
   "execution_count": 4,
   "metadata": {},
   "outputs": [
    {
     "data": {
      "text/html": [
       "<table>\n",
       "<caption>A tibble: 30 × 7</caption>\n",
       "<thead>\n",
       "\t<tr><th scope=col>neighbors</th><th scope=col>.metric</th><th scope=col>.estimator</th><th scope=col>mean</th><th scope=col>n</th><th scope=col>std_err</th><th scope=col>.config</th></tr>\n",
       "\t<tr><th scope=col>&lt;int&gt;</th><th scope=col>&lt;chr&gt;</th><th scope=col>&lt;chr&gt;</th><th scope=col>&lt;dbl&gt;</th><th scope=col>&lt;int&gt;</th><th scope=col>&lt;dbl&gt;</th><th scope=col>&lt;chr&gt;</th></tr>\n",
       "</thead>\n",
       "<tbody>\n",
       "\t<tr><td>1</td><td>accuracy</td><td>multiclass</td><td>0.8886205</td><td>5</td><td>0.02369216</td><td>Model01</td></tr>\n",
       "\t<tr><td>2</td><td>accuracy</td><td>multiclass</td><td>0.8886205</td><td>5</td><td>0.02369216</td><td>Model02</td></tr>\n",
       "\t<tr><td>3</td><td>accuracy</td><td>multiclass</td><td>0.7347412</td><td>5</td><td>0.02311859</td><td>Model03</td></tr>\n",
       "\t<tr><td>4</td><td>accuracy</td><td>multiclass</td><td>0.6975389</td><td>5</td><td>0.01000804</td><td>Model04</td></tr>\n",
       "\t<tr><td>5</td><td>accuracy</td><td>multiclass</td><td>0.6392444</td><td>5</td><td>0.01326991</td><td>Model05</td></tr>\n",
       "\t<tr><td>⋮</td><td>⋮</td><td>⋮</td><td>⋮</td><td>⋮</td><td>⋮</td><td>⋮</td></tr>\n",
       "\t<tr><td>27</td><td>accuracy</td><td>multiclass</td><td>0.4379211</td><td>5</td><td>0.01305325</td><td>Model27</td></tr>\n",
       "\t<tr><td>28</td><td>accuracy</td><td>multiclass</td><td>0.4326561</td><td>5</td><td>0.01232313</td><td>Model28</td></tr>\n",
       "\t<tr><td>29</td><td>accuracy</td><td>multiclass</td><td>0.4272886</td><td>5</td><td>0.00917682</td><td>Model29</td></tr>\n",
       "\t<tr><td>30</td><td>accuracy</td><td>multiclass</td><td>0.4326570</td><td>5</td><td>0.01165451</td><td>Model30</td></tr>\n",
       "</tbody>\n",
       "</table>\n"
      ],
      "text/latex": [
       "A tibble: 30 × 7\n",
       "\\begin{tabular}{lllllll}\n",
       " neighbors & .metric & .estimator & mean & n & std\\_err & .config\\\\\n",
       " <int> & <chr> & <chr> & <dbl> & <int> & <dbl> & <chr>\\\\\n",
       "\\hline\n",
       "\t 1 & accuracy & multiclass & 0.8886205 & 5 & 0.02369216 & Model01\\\\\n",
       "\t 2 & accuracy & multiclass & 0.8886205 & 5 & 0.02369216 & Model02\\\\\n",
       "\t 3 & accuracy & multiclass & 0.7347412 & 5 & 0.02311859 & Model03\\\\\n",
       "\t 4 & accuracy & multiclass & 0.6975389 & 5 & 0.01000804 & Model04\\\\\n",
       "\t 5 & accuracy & multiclass & 0.6392444 & 5 & 0.01326991 & Model05\\\\\n",
       "\t ⋮ & ⋮ & ⋮ & ⋮ & ⋮ & ⋮ & ⋮\\\\\n",
       "\t 27 & accuracy & multiclass & 0.4379211 & 5 & 0.01305325 & Model27\\\\\n",
       "\t 28 & accuracy & multiclass & 0.4326561 & 5 & 0.01232313 & Model28\\\\\n",
       "\t 29 & accuracy & multiclass & 0.4272886 & 5 & 0.00917682 & Model29\\\\\n",
       "\t 30 & accuracy & multiclass & 0.4326570 & 5 & 0.01165451 & Model30\\\\\n",
       "\\end{tabular}\n"
      ],
      "text/markdown": [
       "\n",
       "A tibble: 30 × 7\n",
       "\n",
       "| neighbors &lt;int&gt; | .metric &lt;chr&gt; | .estimator &lt;chr&gt; | mean &lt;dbl&gt; | n &lt;int&gt; | std_err &lt;dbl&gt; | .config &lt;chr&gt; |\n",
       "|---|---|---|---|---|---|---|\n",
       "| 1 | accuracy | multiclass | 0.8886205 | 5 | 0.02369216 | Model01 |\n",
       "| 2 | accuracy | multiclass | 0.8886205 | 5 | 0.02369216 | Model02 |\n",
       "| 3 | accuracy | multiclass | 0.7347412 | 5 | 0.02311859 | Model03 |\n",
       "| 4 | accuracy | multiclass | 0.6975389 | 5 | 0.01000804 | Model04 |\n",
       "| 5 | accuracy | multiclass | 0.6392444 | 5 | 0.01326991 | Model05 |\n",
       "| ⋮ | ⋮ | ⋮ | ⋮ | ⋮ | ⋮ | ⋮ |\n",
       "| 27 | accuracy | multiclass | 0.4379211 | 5 | 0.01305325 | Model27 |\n",
       "| 28 | accuracy | multiclass | 0.4326561 | 5 | 0.01232313 | Model28 |\n",
       "| 29 | accuracy | multiclass | 0.4272886 | 5 | 0.00917682 | Model29 |\n",
       "| 30 | accuracy | multiclass | 0.4326570 | 5 | 0.01165451 | Model30 |\n",
       "\n"
      ],
      "text/plain": [
       "   neighbors .metric  .estimator mean      n std_err    .config\n",
       "1  1         accuracy multiclass 0.8886205 5 0.02369216 Model01\n",
       "2  2         accuracy multiclass 0.8886205 5 0.02369216 Model02\n",
       "3  3         accuracy multiclass 0.7347412 5 0.02311859 Model03\n",
       "4  4         accuracy multiclass 0.6975389 5 0.01000804 Model04\n",
       "5  5         accuracy multiclass 0.6392444 5 0.01326991 Model05\n",
       "⋮  ⋮         ⋮        ⋮          ⋮         ⋮ ⋮          ⋮      \n",
       "27 27        accuracy multiclass 0.4379211 5 0.01305325 Model27\n",
       "28 28        accuracy multiclass 0.4326561 5 0.01232313 Model28\n",
       "29 29        accuracy multiclass 0.4272886 5 0.00917682 Model29\n",
       "30 30        accuracy multiclass 0.4326570 5 0.01165451 Model30"
      ]
     },
     "metadata": {},
     "output_type": "display_data"
    }
   ],
   "source": [
    "set.seed(2022) #we need this to make our code reproducible because cross validation is a random process\n",
    "\n",
    "#we can see that not all classes are equal, so we will have to balance using scale_upsample in our recipe\n",
    "\n",
    "#make recipe and model with cross validation to find k\n",
    "\n",
    "weather_recipe <- recipe(Weather ~ ., data = weather_train) %>% \n",
    "    step_center(all_predictors()) %>%\n",
    "    step_scale(all_predictors())\n",
    "\n",
    "weather_knn <- nearest_neighbor(weight_func = \"rectangular\", neighbors = tune()) %>%\n",
    "    set_engine(\"kknn\") %>%\n",
    "    set_mode(\"classification\")\n",
    "\n",
    "weather_vfold <- vfold_cv(weather_train, v = 5, strata = Weather)\n",
    "\n",
    "k_grid <- tibble(neighbors = 1:30)\n",
    "\n",
    "weather_fit <- workflow() %>%\n",
    "    add_recipe(weather_recipe) %>%\n",
    "    add_model(weather_knn) %>%\n",
    "    tune_grid(resamples = weather_vfold, grid = k_grid) %>%\n",
    "    collect_metrics()\n",
    "\n",
    "#find accuracy for different values of k on our model\n",
    "\n",
    "weather_accuracy <- weather_fit %>%\n",
    "    filter(.metric == \"accuracy\")\n",
    "weather_accuracy\n"
   ]
  },
  {
   "cell_type": "code",
   "execution_count": 5,
   "metadata": {},
   "outputs": [
    {
     "data": {
      "image/png": "[encoded data removed]",
      "text/plain": [
       "plot without title"
      ]
     },
     "metadata": {
      "image/png": {
       "height": 480,
       "width": 720
      }
     },
     "output_type": "display_data"
    }
   ],
   "source": [
    "#create line plot with data points for accuracy estimate vs neighbors to find optimal k value\n",
    "#(looking for high accuracy estimate with high values of accuracy for nearby values of k as well)\n",
    "\n",
    "options(repr.plot.height = 8, repr.plot.width = 12)\n",
    "finding_k_plot <- ggplot(weather_accuracy, aes(x = neighbors, y = mean)) +\n",
    "    geom_point() +\n",
    "    geom_line() +\n",
    "    labs(x = \"Number of Neighbors\", y = \"Accuracy Estimate\",\n",
    "        title = \"Accuracy Estimates for Different Numbers of Neighbors\") +\n",
    "    theme(text = element_text(size = 20)) +\n",
    "    scale_x_continuous(breaks = 1:30)\n",
    "finding_k_plot"
   ]
  },
  {
   "cell_type": "code",
   "execution_count": 6,
   "metadata": {},
   "outputs": [],
   "source": [
    "#retrain our model with the newfound value of k and fit it to our training data\n",
    "\n",
    "#since k = 2 has the highest accuracy, we will use that in our new model\n",
    "\n",
    "weather_model <- nearest_neighbor(weight_func = \"rectangular\", neighbors = 2) %>% \n",
    "    set_engine(\"kknn\") %>%\n",
    "    set_mode(\"classification\")\n",
    "\n",
    "weather_fit_final <- workflow() %>%\n",
    "    add_recipe(weather_recipe) %>%\n",
    "    add_model(weather_model) %>%\n",
    "    fit(data = weather_train)"
   ]
  },
  {
   "cell_type": "code",
   "execution_count": 7,
   "metadata": {},
   "outputs": [
    {
     "data": {
      "text/html": [
       "<table>\n",
       "<caption>A tibble: 123 × 2</caption>\n",
       "<thead>\n",
       "\t<tr><th scope=col>.pred_class</th><th scope=col>Weather</th></tr>\n",
       "\t<tr><th scope=col>&lt;fct&gt;</th><th scope=col>&lt;fct&gt;</th></tr>\n",
       "</thead>\n",
       "<tbody>\n",
       "\t<tr><td>Mostly Cloudy</td><td>Mostly Cloudy</td></tr>\n",
       "\t<tr><td>Mostly Cloudy</td><td>Mostly Cloudy</td></tr>\n",
       "\t<tr><td>Cloudy       </td><td>Cloudy       </td></tr>\n",
       "\t<tr><td>Mainly Clear </td><td>Mainly Clear </td></tr>\n",
       "\t<tr><td>Rain Showers </td><td>Rain Showers </td></tr>\n",
       "\t<tr><td>⋮</td><td>⋮</td></tr>\n",
       "\t<tr><td>Mainly Clear </td><td>Mainly Clear </td></tr>\n",
       "\t<tr><td>Cloudy       </td><td>Cloudy       </td></tr>\n",
       "\t<tr><td>Mostly Cloudy</td><td>Mostly Cloudy</td></tr>\n",
       "\t<tr><td>Mostly Cloudy</td><td>Mostly Cloudy</td></tr>\n",
       "</tbody>\n",
       "</table>\n"
      ],
      "text/latex": [
       "A tibble: 123 × 2\n",
       "\\begin{tabular}{ll}\n",
       " .pred\\_class & Weather\\\\\n",
       " <fct> & <fct>\\\\\n",
       "\\hline\n",
       "\t Mostly Cloudy & Mostly Cloudy\\\\\n",
       "\t Mostly Cloudy & Mostly Cloudy\\\\\n",
       "\t Cloudy        & Cloudy       \\\\\n",
       "\t Mainly Clear  & Mainly Clear \\\\\n",
       "\t Rain Showers  & Rain Showers \\\\\n",
       "\t ⋮ & ⋮\\\\\n",
       "\t Mainly Clear  & Mainly Clear \\\\\n",
       "\t Cloudy        & Cloudy       \\\\\n",
       "\t Mostly Cloudy & Mostly Cloudy\\\\\n",
       "\t Mostly Cloudy & Mostly Cloudy\\\\\n",
       "\\end{tabular}\n"
      ],
      "text/markdown": [
       "\n",
       "A tibble: 123 × 2\n",
       "\n",
       "| .pred_class &lt;fct&gt; | Weather &lt;fct&gt; |\n",
       "|---|---|\n",
       "| Mostly Cloudy | Mostly Cloudy |\n",
       "| Mostly Cloudy | Mostly Cloudy |\n",
       "| Cloudy        | Cloudy        |\n",
       "| Mainly Clear  | Mainly Clear  |\n",
       "| Rain Showers  | Rain Showers  |\n",
       "| ⋮ | ⋮ |\n",
       "| Mainly Clear  | Mainly Clear  |\n",
       "| Cloudy        | Cloudy        |\n",
       "| Mostly Cloudy | Mostly Cloudy |\n",
       "| Mostly Cloudy | Mostly Cloudy |\n",
       "\n"
      ],
      "text/plain": [
       "    .pred_class   Weather      \n",
       "1   Mostly Cloudy Mostly Cloudy\n",
       "2   Mostly Cloudy Mostly Cloudy\n",
       "3   Cloudy        Cloudy       \n",
       "4   Mainly Clear  Mainly Clear \n",
       "5   Rain Showers  Rain Showers \n",
       "⋮   ⋮             ⋮            \n",
       "120 Mainly Clear  Mainly Clear \n",
       "121 Cloudy        Cloudy       \n",
       "122 Mostly Cloudy Mostly Cloudy\n",
       "123 Mostly Cloudy Mostly Cloudy"
      ]
     },
     "metadata": {},
     "output_type": "display_data"
    }
   ],
   "source": [
    "#we can now use our fitted model to predict the weather for our testing data set\n",
    "\n",
    "weather_predictions <- predict(weather_fit_final, weather_test) %>%\n",
    "    bind_cols(weather_test) %>%\n",
    "    select(.pred_class, Weather)\n",
    "weather_predictions"
   ]
  },
  {
   "cell_type": "code",
   "execution_count": 8,
   "metadata": {},
   "outputs": [
    {
     "data": {
      "text/html": [
       "<table>\n",
       "<caption>A tibble: 1 × 3</caption>\n",
       "<thead>\n",
       "\t<tr><th scope=col>.metric</th><th scope=col>.estimator</th><th scope=col>.estimate</th></tr>\n",
       "\t<tr><th scope=col>&lt;chr&gt;</th><th scope=col>&lt;chr&gt;</th><th scope=col>&lt;dbl&gt;</th></tr>\n",
       "</thead>\n",
       "<tbody>\n",
       "\t<tr><td>accuracy</td><td>multiclass</td><td>0.9268293</td></tr>\n",
       "</tbody>\n",
       "</table>\n"
      ],
      "text/latex": [
       "A tibble: 1 × 3\n",
       "\\begin{tabular}{lll}\n",
       " .metric & .estimator & .estimate\\\\\n",
       " <chr> & <chr> & <dbl>\\\\\n",
       "\\hline\n",
       "\t accuracy & multiclass & 0.9268293\\\\\n",
       "\\end{tabular}\n"
      ],
      "text/markdown": [
       "\n",
       "A tibble: 1 × 3\n",
       "\n",
       "| .metric &lt;chr&gt; | .estimator &lt;chr&gt; | .estimate &lt;dbl&gt; |\n",
       "|---|---|---|\n",
       "| accuracy | multiclass | 0.9268293 |\n",
       "\n"
      ],
      "text/plain": [
       "  .metric  .estimator .estimate\n",
       "1 accuracy multiclass 0.9268293"
      ]
     },
     "metadata": {},
     "output_type": "display_data"
    }
   ],
   "source": [
    "#we can use the metrics function to see how accurate our model was at predicting weather values \n",
    "#on the testing dataset\n",
    "\n",
    "weather_metrics <- weather_predictions %>%\n",
    "    metrics(truth = Weather, estimate = .pred_class) %>%\n",
    "    filter(.metric == \"accuracy\")\n",
    "weather_metrics"
   ]
  }
 ],
 "metadata": {
  "kernelspec": {
   "display_name": "R",
   "language": "R",
   "name": "ir"
  },
  "language_info": {
   "codemirror_mode": "r",
   "file_extension": ".r",
   "mimetype": "text/x-r-source",
   "name": "R",
   "pygments_lexer": "r",
   "version": "4.0.0"
  }
 },
 "nbformat": 4,
 "nbformat_minor": 4
}
