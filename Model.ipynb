{
 "cells": [
  {
   "cell_type": "code",
   "execution_count": 1,
   "metadata": {},
   "outputs": [
    {
     "name": "stderr",
     "output_type": "stream",
     "text": [
      "── \u001b[1mAttaching packages\u001b[22m ─────────────────────────────────────── tidyverse 1.3.0 ──\n",
      "\n",
      "\u001b[32m✔\u001b[39m \u001b[34mggplot2\u001b[39m 3.3.2     \u001b[32m✔\u001b[39m \u001b[34mpurrr  \u001b[39m 0.3.4\n",
      "\u001b[32m✔\u001b[39m \u001b[34mtibble \u001b[39m 3.0.3     \u001b[32m✔\u001b[39m \u001b[34mdplyr  \u001b[39m 1.0.2\n",
      "\u001b[32m✔\u001b[39m \u001b[34mtidyr  \u001b[39m 1.1.2     \u001b[32m✔\u001b[39m \u001b[34mstringr\u001b[39m 1.4.0\n",
      "\u001b[32m✔\u001b[39m \u001b[34mreadr  \u001b[39m 1.3.1     \u001b[32m✔\u001b[39m \u001b[34mforcats\u001b[39m 0.5.0\n",
      "\n",
      "Warning message:\n",
      "“package ‘ggplot2’ was built under R version 4.0.1”\n",
      "Warning message:\n",
      "“package ‘tibble’ was built under R version 4.0.2”\n",
      "Warning message:\n",
      "“package ‘tidyr’ was built under R version 4.0.2”\n",
      "Warning message:\n",
      "“package ‘dplyr’ was built under R version 4.0.2”\n",
      "── \u001b[1mConflicts\u001b[22m ────────────────────────────────────────── tidyverse_conflicts() ──\n",
      "\u001b[31m✖\u001b[39m \u001b[34mdplyr\u001b[39m::\u001b[32mfilter()\u001b[39m masks \u001b[34mstats\u001b[39m::filter()\n",
      "\u001b[31m✖\u001b[39m \u001b[34mdplyr\u001b[39m::\u001b[32mlag()\u001b[39m    masks \u001b[34mstats\u001b[39m::lag()\n",
      "\n",
      "Warning message:\n",
      "“package ‘tidymodels’ was built under R version 4.0.2”\n",
      "── \u001b[1mAttaching packages\u001b[22m ────────────────────────────────────── tidymodels 0.1.1 ──\n",
      "\n",
      "\u001b[32m✔\u001b[39m \u001b[34mbroom    \u001b[39m 0.7.0      \u001b[32m✔\u001b[39m \u001b[34mrecipes  \u001b[39m 0.1.13\n",
      "\u001b[32m✔\u001b[39m \u001b[34mdials    \u001b[39m 0.0.9      \u001b[32m✔\u001b[39m \u001b[34mrsample  \u001b[39m 0.0.7 \n",
      "\u001b[32m✔\u001b[39m \u001b[34minfer    \u001b[39m 0.5.4      \u001b[32m✔\u001b[39m \u001b[34mtune     \u001b[39m 0.1.1 \n",
      "\u001b[32m✔\u001b[39m \u001b[34mmodeldata\u001b[39m 0.0.2      \u001b[32m✔\u001b[39m \u001b[34mworkflows\u001b[39m 0.2.0 \n",
      "\u001b[32m✔\u001b[39m \u001b[34mparsnip  \u001b[39m 0.1.3      \u001b[32m✔\u001b[39m \u001b[34myardstick\u001b[39m 0.0.7 \n",
      "\n",
      "Warning message:\n",
      "“package ‘broom’ was built under R version 4.0.2”\n",
      "Warning message:\n",
      "“package ‘dials’ was built under R version 4.0.2”\n",
      "Warning message:\n",
      "“package ‘infer’ was built under R version 4.0.3”\n",
      "Warning message:\n",
      "“package ‘modeldata’ was built under R version 4.0.1”\n",
      "Warning message:\n",
      "“package ‘parsnip’ was built under R version 4.0.2”\n",
      "Warning message:\n",
      "“package ‘recipes’ was built under R version 4.0.1”\n",
      "Warning message:\n",
      "“package ‘tune’ was built under R version 4.0.2”\n",
      "Warning message:\n",
      "“package ‘workflows’ was built under R version 4.0.2”\n",
      "Warning message:\n",
      "“package ‘yardstick’ was built under R version 4.0.2”\n",
      "── \u001b[1mConflicts\u001b[22m ───────────────────────────────────────── tidymodels_conflicts() ──\n",
      "\u001b[31m✖\u001b[39m \u001b[34mscales\u001b[39m::\u001b[32mdiscard()\u001b[39m masks \u001b[34mpurrr\u001b[39m::discard()\n",
      "\u001b[31m✖\u001b[39m \u001b[34mdplyr\u001b[39m::\u001b[32mfilter()\u001b[39m   masks \u001b[34mstats\u001b[39m::filter()\n",
      "\u001b[31m✖\u001b[39m \u001b[34mrecipes\u001b[39m::\u001b[32mfixed()\u001b[39m  masks \u001b[34mstringr\u001b[39m::fixed()\n",
      "\u001b[31m✖\u001b[39m \u001b[34mdplyr\u001b[39m::\u001b[32mlag()\u001b[39m      masks \u001b[34mstats\u001b[39m::lag()\n",
      "\u001b[31m✖\u001b[39m \u001b[34myardstick\u001b[39m::\u001b[32mspec()\u001b[39m masks \u001b[34mreadr\u001b[39m::spec()\n",
      "\u001b[31m✖\u001b[39m \u001b[34mrecipes\u001b[39m::\u001b[32mstep()\u001b[39m   masks \u001b[34mstats\u001b[39m::step()\n",
      "\n"
     ]
    }
   ],
   "source": [
    "library(tidyverse)\n",
    "library(repr)\n",
    "library(tidymodels)\n",
    "options(repr.matrix.max.rows = 6)"
   ]
  },
  {
   "cell_type": "code",
   "execution_count": 2,
   "metadata": {},
   "outputs": [
    {
     "name": "stderr",
     "output_type": "stream",
     "text": [
      "Parsed with column specification:\n",
      "cols(\n",
      "  Temp = \u001b[32mcol_double()\u001b[39m,\n",
      "  Humid = \u001b[32mcol_double()\u001b[39m,\n",
      "  Wind_Spd = \u001b[32mcol_double()\u001b[39m,\n",
      "  Vis = \u001b[32mcol_double()\u001b[39m,\n",
      "  Press = \u001b[32mcol_double()\u001b[39m,\n",
      "  Weather = \u001b[31mcol_character()\u001b[39m\n",
      ")\n",
      "\n"
     ]
    },
    {
     "data": {
      "text/html": [
       "<table>\n",
       "<caption>A spec_tbl_df: 3914 × 6</caption>\n",
       "<thead>\n",
       "\t<tr><th scope=col>Temp</th><th scope=col>Humid</th><th scope=col>Wind_Spd</th><th scope=col>Vis</th><th scope=col>Press</th><th scope=col>Weather</th></tr>\n",
       "\t<tr><th scope=col>&lt;dbl&gt;</th><th scope=col>&lt;dbl&gt;</th><th scope=col>&lt;dbl&gt;</th><th scope=col>&lt;dbl&gt;</th><th scope=col>&lt;dbl&gt;</th><th scope=col>&lt;chr&gt;</th></tr>\n",
       "</thead>\n",
       "<tbody>\n",
       "\t<tr><td>12.8</td><td>100</td><td>4</td><td>32.2</td><td>101.78</td><td>Mostly Cloudy</td></tr>\n",
       "\t<tr><td>10.4</td><td>100</td><td>4</td><td>32.2</td><td>101.72</td><td>Mostly Cloudy</td></tr>\n",
       "\t<tr><td>15.3</td><td> 80</td><td>3</td><td>48.3</td><td>101.72</td><td>Mostly Cloudy</td></tr>\n",
       "\t<tr><td>⋮</td><td>⋮</td><td>⋮</td><td>⋮</td><td>⋮</td><td>⋮</td></tr>\n",
       "\t<tr><td>17.3</td><td>72</td><td> 9</td><td>48.3</td><td>102.19</td><td>Mostly Cloudy</td></tr>\n",
       "\t<tr><td>16.4</td><td>69</td><td>15</td><td>32.2</td><td>102.14</td><td>Mainly Clear </td></tr>\n",
       "\t<tr><td>14.6</td><td>83</td><td>13</td><td>32.2</td><td>102.24</td><td>Mostly Cloudy</td></tr>\n",
       "</tbody>\n",
       "</table>\n"
      ],
      "text/latex": [
       "A spec\\_tbl\\_df: 3914 × 6\n",
       "\\begin{tabular}{llllll}\n",
       " Temp & Humid & Wind\\_Spd & Vis & Press & Weather\\\\\n",
       " <dbl> & <dbl> & <dbl> & <dbl> & <dbl> & <chr>\\\\\n",
       "\\hline\n",
       "\t 12.8 & 100 & 4 & 32.2 & 101.78 & Mostly Cloudy\\\\\n",
       "\t 10.4 & 100 & 4 & 32.2 & 101.72 & Mostly Cloudy\\\\\n",
       "\t 15.3 &  80 & 3 & 48.3 & 101.72 & Mostly Cloudy\\\\\n",
       "\t ⋮ & ⋮ & ⋮ & ⋮ & ⋮ & ⋮\\\\\n",
       "\t 17.3 & 72 &  9 & 48.3 & 102.19 & Mostly Cloudy\\\\\n",
       "\t 16.4 & 69 & 15 & 32.2 & 102.14 & Mainly Clear \\\\\n",
       "\t 14.6 & 83 & 13 & 32.2 & 102.24 & Mostly Cloudy\\\\\n",
       "\\end{tabular}\n"
      ],
      "text/markdown": [
       "\n",
       "A spec_tbl_df: 3914 × 6\n",
       "\n",
       "| Temp &lt;dbl&gt; | Humid &lt;dbl&gt; | Wind_Spd &lt;dbl&gt; | Vis &lt;dbl&gt; | Press &lt;dbl&gt; | Weather &lt;chr&gt; |\n",
       "|---|---|---|---|---|---|\n",
       "| 12.8 | 100 | 4 | 32.2 | 101.78 | Mostly Cloudy |\n",
       "| 10.4 | 100 | 4 | 32.2 | 101.72 | Mostly Cloudy |\n",
       "| 15.3 |  80 | 3 | 48.3 | 101.72 | Mostly Cloudy |\n",
       "| ⋮ | ⋮ | ⋮ | ⋮ | ⋮ | ⋮ |\n",
       "| 17.3 | 72 |  9 | 48.3 | 102.19 | Mostly Cloudy |\n",
       "| 16.4 | 69 | 15 | 32.2 | 102.14 | Mainly Clear  |\n",
       "| 14.6 | 83 | 13 | 32.2 | 102.24 | Mostly Cloudy |\n",
       "\n"
      ],
      "text/plain": [
       "     Temp Humid Wind_Spd Vis  Press  Weather      \n",
       "1    12.8 100   4        32.2 101.78 Mostly Cloudy\n",
       "2    10.4 100   4        32.2 101.72 Mostly Cloudy\n",
       "3    15.3  80   3        48.3 101.72 Mostly Cloudy\n",
       "⋮    ⋮    ⋮     ⋮        ⋮    ⋮      ⋮            \n",
       "3912 17.3 72     9       48.3 102.19 Mostly Cloudy\n",
       "3913 16.4 69    15       32.2 102.14 Mainly Clear \n",
       "3914 14.6 83    13       32.2 102.24 Mostly Cloudy"
      ]
     },
     "metadata": {},
     "output_type": "display_data"
    }
   ],
   "source": [
    "weather_data <- read_csv(\"data/testing_set.csv\")\n",
    "weather_data\n",
    "\n",
    "\n",
    "weather_split <- initial_split(weather_data, prop = 0.75, strata = Weather)\n",
    "weather_train = training(weather_split)\n",
    "weather_test = testing(weather_split)"
   ]
  },
  {
   "cell_type": "code",
   "execution_count": 3,
   "metadata": {},
   "outputs": [
    {
     "name": "stderr",
     "output_type": "stream",
     "text": [
      "`summarise()` ungrouping output (override with `.groups` argument)\n",
      "\n"
     ]
    },
    {
     "data": {
      "text/html": [
       "<table>\n",
       "<caption>A tibble: 9 × 2</caption>\n",
       "<thead>\n",
       "\t<tr><th scope=col>Weather</th><th scope=col>n</th></tr>\n",
       "\t<tr><th scope=col>&lt;chr&gt;</th><th scope=col>&lt;int&gt;</th></tr>\n",
       "</thead>\n",
       "<tbody>\n",
       "\t<tr><td>Clear     </td><td> 73</td></tr>\n",
       "\t<tr><td>Cloudy    </td><td>623</td></tr>\n",
       "\t<tr><td>Heavy Rain</td><td> 13</td></tr>\n",
       "\t<tr><td>⋮</td><td>⋮</td></tr>\n",
       "\t<tr><td>Mostly Cloudy</td><td>803</td></tr>\n",
       "\t<tr><td>Rain         </td><td>773</td></tr>\n",
       "\t<tr><td>Rain Showers </td><td>233</td></tr>\n",
       "</tbody>\n",
       "</table>\n"
      ],
      "text/latex": [
       "A tibble: 9 × 2\n",
       "\\begin{tabular}{ll}\n",
       " Weather & n\\\\\n",
       " <chr> & <int>\\\\\n",
       "\\hline\n",
       "\t Clear      &  73\\\\\n",
       "\t Cloudy     & 623\\\\\n",
       "\t Heavy Rain &  13\\\\\n",
       "\t ⋮ & ⋮\\\\\n",
       "\t Mostly Cloudy & 803\\\\\n",
       "\t Rain          & 773\\\\\n",
       "\t Rain Showers  & 233\\\\\n",
       "\\end{tabular}\n"
      ],
      "text/markdown": [
       "\n",
       "A tibble: 9 × 2\n",
       "\n",
       "| Weather &lt;chr&gt; | n &lt;int&gt; |\n",
       "|---|---|\n",
       "| Clear      |  73 |\n",
       "| Cloudy     | 623 |\n",
       "| Heavy Rain |  13 |\n",
       "| ⋮ | ⋮ |\n",
       "| Mostly Cloudy | 803 |\n",
       "| Rain          | 773 |\n",
       "| Rain Showers  | 233 |\n",
       "\n"
      ],
      "text/plain": [
       "  Weather       n  \n",
       "1 Clear          73\n",
       "2 Cloudy        623\n",
       "3 Heavy Rain     13\n",
       "⋮ ⋮             ⋮  \n",
       "7 Mostly Cloudy 803\n",
       "8 Rain          773\n",
       "9 Rain Showers  233"
      ]
     },
     "metadata": {},
     "output_type": "display_data"
    },
    {
     "data": {
      "text/html": [
       "<table>\n",
       "<caption>A tibble: 10 × 7</caption>\n",
       "<thead>\n",
       "\t<tr><th scope=col>neighbors</th><th scope=col>.metric</th><th scope=col>.estimator</th><th scope=col>mean</th><th scope=col>n</th><th scope=col>std_err</th><th scope=col>.config</th></tr>\n",
       "\t<tr><th scope=col>&lt;int&gt;</th><th scope=col>&lt;chr&gt;</th><th scope=col>&lt;chr&gt;</th><th scope=col>&lt;dbl&gt;</th><th scope=col>&lt;int&gt;</th><th scope=col>&lt;dbl&gt;</th><th scope=col>&lt;chr&gt;</th></tr>\n",
       "</thead>\n",
       "<tbody>\n",
       "\t<tr><td>1</td><td>accuracy</td><td>multiclass</td><td>1</td><td>5</td><td>0</td><td>Model01</td></tr>\n",
       "\t<tr><td>2</td><td>accuracy</td><td>multiclass</td><td>1</td><td>5</td><td>0</td><td>Model02</td></tr>\n",
       "\t<tr><td>3</td><td>accuracy</td><td>multiclass</td><td>1</td><td>5</td><td>0</td><td>Model03</td></tr>\n",
       "\t<tr><td>⋮</td><td>⋮</td><td>⋮</td><td>⋮</td><td>⋮</td><td>⋮</td><td>⋮</td></tr>\n",
       "\t<tr><td> 8</td><td>accuracy</td><td>multiclass</td><td>1.0000000</td><td>5</td><td>0.000000000</td><td>Model08</td></tr>\n",
       "\t<tr><td> 9</td><td>accuracy</td><td>multiclass</td><td>0.9982964</td><td>5</td><td>0.001703578</td><td>Model09</td></tr>\n",
       "\t<tr><td>10</td><td>accuracy</td><td>multiclass</td><td>0.9982964</td><td>5</td><td>0.001703578</td><td>Model10</td></tr>\n",
       "</tbody>\n",
       "</table>\n"
      ],
      "text/latex": [
       "A tibble: 10 × 7\n",
       "\\begin{tabular}{lllllll}\n",
       " neighbors & .metric & .estimator & mean & n & std\\_err & .config\\\\\n",
       " <int> & <chr> & <chr> & <dbl> & <int> & <dbl> & <chr>\\\\\n",
       "\\hline\n",
       "\t 1 & accuracy & multiclass & 1 & 5 & 0 & Model01\\\\\n",
       "\t 2 & accuracy & multiclass & 1 & 5 & 0 & Model02\\\\\n",
       "\t 3 & accuracy & multiclass & 1 & 5 & 0 & Model03\\\\\n",
       "\t ⋮ & ⋮ & ⋮ & ⋮ & ⋮ & ⋮ & ⋮\\\\\n",
       "\t  8 & accuracy & multiclass & 1.0000000 & 5 & 0.000000000 & Model08\\\\\n",
       "\t  9 & accuracy & multiclass & 0.9982964 & 5 & 0.001703578 & Model09\\\\\n",
       "\t 10 & accuracy & multiclass & 0.9982964 & 5 & 0.001703578 & Model10\\\\\n",
       "\\end{tabular}\n"
      ],
      "text/markdown": [
       "\n",
       "A tibble: 10 × 7\n",
       "\n",
       "| neighbors &lt;int&gt; | .metric &lt;chr&gt; | .estimator &lt;chr&gt; | mean &lt;dbl&gt; | n &lt;int&gt; | std_err &lt;dbl&gt; | .config &lt;chr&gt; |\n",
       "|---|---|---|---|---|---|---|\n",
       "| 1 | accuracy | multiclass | 1 | 5 | 0 | Model01 |\n",
       "| 2 | accuracy | multiclass | 1 | 5 | 0 | Model02 |\n",
       "| 3 | accuracy | multiclass | 1 | 5 | 0 | Model03 |\n",
       "| ⋮ | ⋮ | ⋮ | ⋮ | ⋮ | ⋮ | ⋮ |\n",
       "|  8 | accuracy | multiclass | 1.0000000 | 5 | 0.000000000 | Model08 |\n",
       "|  9 | accuracy | multiclass | 0.9982964 | 5 | 0.001703578 | Model09 |\n",
       "| 10 | accuracy | multiclass | 0.9982964 | 5 | 0.001703578 | Model10 |\n",
       "\n"
      ],
      "text/plain": [
       "   neighbors .metric  .estimator mean      n std_err     .config\n",
       "1  1         accuracy multiclass 1         5 0           Model01\n",
       "2  2         accuracy multiclass 1         5 0           Model02\n",
       "3  3         accuracy multiclass 1         5 0           Model03\n",
       "⋮  ⋮         ⋮        ⋮          ⋮         ⋮ ⋮           ⋮      \n",
       "8   8        accuracy multiclass 1.0000000 5 0.000000000 Model08\n",
       "9   9        accuracy multiclass 0.9982964 5 0.001703578 Model09\n",
       "10 10        accuracy multiclass 0.9982964 5 0.001703578 Model10"
      ]
     },
     "metadata": {},
     "output_type": "display_data"
    },
    {
     "ename": "ERROR",
     "evalue": "Error in eval(lhs, parent, parent): '...' used in an incorrect context\n",
     "output_type": "error",
     "traceback": [
      "Error in eval(lhs, parent, parent): '...' used in an incorrect context\nTraceback:\n",
      "1. nearest_neighbor(weight_func = \"rectangular\", neighbors = ...) %>% \n .     set_engine(\"kknn\") %>% set_mode(\"classification\")",
      "2. eval(lhs, parent, parent)",
      "3. eval(lhs, parent, parent)"
     ]
    },
    {
     "data": {
      "image/png": "[encoded data removed]",
      "text/plain": [
       "plot without title"
      ]
     },
     "metadata": {
      "image/png": {
       "height": 480,
       "width": 720
      }
     },
     "output_type": "display_data"
    }
   ],
   "source": [
    "set.seed(2022)\n",
    "\n",
    "\n",
    "#check to see if proportions of data are close enough to use or if we should scale up / remove some\n",
    "#of the other weather classifications\n",
    "\n",
    "number_rows <- nrow(weather_train)\n",
    "\n",
    "proportions <- weather_train %>%\n",
    "    group_by(Weather) %>%\n",
    "    summarize(n = n())\n",
    "proportions\n",
    "\n",
    "#make recipe and model with cross validation to find k\n",
    "\n",
    "weather_recipe <- recipe(Weather ~ ., data = weather_train) %>%\n",
    "    step_center(all_predictors()) %>%\n",
    "    step_scale(all_predictors())\n",
    "\n",
    "weather_knn <- nearest_neighbor(weight_func = \"rectangular\", neighbors = tune()) %>%\n",
    "    set_engine(\"kknn\") %>%\n",
    "    set_mode(\"classification\")\n",
    "\n",
    "weather_vfold <- vfold_cv(weather_train, v = 5, strata = Weather)\n",
    "\n",
    "k_grid <- tibble(neighbors = 1:10)\n",
    "\n",
    "weather_fit <- workflow() %>%\n",
    "    add_recipe(weather_recipe) %>%\n",
    "    add_model(weather_knn) %>%\n",
    "    tune_grid(resamples = weather_vfold, grid = k_grid) %>%\n",
    "    collect_metrics()\n",
    "\n",
    "#find accuracy for different values of k on our model\n",
    "\n",
    "weather_accuracy <- weather_fit %>%\n",
    "    filter(.metric == \"accuracy\")\n",
    "weather_accuracy\n",
    "\n",
    "#create line plot with data points for accuracy estimate vs neighbors to find optimal k value\n",
    "#(looking for high accuracy estimate with high values of accuracy for nearby values of k as well)\n",
    "\n",
    "options(repr.plot.height = 8, repr.plot.width = 12)\n",
    "finding_k_plot <- ggplot(weather_accuracy, aes(x = neighbors, y = mean)) +\n",
    "    geom_point() +\n",
    "    geom_line() +\n",
    "    labs(x = \"Number of Neighbors\", y = \"Accuracy Estimate\",\n",
    "        title = \"Accuracy Estimates for Different Numbers of Neighbors\") +\n",
    "    theme(text = element_text(size = 20)) +\n",
    "    scale_x_continuous(breaks = 1:10)\n",
    "finding_k_plot\n",
    "\n",
    "#retrain our model with the newfound value of k and fit it to our training data\n",
    "\n",
    "weather_model <- nearest_neighbor(weight_func = \"rectangular\", neighbors = ...) %>%  ## must use value of k determined above\n",
    "    set_engine(\"kknn\") %>%\n",
    "    set_mode(\"classification\")\n",
    "\n",
    "weather_fit_final <- workflow() %>%\n",
    "    add_recipe(weather_recipe) %>%\n",
    "    add_model(weather_model) %>%\n",
    "    fit(data = weather_train)\n",
    "\n",
    "#we can now use our fitted model to predict the weather for our testing data set\n",
    "\n",
    "weather_predictions <- predict(weather_fit_final, weather_test) %>%\n",
    "    bind_cols(weather_test) %>%\n",
    "    select(.pred_class, Weather) %>%\n",
    "weather_predictions\n",
    "\n",
    "#we can use the metrics function to see how accurate our model was at predicting weather values \n",
    "#on the testing dataset\n",
    "\n",
    "weather_metrics <- weather_predictions %>%\n",
    "    metrics(truth = Weather, estimate = .pred_class) %>%\n",
    "    filter(.metric == \"accuracy\")\n",
    "weather_metrics"
   ]
  }
 ],
 "metadata": {
  "kernelspec": {
   "display_name": "R",
   "language": "R",
   "name": "ir"
  },
  "language_info": {
   "codemirror_mode": "r",
   "file_extension": ".r",
   "mimetype": "text/x-r-source",
   "name": "R",
   "pygments_lexer": "r",
   "version": "4.0.0"
  }
 },
 "nbformat": 4,
 "nbformat_minor": 4
}
